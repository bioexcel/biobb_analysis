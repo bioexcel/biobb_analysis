{
    "cells": [
        {
            "cell_type": "markdown",
            "metadata": {},
            "source": [
                "# BioBB Analysis Command Line Help"
            ]
        },
        {
            "cell_type": "markdown",
            "metadata": {},
            "source": [
                "Generic usage:"
            ]
        },
        {
            "cell_type": "code",
            "execution_count": null,
            "metadata": {},
            "outputs": [],
            "source": [
                "biobb_command [-h] --config CONFIG --input_file(s) <input_file(s)> --output_file <output_file>"
            ]
        },
        {
            "cell_type": "markdown",
            "metadata": {},
            "source": [
                "-----------------"
            ]
        },
        {
            "cell_type": "markdown",
            "metadata": {},
            "source": [
                "## Cpptraj average"
            ]
        },
        {
            "cell_type": "markdown",
            "metadata": {},
            "source": [
                "Calculates a structure average of a given cpptraj compatible trajectory."
            ]
        },
        {
            "cell_type": "markdown",
            "metadata": {},
            "source": [
                "### Get help"
            ]
        },
        {
            "cell_type": "markdown",
            "metadata": {},
            "source": [
                "Command:"
            ]
        },
        {
            "cell_type": "code",
            "execution_count": null,
            "metadata": {},
            "outputs": [],
            "source": [
                "cpptraj_average -h"
            ]
        },
        {
            "cell_type": "code",
            "execution_count": null,
            "metadata": {},
            "outputs": [],
            "source": [
                "usage: cpptraj_average [-h] [--config CONFIG] --input_top_path INPUT_TOP_PATH --input_traj_path INPUT_TRAJ_PATH --output_cpptraj_path OUTPUT_CPPTRAJ_PATH\n",
                "\n",
                "Calculates a structure average of a given cpptraj compatible trajectory.\n",
                "\n",
                "optional arguments:\n",
                "  -h, --help            show this help message and exit\n",
                "  --config CONFIG       Configuration file\n",
                "\n",
                "required arguments:\n",
                "  --input_top_path INPUT_TOP_PATH\n",
                "                        Path to the input structure or topology file. Accepted formats: top, pdb, prmtop, parmtop, zip.\n",
                "  --input_traj_path INPUT_TRAJ_PATH\n",
                "                        Path to the input trajectory to be processed. Accepted formats: crd, cdf, netcdf, restart, ncrestart, restartnc, dcd, charmm, cor, pdb, mol2, trr, gro, binpos, xtc, cif, arc, sqm, sdf, conflib.\n",
                "  --output_cpptraj_path OUTPUT_CPPTRAJ_PATH\n",
                "                        Path to the output processed structure."
            ]
        },
        {
            "cell_type": "markdown",
            "metadata": {},
            "source": [
                "### I / O Arguments"
            ]
        },
        {
            "cell_type": "markdown",
            "metadata": {},
            "source": [
                "Syntax: input_argument (datatype) : Definition\n",
                "\n",
                "Config input / output arguments for this building block:\n",
                "\n",
                "* **input_top_path** (*str*): Path to the input structure or topology file. File type: input. [Sample file](https://github.com/bioexcel/biobb_analysis/raw/master/biobb_analysis/test/data/ambertools/cpptraj.parm.top). Accepted formats: top, pdb, prmtop, parmtop, zip.\n",
                "* **input_traj_path** (*str*): Path to the input trajectory to be processed. File type: input. [Sample file](https://github.com/bioexcel/biobb_analysis/raw/master/biobb_analysis/test/data/ambertools/cpptraj.traj.dcd). Accepted formats: crd, cdf, netcdf, restart, ncrestart, restartnc, dcd, charmm, cor, pdb, mol2, trr, gro, binpos, xtc, cif, arc, sqm, sdf, conflib.\n",
                "* **output_cpptraj_path** (*str*): Path to the output processed structure. File type: output. [Sample file](https://github.com/bioexcel/biobb_analysis/raw/master/biobb_analysis/test/reference/ambertools/ref_cpptraj.average.pdb). Accepted formats: crd, netcdf, rst7, ncrst, dcd, pdb, mol2, binpos, trr, xtc, sqm."
            ]
        },
        {
            "cell_type": "markdown",
            "metadata": {},
            "source": [
                "### Config"
            ]
        },
        {
            "cell_type": "markdown",
            "metadata": {},
            "source": [
                "Syntax: input_parameter (datatype) - (default_value) Definition\n",
                "\n",
                "Config parameters for this building block:\n",
                "\n",
                "* **in_parameters** (*dict*) - (None) Parameters for input trajectory. Accepted parameters:\n",
                "    * **start** (*int*) - (1) Starting frame for slicing\n",
                "    * **end** (*int*) - (-1) Ending frame for slicing\n",
                "    * **step** (*int*) - (1) Step for slicing\n",
                "    * **mask** (*string*) - (\"all-atoms\") Mask definition. Values: c-alpha, backbone, all-atoms, heavy-atoms, side-chain, solute, ions, solvent.\n",
                "* **out_parameters** (*dict*) - (None) Parameters for output trajectory.\n",
                "    * **format** (*str*) - (\"netcdf\") Output trajectory format. Values: crd, cdf, netcdf, restart, ncrestart, restartnc, dcd, charmm, cor, pdb, mol2, trr, gro, binpos, xtc, cif, arc, sqm, sdf, conflib.\n",
                "* **cpptraj_path** (*str*) - (\"cpptraj\") Path to the cpptraj executable binary.\n",
                "* **remove_tmp** (*bool*) - (True) [WF property] Remove temporal files.\n",
                "* **restart** (*bool*) - (False) [WF property] Do not execute if output files exist.\n",
                "* **sandbox_path** (*str*) - (\"./\") [WF property] Parent path to the sandbox directory.\n",
                "* **container_path** (*string*) - (None) Container path definition.\n",
                "* **container_image** (*string*) - ('afandiadib/ambertools:serial') Container image definition.\n",
                "* **container_volume_path** (*string*) - ('/tmp') Container volume path definition.\n",
                "* **container_working_dir** (*string*) - (None) Container working directory definition.\n",
                "* **container_user_id** (*string*) - (None) Container user_id definition.\n",
                "* **container_shell_path** (*string*) - ('/bin/bash') Path to default shell inside the container."
            ]
        },
        {
            "cell_type": "markdown",
            "metadata": {},
            "source": [
                "### YAML"
            ]
        },
        {
            "cell_type": "markdown",
            "metadata": {},
            "source": [
                "#### Common config file"
            ]
        },
        {
            "cell_type": "code",
            "execution_count": null,
            "metadata": {},
            "outputs": [],
            "source": [
                "properties:\n",
                "  in_parameters:\n",
                "    start: 1\n",
                "    end: -1\n",
                "    step: 1\n",
                "    mask: c-alpha\n",
                "  out_parameters:\n",
                "    format: netcdf"
            ]
        },
        {
            "cell_type": "markdown",
            "metadata": {},
            "source": [
                "#### Docker config file"
            ]
        },
        {
            "cell_type": "code",
            "execution_count": null,
            "metadata": {},
            "outputs": [],
            "source": [
                "properties:\n",
                "  in_parameters:\n",
                "    start: 1\n",
                "    end: -1\n",
                "    step: 1\n",
                "    mask: c-alpha\n",
                "  out_parameters:\n",
                "    format: netcdf\n",
                "  container_path: docker\n",
                "  container_image: afandiadib/ambertools:serial\n",
                "  container_volume_path: /tmp"
            ]
        },
        {
            "cell_type": "markdown",
            "metadata": {},
            "source": [
                "#### Singularity config file"
            ]
        },
        {
            "cell_type": "code",
            "execution_count": null,
            "metadata": {},
            "outputs": [],
            "source": [
                "properties:\n",
                "  in_parameters:\n",
                "    start: 1\n",
                "    end: -1\n",
                "    step: 1\n",
                "    mask: c-alpha\n",
                "  out_parameters:\n",
                "    format: netcdf\n",
                "  container_path: singularity\n",
                "  container_image: shub://bioexcel/ambertools_singularity\n",
                "  container_volume_path: /tmp"
            ]
        },
        {
            "cell_type": "markdown",
            "metadata": {},
            "source": [
                "#### Command line"
            ]
        },
        {
            "cell_type": "code",
            "execution_count": null,
            "metadata": {},
            "outputs": [],
            "source": [
                "cpptraj_average --config data/conf/average.yml --input_top_path data/input/cpptraj.parm.top --input_traj_path data/input/cpptraj.traj.dcd --output_cpptraj_path data/output/output.average.netcdf"
            ]
        },
        {
            "cell_type": "markdown",
            "metadata": {},
            "source": [
                "### JSON"
            ]
        },
        {
            "cell_type": "markdown",
            "metadata": {},
            "source": [
                "#### Common config file"
            ]
        },
        {
            "cell_type": "code",
            "execution_count": null,
            "metadata": {},
            "outputs": [],
            "source": [
                "{\n",
                "  \"properties\": {\n",
                "    \"in_parameters\": {\n",
                "      \"start\": 1,\n",
                "      \"end\": -1,\n",
                "      \"step\": 1,\n",
                "      \"mask\": \"c-alpha\"\n",
                "    },\n",
                "    \"out_parameters\": {\n",
                "       \"format\": \"netcdf\"\n",
                "    }\n",
                "  }\n",
                "}"
            ]
        },
        {
            "cell_type": "markdown",
            "metadata": {},
            "source": [
                "#### Docker config file"
            ]
        },
        {
            "cell_type": "code",
            "execution_count": null,
            "metadata": {},
            "outputs": [],
            "source": [
                "{\n",
                "  \"properties\": {\n",
                "    \"in_parameters\": {\n",
                "      \"start\": 1,\n",
                "      \"end\": -1,\n",
                "      \"step\": 1,\n",
                "      \"mask\": \"c-alpha\"\n",
                "    },\n",
                "    \"out_parameters\": {\n",
                "       \"format\": \"netcdf\"\n",
                "    },\n",
                "    \"container_path\": \"docker\",\n",
                "    \"container_image\": \"afandiadib/ambertools:serial\",\n",
                "    \"container_volume_path\": \"/tmp\"\n",
                "  }\n",
                "}"
            ]
        },
        {
            "cell_type": "markdown",
            "metadata": {},
            "source": [
                "#### Singularity config file"
            ]
        },
        {
            "cell_type": "code",
            "execution_count": null,
            "metadata": {},
            "outputs": [],
            "source": [
                "{\n",
                "  \"properties\": {\n",
                "    \"in_parameters\": {\n",
                "      \"start\": 1,\n",
                "      \"end\": -1,\n",
                "      \"step\": 1,\n",
                "      \"mask\": \"c-alpha\"\n",
                "    },\n",
                "    \"out_parameters\": {\n",
                "       \"format\": \"netcdf\"\n",
                "    },\n",
                "    \"container_path\": \"singularity\",\n",
                "    \"container_image\": \"shub://bioexcel/ambertools_singularity\",\n",
                "    \"container_volume_path\": \"/tmp\"\n",
                "  }\n",
                "}"
            ]
        },
        {
            "cell_type": "markdown",
            "metadata": {},
            "source": [
                "#### Command line"
            ]
        },
        {
            "cell_type": "code",
            "execution_count": null,
            "metadata": {},
            "outputs": [],
            "source": [
                "cpptraj_average --config data/conf/average.json --input_top_path data/input/cpptraj.parm.top --input_traj_path data/input/cpptraj.traj.dcd --output_cpptraj_path data/output/output.average.netcdf"
            ]
        },
        {
            "cell_type": "markdown",
            "metadata": {},
            "source": [
                "## Cpptraj bfactor"
            ]
        },
        {
            "cell_type": "markdown",
            "metadata": {},
            "source": [
                "Calculates the Bfactor fluctuations of a given cpptraj compatible trajectory."
            ]
        },
        {
            "cell_type": "markdown",
            "metadata": {},
            "source": [
                "### Get help"
            ]
        },
        {
            "cell_type": "markdown",
            "metadata": {},
            "source": [
                "Command:"
            ]
        },
        {
            "cell_type": "code",
            "execution_count": null,
            "metadata": {},
            "outputs": [],
            "source": [
                "cpptraj_bfactor -h"
            ]
        },
        {
            "cell_type": "code",
            "execution_count": null,
            "metadata": {},
            "outputs": [],
            "source": [
                "usage: cpptraj_bfactor [-h] [--config CONFIG] --input_top_path INPUT_TOP_PATH --input_traj_path INPUT_TRAJ_PATH [--input_exp_path INPUT_EXP_PATH] --output_cpptraj_path OUTPUT_CPPTRAJ_PATH\n",
                "\n",
                "Calculates the Bfactor fluctuations of a given cpptraj compatible trajectory.\n",
                "\n",
                "optional arguments:\n",
                "  -h, --help            show this help message and exit\n",
                "  --config CONFIG       Configuration file\n",
                "  --input_exp_path INPUT_EXP_PATH\n",
                "                        Path to the experimental reference file (required if reference = experimental).\n",
                "\n",
                "required arguments:\n",
                "  --input_top_path INPUT_TOP_PATH\n",
                "                        Path to the input structure or topology file. Accepted formats: top, pdb, prmtop, parmtop, zip.\n",
                "  --input_traj_path INPUT_TRAJ_PATH\n",
                "                        Path to the input trajectory to be processed. Accepted formats: crd, cdf, netcdf, restart, ncrestart, restartnc, dcd, charmm, cor, pdb, mol2, trr, gro, binpos, xtc, cif, arc, sqm, sdf, conflib.\n",
                "  --output_cpptraj_path OUTPUT_CPPTRAJ_PATH\n",
                "                        Path to the output processed analysis."
            ]
        },
        {
            "cell_type": "markdown",
            "metadata": {},
            "source": [
                "### I / O Arguments"
            ]
        },
        {
            "cell_type": "markdown",
            "metadata": {},
            "source": [
                "Syntax: input_argument (datatype) : Definition\n",
                "\n",
                "Config input / output arguments for this building block:\n",
                "\n",
                "* **input_top_path** (*str*): Path to the input structure or topology file. File type: input. [Sample file](https://github.com/bioexcel/biobb_analysis/raw/master/biobb_analysis/test/data/ambertools/cpptraj.parm.top). Accepted formats: top, pdb, prmtop, parmtop, zip.\n",
                "* **input_traj_path** (*str*): Path to the input trajectory to be processed. File type: input. [Sample file](https://github.com/bioexcel/biobb_analysis/raw/master/biobb_analysis/test/data/ambertools/cpptraj.traj.dcd). Accepted formats: crd, cdf, netcdf, restart, ncrestart, restartnc, dcd, charmm, cor, pdb, mol2, trr, gro, binpos, xtc, cif, arc, sqm, sdf, conflib.\n",
                "* **input_exp_path** (*str*) (Optional): Path to the experimental reference file (required if reference = experimental). File type: input. [Sample file](https://github.com/bioexcel/biobb_analysis/raw/master/biobb_analysis/test/data/ambertools/experimental.1e5t.pdb). \n",
                "* **output_cpptraj_path** (*str*): Path to the output processed analysis. File type: output. [Sample file](https://github.com/bioexcel/biobb_analysis/raw/master/biobb_analysis/test/reference/ambertools/ref_cpptraj.bfactor.first.dat). Accepted formats: dat, agr, xmgr, gnu."
            ]
        },
        {
            "cell_type": "markdown",
            "metadata": {},
            "source": [
                "### Config"
            ]
        },
        {
            "cell_type": "markdown",
            "metadata": {},
            "source": [
                "Syntax: input_parameter (datatype) - (default_value) Definition\n",
                "\n",
                "Config parameters for this building block:\n",
                "\n",
                "* **in_parameters** (*dict*) - (None) Parameters for input trajectory. Accepted parameters:\n",
                "    * **start** (*int*) - (1) Starting frame for slicing\n",
                "    * **end** (*int*) - (-1) Ending frame for slicing\n",
                "    * **step** (*int*) - (1) Step for slicing\n",
                "    * **mask** (*string*) - (\"all-atoms\") Mask definition. Values: c-alpha, backbone, all-atoms, heavy-atoms, side-chain, solute, ions, solvent.\n",
                "    * **reference** (*string*) - (\"first\") Reference definition. Values: first, average, experimental.\n",
                "* **cpptraj_path** (*str*) - (\"cpptraj\") Path to the cpptraj executable binary.\n",
                "* **remove_tmp** (*bool*) - (True) [WF property] Remove temporal files.\n",
                "* **restart** (*bool*) - (False) [WF property] Do not execute if output files exist.\n",
                "* **sandbox_path** (*str*) - (\"./\") [WF property] Parent path to the sandbox directory.\n",
                "* **container_path** (*string*) - (None) Container path definition.\n",
                "* **container_image** (*string*) - ('afandiadib/ambertools:serial') Container image definition.\n",
                "* **container_volume_path** (*string*) - ('/tmp') Container volume path definition.\n",
                "* **container_working_dir** (*string*) - (None) Container working directory definition.\n",
                "* **container_user_id** (*string*) - (None) Container user_id definition.\n",
                "* **container_shell_path** (*string*) - ('/bin/bash') Path to default shell inside the container."
            ]
        },
        {
            "cell_type": "markdown",
            "metadata": {},
            "source": [
                "### YAML"
            ]
        },
        {
            "cell_type": "markdown",
            "metadata": {},
            "source": [
                "#### Common config file"
            ]
        },
        {
            "cell_type": "code",
            "execution_count": null,
            "metadata": {},
            "outputs": [],
            "source": [
                "properties:\n",
                "  in_parameters:\n",
                "    start: 1\n",
                "    end: -1\n",
                "    step: 1\n",
                "    mask: c-alpha\n",
                "    reference: first"
            ]
        },
        {
            "cell_type": "markdown",
            "metadata": {},
            "source": [
                "#### Docker config file"
            ]
        },
        {
            "cell_type": "code",
            "execution_count": null,
            "metadata": {},
            "outputs": [],
            "source": [
                "properties:\n",
                "  in_parameters:\n",
                "    start: 1\n",
                "    end: -1\n",
                "    step: 1\n",
                "    mask: c-alpha\n",
                "    reference: first\n",
                "  container_path: docker\n",
                "  container_image: afandiadib/ambertools:serial\n",
                "  container_volume_path: /tmp"
            ]
        },
        {
            "cell_type": "markdown",
            "metadata": {},
            "source": [
                "#### Singularity config file"
            ]
        },
        {
            "cell_type": "code",
            "execution_count": null,
            "metadata": {},
            "outputs": [],
            "source": [
                "properties:\n",
                "  in_parameters:\n",
                "    start: 1\n",
                "    end: -1\n",
                "    step: 1\n",
                "    mask: c-alpha\n",
                "    reference: first\n",
                "  container_path: singularity\n",
                "  container_image: shub://bioexcel/ambertools_singularity\n",
                "  container_volume_path: /tmp"
            ]
        },
        {
            "cell_type": "markdown",
            "metadata": {},
            "source": [
                "#### Command line "
            ]
        },
        {
            "cell_type": "code",
            "execution_count": null,
            "metadata": {},
            "outputs": [],
            "source": [
                "cpptraj_bfactor --config data/conf/bfactor.yml --input_top_path data/input/cpptraj.parm.top --input_traj_path data/input/cpptraj.traj.dcd --output_cpptraj_path data/output/output.bfactor.dat"
            ]
        },
        {
            "cell_type": "markdown",
            "metadata": {},
            "source": [
                "### JSON"
            ]
        },
        {
            "cell_type": "markdown",
            "metadata": {},
            "source": [
                "#### Common file config"
            ]
        },
        {
            "cell_type": "code",
            "execution_count": null,
            "metadata": {},
            "outputs": [],
            "source": [
                "{\n",
                "  \"properties\": {\n",
                "    \"in_parameters\": {\n",
                "      \"start\": 1,\n",
                "      \"end\": -1,\n",
                "      \"step\": 1,\n",
                "      \"mask\": \"c-alpha\",\n",
                "      \"reference\": \"first\"\n",
                "    }\n",
                "  }\n",
                "}"
            ]
        },
        {
            "cell_type": "markdown",
            "metadata": {},
            "source": [
                "#### Docker config file"
            ]
        },
        {
            "cell_type": "code",
            "execution_count": null,
            "metadata": {},
            "outputs": [],
            "source": [
                "{\n",
                "  \"properties\": {\n",
                "    \"in_parameters\": {\n",
                "      \"start\": 1,\n",
                "      \"end\": -1,\n",
                "      \"step\": 1,\n",
                "      \"mask\": \"c-alpha\",\n",
                "      \"reference\": \"first\"\n",
                "    },\n",
                "    \"container_path\": \"docker\",\n",
                "    \"container_image\": \"afandiadib/ambertools:serial\",\n",
                "    \"container_volume_path\": \"/tmp\"\n",
                "  }\n",
                "}"
            ]
        },
        {
            "cell_type": "markdown",
            "metadata": {},
            "source": [
                "#### Singularity config file"
            ]
        },
        {
            "cell_type": "code",
            "execution_count": null,
            "metadata": {},
            "outputs": [],
            "source": [
                "{\n",
                "  \"properties\": {\n",
                "    \"in_parameters\": {\n",
                "      \"start\": 1,\n",
                "      \"end\": -1,\n",
                "      \"step\": 1,\n",
                "      \"mask\": \"c-alpha\",\n",
                "      \"reference\": \"first\"\n",
                "    },\n",
                "    \"container_path\": \"singularity\",\n",
                "    \"container_image\": \"shub://bioexcel/ambertools_singularity\",\n",
                "    \"container_volume_path\": \"/tmp\"\n",
                "  }\n",
                "}"
            ]
        },
        {
            "cell_type": "markdown",
            "metadata": {},
            "source": [
                "#### Command line"
            ]
        },
        {
            "cell_type": "code",
            "execution_count": null,
            "metadata": {},
            "outputs": [],
            "source": [
                "cpptraj_bfactor --config data/conf/bfactor.json --input_top_path data/input/cpptraj.parm.top --input_traj_path data/input/cpptraj.traj.dcd --output_cpptraj_path data/output/output.average.dat"
            ]
        },
        {
            "cell_type": "markdown",
            "metadata": {},
            "source": [
                "## Cpptraj convert"
            ]
        },
        {
            "cell_type": "markdown",
            "metadata": {},
            "source": [
                "Converts between cpptraj compatible trajectory file formats and/or extracts a selection of atoms or frames."
            ]
        },
        {
            "cell_type": "markdown",
            "metadata": {},
            "source": [
                "### Get help"
            ]
        },
        {
            "cell_type": "markdown",
            "metadata": {},
            "source": [
                "Command:"
            ]
        },
        {
            "cell_type": "code",
            "execution_count": null,
            "metadata": {},
            "outputs": [],
            "source": [
                "cpptraj_convert -h"
            ]
        },
        {
            "cell_type": "code",
            "execution_count": null,
            "metadata": {},
            "outputs": [],
            "source": [
                "usage: cpptraj_convert [-h] [--config CONFIG] --input_top_path INPUT_TOP_PATH --input_traj_path INPUT_TRAJ_PATH --output_cpptraj_path OUTPUT_CPPTRAJ_PATH\n",
                "\n",
                "Converts between cpptraj compatible trajectory file formats and/or extracts a selection of atoms or frames.\n",
                "\n",
                "optional arguments:\n",
                "  -h, --help            show this help message and exit\n",
                "  --config CONFIG       Configuration file\n",
                "\n",
                "required arguments:\n",
                "  --input_top_path INPUT_TOP_PATH\n",
                "                        Path to the input structure or topology file. Accepted formats: top, pdb, prmtop, parmtop, zip.\n",
                "  --input_traj_path INPUT_TRAJ_PATH\n",
                "                        Path to the input trajectory to be processed. Accepted formats: crd, cdf, netcdf, restart, ncrestart, restartnc, dcd, charmm, cor, pdb, mol2, trr, gro, binpos, xtc, cif, arc, sqm, sdf, conflib.\n",
                "  --output_cpptraj_path OUTPUT_CPPTRAJ_PATH\n",
                "                        Path to the output processed structure."
            ]
        },
        {
            "cell_type": "markdown",
            "metadata": {},
            "source": [
                "### I / O Arguments"
            ]
        },
        {
            "cell_type": "markdown",
            "metadata": {},
            "source": [
                "Syntax: input_argument (datatype) : Definition\n",
                "\n",
                "Config input / output arguments for this building block:\n",
                "\n",
                "* **input_top_path** (*str*): Path to the input structure or topology file. File type: input. [Sample file](https://github.com/bioexcel/biobb_analysis/raw/master/biobb_analysis/test/data/ambertools/cpptraj.parm.top). Accepted formats: top, pdb, prmtop, parmtop, zip.\n",
                "* **input_traj_path** (*str*): Path to the input trajectory to be processed.  File type: input. [Sample file](https://github.com/bioexcel/biobb_analysis/raw/master/biobb_analysis/test/data/ambertools/cpptraj.traj.dcd). Accepted formats: crd, cdf, netcdf, restart, ncrestart, restartnc, dcd, charmm, cor, pdb, mol2, trr, gro, binpos, xtc, cif, arc, sqm, sdf, conflib.\n",
                "* **output_cpptraj_path** (*str*): Path to the output processed trajectory. File type: output. [Sample file](https://github.com/bioexcel/biobb_analysis/raw/master/biobb_analysis/test/reference/ambertools/ref_cpptraj.convert.netcdf). Accepted formats: crd, netcdf, rst7, ncrst, dcd, pdb, mol2, binpos, trr, xtc, sqm."
            ]
        },
        {
            "cell_type": "markdown",
            "metadata": {},
            "source": [
                "### Config"
            ]
        },
        {
            "cell_type": "markdown",
            "metadata": {},
            "source": [
                "Syntax: input_parameter (datatype) - (default_value) Definition\n",
                "\n",
                "Config parameters for this building block:\n",
                "\n",
                "* **in_parameters** (*dict*) - (None) Parameters for input trajectory. Accepted parameters:\n",
                "    * **start** (*int*) - (1) Starting frame for slicing\n",
                "    * **end** (*int*) - (-1) Ending frame for slicing\n",
                "    * **step** (*int*) - (1) Step for slicing\n",
                "    * **mask** (*string*) - (\"all-atoms\") Mask definition. Values: c-alpha, backbone, all-atoms, heavy-atoms, side-chain, solute, ions, solvent.\n",
                "* **out_parameters** (*dict*) - (None) Parameters for output trajectory.\n",
                "    * **format** (*str*) - (\"netcdf\") Output trajectory format. Values: crd, cdf, netcdf, restart, ncrestart, restartnc, dcd, charmm, cor, pdb, mol2, trr, gro, binpos, xtc, cif, arc, sqm, sdf, conflib.\n",
                "* **cpptraj_path** (*str*) - (\"cpptraj\") Path to the cpptraj executable binary.\n",
                "* **remove_tmp** (*bool*) - (True) [WF property] Remove temporal files.\n",
                "* **restart** (*bool*) - (False) [WF property] Do not execute if output files exist.\n",
                "* **sandbox_path** (*str*) - (\"./\") [WF property] Parent path to the sandbox directory.\n",
                "* **container_path** (*string*) - (None) Container path definition.\n",
                "* **container_image** (*string*) - ('afandiadib/ambertools:serial') Container image definition.\n",
                "* **container_volume_path** (*string*) - ('/tmp') Container volume path definition.\n",
                "* **container_working_dir** (*string*) - (None) Container working directory definition.\n",
                "* **container_user_id** (*string*) - (None) Container user_id definition.\n",
                "* **container_shell_path** (*string*) - ('/bin/bash') Path to default shell inside the container."
            ]
        },
        {
            "cell_type": "markdown",
            "metadata": {},
            "source": [
                "### YAML"
            ]
        },
        {
            "cell_type": "markdown",
            "metadata": {},
            "source": [
                "#### Common file config"
            ]
        },
        {
            "cell_type": "code",
            "execution_count": null,
            "metadata": {},
            "outputs": [],
            "source": [
                "properties:\n",
                "  in_parameters:\n",
                "    start: 1\n",
                "    end: -1\n",
                "    step: 1\n",
                "    mask: c-alpha\n",
                "  out_parameters:\n",
                "    format: netcdf"
            ]
        },
        {
            "cell_type": "markdown",
            "metadata": {},
            "source": [
                "#### Docker file config"
            ]
        },
        {
            "cell_type": "code",
            "execution_count": null,
            "metadata": {},
            "outputs": [],
            "source": [
                "properties:\n",
                "  in_parameters:\n",
                "    start: 1\n",
                "    end: -1\n",
                "    step: 1\n",
                "    mask: c-alpha\n",
                "  out_parameters:\n",
                "    format: netcdf\n",
                "  container_path: docker\n",
                "  container_image: afandiadib/ambertools:serial\n",
                "  container_volume_path: /tmp"
            ]
        },
        {
            "cell_type": "markdown",
            "metadata": {},
            "source": [
                "#### Singularity file config"
            ]
        },
        {
            "cell_type": "code",
            "execution_count": null,
            "metadata": {},
            "outputs": [],
            "source": [
                "properties:\n",
                "  in_parameters:\n",
                "    start: 1\n",
                "    end: -1\n",
                "    step: 1\n",
                "    mask: c-alpha\n",
                "  out_parameters:\n",
                "    format: netcdf\n",
                "  container_path: singularity\n",
                "  container_image: shub://bioexcel/ambertools_singularity\n",
                "  container_volume_path: /tmp"
            ]
        },
        {
            "cell_type": "markdown",
            "metadata": {},
            "source": [
                "#### Command line"
            ]
        },
        {
            "cell_type": "code",
            "execution_count": null,
            "metadata": {},
            "outputs": [],
            "source": [
                "cpptraj_convert --config data/conf/convert.yml --input_top_path data/input/cpptraj.parm.top --input_traj_path data/input/cpptraj.traj.dcd --output_cpptraj_path data/output/output.convert.netcdf"
            ]
        },
        {
            "cell_type": "markdown",
            "metadata": {},
            "source": [
                "### JSON file"
            ]
        },
        {
            "cell_type": "markdown",
            "metadata": {},
            "source": [
                "#### Common file config"
            ]
        },
        {
            "cell_type": "code",
            "execution_count": null,
            "metadata": {},
            "outputs": [],
            "source": [
                "{\n",
                "  \"properties\": {\n",
                "    \"in_parameters\": {\n",
                "      \"start\": 1,\n",
                "      \"end\": -1,\n",
                "      \"step\": 1,\n",
                "      \"mask\": \"c-alpha\"\n",
                "    },\n",
                "    \"out_parameters\": {\n",
                "      \"format\": \"netcdf\"\n",
                "    }\n",
                "  }\n",
                "}"
            ]
        },
        {
            "cell_type": "markdown",
            "metadata": {},
            "source": [
                "#### Docker file config"
            ]
        },
        {
            "cell_type": "code",
            "execution_count": null,
            "metadata": {},
            "outputs": [],
            "source": [
                "{\n",
                "  \"properties\": {\n",
                "    \"in_parameters\": {\n",
                "      \"start\": 1,\n",
                "      \"end\": -1,\n",
                "      \"step\": 1,\n",
                "      \"mask\": \"c-alpha\"\n",
                "    },\n",
                "    \"out_parameters\": {\n",
                "      \"format\": \"netcdf\"\n",
                "    },\n",
                "    \"container_path\": \"docker\",\n",
                "    \"container_image\": \"afandiadib/ambertools:serial\",\n",
                "    \"container_volume_path\": \"/tmp\"\n",
                "  }\n",
                "}"
            ]
        },
        {
            "cell_type": "markdown",
            "metadata": {},
            "source": [
                "#### Singularity file config"
            ]
        },
        {
            "cell_type": "code",
            "execution_count": null,
            "metadata": {},
            "outputs": [],
            "source": [
                "{\n",
                "  \"properties\": {\n",
                "    \"in_parameters\": {\n",
                "      \"start\": 1,\n",
                "      \"end\": -1,\n",
                "      \"step\": 1,\n",
                "      \"mask\": \"c-alpha\"\n",
                "    },\n",
                "    \"out_parameters\": {\n",
                "      \"format\": \"netcdf\"\n",
                "    },\n",
                "    \"container_path\": \"singularity\",\n",
                "    \"container_image\": \"shub://bioexcel/ambertools_singularity\",\n",
                "    \"container_volume_path\": \"/tmp\"\n",
                "  }\n",
                "}"
            ]
        },
        {
            "cell_type": "markdown",
            "metadata": {},
            "source": [
                "#### Command line"
            ]
        },
        {
            "cell_type": "code",
            "execution_count": null,
            "metadata": {},
            "outputs": [],
            "source": [
                "cpptraj_convert --config data/conf/convert.json --input_top_path data/input/cpptraj.parm.top --input_traj_path data/input/cpptraj.traj.dcd --output_cpptraj_path data/output/output.convert.netcdf"
            ]
        },
        {
            "cell_type": "markdown",
            "metadata": {},
            "source": [
                "## Cpptraj dry"
            ]
        },
        {
            "cell_type": "markdown",
            "metadata": {},
            "source": [
                "Dehydrates a given cpptraj compatible trajectory stripping out solvent molecules and ions."
            ]
        },
        {
            "cell_type": "markdown",
            "metadata": {},
            "source": [
                "### Get help"
            ]
        },
        {
            "cell_type": "markdown",
            "metadata": {},
            "source": [
                "Command:"
            ]
        },
        {
            "cell_type": "code",
            "execution_count": null,
            "metadata": {},
            "outputs": [],
            "source": [
                "cpptraj_dry -h"
            ]
        },
        {
            "cell_type": "code",
            "execution_count": null,
            "metadata": {},
            "outputs": [],
            "source": [
                "usage: cpptraj_dry [-h] [--config CONFIG] --input_top_path INPUT_TOP_PATH --input_traj_path INPUT_TRAJ_PATH --output_cpptraj_path OUTPUT_CPPTRAJ_PATH\n",
                "\n",
                "Dehydrates a given cpptraj compatible trajectory stripping out solvent molecules and ions.\n",
                "\n",
                "optional arguments:\n",
                "  -h, --help            show this help message and exit\n",
                "  --config CONFIG       Configuration file\n",
                "\n",
                "required arguments:\n",
                "  --input_top_path INPUT_TOP_PATH\n",
                "                        Path to the input structure or topology file. Accepted formats: top, pdb, prmtop, parmtop, zip.\n",
                "  --input_traj_path INPUT_TRAJ_PATH\n",
                "                        Path to the input trajectory to be processed. Accepted formats: crd, cdf, netcdf, restart, ncrestart, restartnc, dcd, charmm, cor, pdb, mol2, trr, gro, binpos, xtc, cif, arc, sqm, sdf, conflib.\n",
                "  --output_cpptraj_path OUTPUT_CPPTRAJ_PATH\n",
                "                        Path to the output processed trajectory."
            ]
        },
        {
            "cell_type": "markdown",
            "metadata": {},
            "source": [
                "### I / O Arguments"
            ]
        },
        {
            "cell_type": "markdown",
            "metadata": {},
            "source": [
                "Syntax: input_argument (datatype) : Definition\n",
                "\n",
                "Config input / output arguments for this building block:\n",
                "\n",
                "* **input_top_path** (*str*): Path to the input structure or topology file. File type: input. [Sample file](https://github.com/bioexcel/biobb_analysis/raw/master/biobb_analysis/test/data/ambertools/cpptraj.parm.top). Accepted formats: top, pdb, prmtop, parmtop, zip.\n",
                "* **input_traj_path** (*str*): Path to the input trajectory to be processed.  File type: input. [Sample file](https://github.com/bioexcel/biobb_analysis/raw/master/biobb_analysis/test/data/ambertools/cpptraj.traj.dcd). Accepted formats: crd, cdf, netcdf, restart, ncrestart, restartnc, dcd, charmm, cor, pdb, mol2, trr, gro, binpos, xtc, cif, arc, sqm, sdf, conflib.\n",
                "* **output_cpptraj_path** (*str*): Path to the output processed trajectory. File type: output. [Sample file](https://github.com/bioexcel/biobb_analysis/raw/master/biobb_analysis/test/reference/ambertools/ref_cpptraj.dry.netcdf). Accepted formats: crd, netcdf, rst7, ncrst, dcd, pdb, mol2, binpos, trr, xtc, sqm."
            ]
        },
        {
            "cell_type": "markdown",
            "metadata": {},
            "source": [
                "### Config"
            ]
        },
        {
            "cell_type": "markdown",
            "metadata": {},
            "source": [
                "Syntax: input_parameter (datatype) - (default_value) Definition\n",
                "\n",
                "Config parameters for this building block:\n",
                "\n",
                "* **in_parameters** (*dict*) - (None) Parameters for input trajectory. Accepted parameters:\n",
                "    * **start** (*int*) - (1) Starting frame for slicing\n",
                "    * **end** (*int*) - (-1) Ending frame for slicing\n",
                "    * **step** (*int*) - (1) Step for slicing\n",
                "    * **mask** (*string*) - (\"all-atoms\") Mask definition. Values: c-alpha, backbone, all-atoms, heavy-atoms, side-chain, solute, ions, solvent.\n",
                "* **out_parameters** (*dict*) - (None) Parameters for output trajectory.\n",
                "    * **format** (*str*) - (\"netcdf\") Output trajectory format. Values: crd, cdf, netcdf, restart, ncrestart, restartnc, dcd, charmm, cor, pdb, mol2, trr, gro, binpos, xtc, cif, arc, sqm, sdf, conflib.\n",
                "* **cpptraj_path** (*str*) - (\"cpptraj\") Path to the cpptraj executable binary.\n",
                "* **remove_tmp** (*bool*) - (True) [WF property] Remove temporal files.\n",
                "* **restart** (*bool*) - (False) [WF property] Do not execute if output files exist.\n",
                "* **sandbox_path** (*str*) - (\"./\") [WF property] Parent path to the sandbox directory.\n",
                "* **container_path** (*string*) - (None) Container path definition.\n",
                "* **container_image** (*string*) - ('afandiadib/ambertools:serial') Container image definition.\n",
                "* **container_volume_path** (*string*) - ('/tmp') Container volume path definition.\n",
                "* **container_working_dir** (*string*) - (None) Container working directory definition.\n",
                "* **container_user_id** (*string*) - (None) Container user_id definition.\n",
                "* **container_shell_path** (*string*) - ('/bin/bash') Path to default shell inside the container."
            ]
        },
        {
            "cell_type": "markdown",
            "metadata": {},
            "source": [
                "### YAML"
            ]
        },
        {
            "cell_type": "markdown",
            "metadata": {},
            "source": [
                "#### Common file config"
            ]
        },
        {
            "cell_type": "code",
            "execution_count": null,
            "metadata": {},
            "outputs": [],
            "source": [
                "properties:\n",
                "  in_parameters:\n",
                "    start: 1\n",
                "    end: -1\n",
                "    step: 1\n",
                "    mask: c-alpha\n",
                "  out_parameters:\n",
                "    format: netcdf"
            ]
        },
        {
            "cell_type": "markdown",
            "metadata": {},
            "source": [
                "#### Docker file config"
            ]
        },
        {
            "cell_type": "code",
            "execution_count": null,
            "metadata": {},
            "outputs": [],
            "source": [
                "properties:\n",
                "  in_parameters:\n",
                "    start: 1\n",
                "    end: -1\n",
                "    step: 1\n",
                "    mask: c-alpha\n",
                "  out_parameters:\n",
                "    format: netcdf\n",
                "  container_path: docker\n",
                "  container_image: afandiadib/ambertools:serial\n",
                "  container_volume_path: /tmp"
            ]
        },
        {
            "cell_type": "markdown",
            "metadata": {},
            "source": [
                "#### Singularity file config"
            ]
        },
        {
            "cell_type": "code",
            "execution_count": null,
            "metadata": {},
            "outputs": [],
            "source": [
                "properties:\n",
                "  in_parameters:\n",
                "    start: 1\n",
                "    end: -1\n",
                "    step: 1\n",
                "    mask: c-alpha\n",
                "  out_parameters:\n",
                "    format: netcdf\n",
                "  container_path: singularity\n",
                "  container_image: shub://bioexcel/ambertools_singularity\n",
                "  container_volume_path: /tmp"
            ]
        },
        {
            "cell_type": "markdown",
            "metadata": {},
            "source": [
                "#### Command line"
            ]
        },
        {
            "cell_type": "code",
            "execution_count": null,
            "metadata": {},
            "outputs": [],
            "source": [
                "cpptraj_dry --config data/conf/dry.yml --input_top_path data/input/cpptraj.parm.top --input_traj_path data/input/cpptraj.traj.dcd --output_cpptraj_path data/output/output.dry.netcdf"
            ]
        },
        {
            "cell_type": "markdown",
            "metadata": {},
            "source": [
                "### JSON"
            ]
        },
        {
            "cell_type": "markdown",
            "metadata": {},
            "source": [
                "#### Common file config"
            ]
        },
        {
            "cell_type": "code",
            "execution_count": null,
            "metadata": {},
            "outputs": [],
            "source": [
                "{\n",
                "  \"properties\": {\n",
                "    \"in_parameters\": {\n",
                "      \"start\": 1,\n",
                "      \"end\": -1,\n",
                "      \"step\": 1,\n",
                "      \"mask\": \"c-alpha\"\n",
                "    },\n",
                "    \"out_parameters\": {\n",
                "      \"format\": \"netcdf\"\n",
                "    }\n",
                "  }\n",
                "}"
            ]
        },
        {
            "cell_type": "markdown",
            "metadata": {},
            "source": [
                "#### Docker file config"
            ]
        },
        {
            "cell_type": "code",
            "execution_count": null,
            "metadata": {},
            "outputs": [],
            "source": [
                "{\n",
                "  \"properties\": {\n",
                "    \"in_parameters\": {\n",
                "      \"start\": 1,\n",
                "      \"end\": -1,\n",
                "      \"step\": 1,\n",
                "      \"mask\": \"c-alpha\"\n",
                "    },\n",
                "    \"out_parameters\": {\n",
                "      \"format\": \"netcdf\"\n",
                "    }\n",
                "  },\n",
                "  \"container_path\": \"docker\",\n",
                "  \"container_image\": \"afandiadib/ambertools:serial\",\n",
                "  \"container_volume_path\": \"/tmp\"\n",
                "}"
            ]
        },
        {
            "cell_type": "markdown",
            "metadata": {},
            "source": [
                "#### Singularity file config"
            ]
        },
        {
            "cell_type": "code",
            "execution_count": null,
            "metadata": {},
            "outputs": [],
            "source": [
                "{\n",
                "  \"properties\": {\n",
                "    \"in_parameters\": {\n",
                "      \"start\": 1,\n",
                "      \"end\": -1,\n",
                "      \"step\": 1,\n",
                "      \"mask\": \"c-alpha\"\n",
                "    },\n",
                "    \"out_parameters\": {\n",
                "      \"format\": \"netcdf\"\n",
                "    },\n",
                "    \"container_path\": \"singularity\",\n",
                "    \"container_image\": \"shub://bioexcel/ambertools_singularity\",\n",
                "    \"container_volume_path\": \"/tmp\"\n",
                "  }\n",
                "}"
            ]
        },
        {
            "cell_type": "markdown",
            "metadata": {},
            "source": [
                "#### Command line"
            ]
        },
        {
            "cell_type": "code",
            "execution_count": null,
            "metadata": {},
            "outputs": [],
            "source": [
                "cpptraj_dry --config data/conf/dry.json --input_top_path data/input/cpptraj.parm.top --input_traj_path data/input/cpptraj.traj.dcd --output_cpptraj_path data/output/output.dry.netcdf"
            ]
        },
        {
            "cell_type": "markdown",
            "metadata": {},
            "source": [
                "## Cpptraj image"
            ]
        },
        {
            "cell_type": "markdown",
            "metadata": {},
            "source": [
                "Corrects periodicity (image) from a given cpptraj trajectory file."
            ]
        },
        {
            "cell_type": "markdown",
            "metadata": {},
            "source": [
                "### Get help"
            ]
        },
        {
            "cell_type": "markdown",
            "metadata": {},
            "source": [
                "Command:"
            ]
        },
        {
            "cell_type": "code",
            "execution_count": null,
            "metadata": {},
            "outputs": [],
            "source": [
                "cpptraj_image -h"
            ]
        },
        {
            "cell_type": "code",
            "execution_count": null,
            "metadata": {},
            "outputs": [],
            "source": [
                "usage: cpptraj_image [-h] [--config CONFIG] --input_top_path INPUT_TOP_PATH --input_traj_path INPUT_TRAJ_PATH --output_cpptraj_path OUTPUT_CPPTRAJ_PATH\n",
                "\n",
                "Corrects periodicity (image) from a given cpptraj trajectory file.\n",
                "\n",
                "optional arguments:\n",
                "  -h, --help            show this help message and exit\n",
                "  --config CONFIG       Configuration file\n",
                "\n",
                "required arguments:\n",
                "  --input_top_path INPUT_TOP_PATH\n",
                "                        Path to the input structure or topology file. Accepted formats: top, pdb, prmtop, parmtop, zip.\n",
                "  --input_traj_path INPUT_TRAJ_PATH\n",
                "                        Path to the input trajectory to be processed. Accepted formats: crd, cdf, netcdf, restart, ncrestart, restartnc, dcd, charmm, cor, pdb, mol2, trr, gro, binpos, xtc, cif, arc, sqm, sdf, conflib.\n",
                "  --output_cpptraj_path OUTPUT_CPPTRAJ_PATH\n",
                "                        Path to the output processed trajectory."
            ]
        },
        {
            "cell_type": "markdown",
            "metadata": {},
            "source": [
                "### I / O Arguments"
            ]
        },
        {
            "cell_type": "markdown",
            "metadata": {},
            "source": [
                "Syntax: input_argument (datatype) : Definition\n",
                "\n",
                "Config input / output arguments for this building block:\n",
                "\n",
                "* **input_top_path** (*str*): Path to the input structure or topology file. File type: input. [Sample file](https://github.com/bioexcel/biobb_analysis/raw/master/biobb_analysis/test/data/ambertools/cpptraj.parm.top). Accepted formats: top, pdb, prmtop, parmtop, zip.\n",
                "* **input_traj_path** (*str*): Path to the input trajectory to be processed.  File type: input. [Sample file](https://github.com/bioexcel/biobb_analysis/raw/master/biobb_analysis/test/data/ambertools/cpptraj.traj.dcd). Accepted formats: crd, cdf, netcdf, restart, ncrestart, restartnc, dcd, charmm, cor, pdb, mol2, trr, gro, binpos, xtc, cif, arc, sqm, sdf, conflib.\n",
                "* **output_cpptraj_path** (*str*): Path to the output processed trajectory. File type: output. [Sample file](https://github.com/bioexcel/biobb_analysis/raw/master/biobb_analysis/test/reference/ambertools/ref_cpptraj.image.netcdf). Accepted formats: crd, netcdf, rst7, ncrst, dcd, pdb, mol2, binpos, trr, xtc, sqm."
            ]
        },
        {
            "cell_type": "markdown",
            "metadata": {},
            "source": [
                "### Config"
            ]
        },
        {
            "cell_type": "markdown",
            "metadata": {},
            "source": [
                "Syntax: input_parameter (datatype) - (default_value) Definition\n",
                "\n",
                "Config parameters for this building block:\n",
                "\n",
                "* **in_parameters** (*dict*) - (None) Parameters for input trajectory. Accepted parameters:\n",
                "    * **start** (*int*) - (1) Starting frame for slicing\n",
                "    * **end** (*int*) - (-1) Ending frame for slicing\n",
                "    * **step** (*int*) - (1) Step for slicing\n",
                "    * **mask** (*string*) - (\"all-atoms\") Mask definition. Values: c-alpha, backbone, all-atoms, heavy-atoms, side-chain, solute, ions, solvent.\n",
                "* **out_parameters** (*dict*) - (None) Parameters for output trajectory.\n",
                "    * **format** (*str*) - (\"netcdf\") Output trajectory format. Values: crd, cdf, netcdf, restart, ncrestart, restartnc, dcd, charmm, cor, pdb, mol2, trr, gro, binpos, xtc, cif, arc, sqm, sdf, conflib.\n",
                "* **cpptraj_path** (*str*) - (\"cpptraj\") Path to the cpptraj executable binary.\n",
                "* **remove_tmp** (*bool*) - (True) [WF property] Remove temporal files.\n",
                "* **restart** (*bool*) - (False) [WF property] Do not execute if output files exist.\n",
                "* **sandbox_path** (*str*) - (\"./\") [WF property] Parent path to the sandbox directory.\n",
                "* **container_path** (*string*) - (None) Container path definition.\n",
                "* **container_image** (*string*) - ('afandiadib/ambertools:serial') Container image definition.\n",
                "* **container_volume_path** (*string*) - ('/tmp') Container volume path definition.\n",
                "* **container_working_dir** (*string*) - (None) Container working directory definition.\n",
                "* **container_user_id** (*string*) - (None) Container user_id definition.\n",
                "* **container_shell_path** (*string*) - ('/bin/bash') Path to default shell inside the container."
            ]
        },
        {
            "cell_type": "markdown",
            "metadata": {},
            "source": [
                "### YAML"
            ]
        },
        {
            "cell_type": "markdown",
            "metadata": {},
            "source": [
                "#### Common file config"
            ]
        },
        {
            "cell_type": "code",
            "execution_count": null,
            "metadata": {},
            "outputs": [],
            "source": [
                "properties:\n",
                "  in_parameters:\n",
                "    start: 1\n",
                "    end: -1\n",
                "    step: 1\n",
                "    mask: c-alpha\n",
                "  out_parameters:\n",
                "    format: netcdf"
            ]
        },
        {
            "cell_type": "markdown",
            "metadata": {},
            "source": [
                "#### Docker file config"
            ]
        },
        {
            "cell_type": "code",
            "execution_count": null,
            "metadata": {},
            "outputs": [],
            "source": [
                "properties:\n",
                "  in_parameters:\n",
                "    start: 1\n",
                "    end: -1\n",
                "    step: 1\n",
                "    mask: c-alpha\n",
                "  out_parameters:\n",
                "    format: netcdf\n",
                "  container_path: docker\n",
                "  container_image: afandiadib/ambertools:serial\n",
                "  container_volume_path: /tmp"
            ]
        },
        {
            "cell_type": "markdown",
            "metadata": {},
            "source": [
                "#### Common file config"
            ]
        },
        {
            "cell_type": "code",
            "execution_count": null,
            "metadata": {},
            "outputs": [],
            "source": [
                "properties:\n",
                "  in_parameters:\n",
                "    start: 1\n",
                "    end: -1\n",
                "    step: 1\n",
                "    mask: c-alpha\n",
                "  out_parameters:\n",
                "    format: netcdf\n",
                "  container_path: singularity\n",
                "  container_image: shub://bioexcel/ambertools_singularity\n",
                "  container_volume_path: /tmp"
            ]
        },
        {
            "cell_type": "markdown",
            "metadata": {},
            "source": [
                "#### Command line"
            ]
        },
        {
            "cell_type": "code",
            "execution_count": null,
            "metadata": {},
            "outputs": [],
            "source": [
                "cpptraj_image --config data/conf/image.yml --input_top_path data/input/cpptraj.parm.top --input_traj_path data/input/cpptraj.traj.dcd --output_cpptraj_path data/output/output.image.netcdf"
            ]
        },
        {
            "cell_type": "markdown",
            "metadata": {},
            "source": [
                "### JSON"
            ]
        },
        {
            "cell_type": "markdown",
            "metadata": {},
            "source": [
                "#### Common file config"
            ]
        },
        {
            "cell_type": "code",
            "execution_count": null,
            "metadata": {},
            "outputs": [],
            "source": [
                "{\n",
                "  \"properties\": {\n",
                "    \"in_parameters\": {\n",
                "      \"start\": 1,\n",
                "      \"end\": -1,\n",
                "      \"step\": 1,\n",
                "      \"mask\": \"c-alpha\"\n",
                "    },\n",
                "    \"out_parameters\": {\n",
                "      \"format\": \"netcdf\"\n",
                "    }\n",
                "  }\n",
                "}"
            ]
        },
        {
            "cell_type": "markdown",
            "metadata": {},
            "source": [
                "#### Docker file config"
            ]
        },
        {
            "cell_type": "code",
            "execution_count": null,
            "metadata": {},
            "outputs": [],
            "source": [
                "{\n",
                "  \"properties\": {\n",
                "    \"in_parameters\": {\n",
                "      \"start\": 1,\n",
                "      \"end\": -1,\n",
                "      \"step\": 1,\n",
                "      \"mask\": \"c-alpha\"\n",
                "    },\n",
                "    \"out_parameters\": {\n",
                "      \"format\": \"netcdf\"\n",
                "    }\n",
                "  },\n",
                "  \"container_path\": \"docker\",\n",
                "  \"container_image\": \"afandiadib/ambertools:serial\",\n",
                "  \"container_volume_path\": \"/tmp\"\n",
                "}"
            ]
        },
        {
            "cell_type": "markdown",
            "metadata": {},
            "source": [
                "#### Singularity file config"
            ]
        },
        {
            "cell_type": "code",
            "execution_count": null,
            "metadata": {},
            "outputs": [],
            "source": [
                "{\n",
                "  \"properties\": {\n",
                "    \"in_parameters\": {\n",
                "      \"start\": 1,\n",
                "      \"end\": -1,\n",
                "      \"step\": 1,\n",
                "      \"mask\": \"c-alpha\"\n",
                "    },\n",
                "    \"out_parameters\": {\n",
                "      \"format\": \"netcdf\"\n",
                "    }\n",
                "  },\n",
                "  \"container_path\": \"singularity\",\n",
                "  \"container_image\": \"shub://bioexcel/ambertools_singularity\",\n",
                "  \"container_volume_path\": \"/tmp\"\n",
                "}"
            ]
        },
        {
            "cell_type": "markdown",
            "metadata": {},
            "source": [
                "#### Command line"
            ]
        },
        {
            "cell_type": "code",
            "execution_count": null,
            "metadata": {},
            "outputs": [],
            "source": [
                "cpptraj_image --config data/conf/image.json --input_top_path data/input/cpptraj.parm.top --input_traj_path data/input/cpptraj.traj.dcd --output_cpptraj_path data/output/output.image.netcdf"
            ]
        },
        {
            "cell_type": "markdown",
            "metadata": {},
            "source": [
                "## Cpptraj input"
            ]
        },
        {
            "cell_type": "markdown",
            "metadata": {},
            "source": [
                "Performs multiple analysis and trajectory operations of a given trajector"
            ]
        },
        {
            "cell_type": "markdown",
            "metadata": {},
            "source": [
                "### Get help"
            ]
        },
        {
            "cell_type": "markdown",
            "metadata": {},
            "source": [
                "Command:"
            ]
        },
        {
            "cell_type": "code",
            "execution_count": null,
            "metadata": {},
            "outputs": [],
            "source": [
                "cpptraj_input -h"
            ]
        },
        {
            "cell_type": "code",
            "execution_count": null,
            "metadata": {},
            "outputs": [],
            "source": [
                "usage: cpptraj_input [-h] [--config CONFIG] --input_instructions_path INPUT_INSTRUCTIONS_PATH\n",
                "\n",
                "Performs multiple analysis and trajectory operations of a given trajectory.\n",
                "\n",
                "optional arguments:\n",
                "  -h, --help            show this help message and exit\n",
                "  --config CONFIG       Configuration file\n",
                "\n",
                "required arguments:\n",
                "  --input_instructions_path INPUT_INSTRUCTIONS_PATH\n",
                "                        Path of the instructions file."
            ]
        },
        {
            "cell_type": "markdown",
            "metadata": {},
            "source": [
                "### I / O Arguments"
            ]
        },
        {
            "cell_type": "markdown",
            "metadata": {},
            "source": [
                "Syntax: input_argument (datatype) : Definition\n",
                "\n",
                "Config input / output arguments for this building block:\n",
                "\n",
                "* **input_instructions_path** (*str*): Path of the instructions file. File type: input. [Sample file](https://github.com/bioexcel/biobb_analysis/raw/master/biobb_analysis/test/data/ambertools/cpptraj.in)."
            ]
        },
        {
            "cell_type": "markdown",
            "metadata": {},
            "source": [
                "### Config"
            ]
        },
        {
            "cell_type": "markdown",
            "metadata": {},
            "source": [
                "Syntax: input_parameter (datatype) - (default_value) Definition\n",
                "\n",
                "Config parameters for this building block:\n",
                "\n",
                "* **cpptraj_path** (*str*) - (\"cpptraj\") Path to the cpptraj executable binary.\n",
                "* **remove_tmp** (*bool*) - (True) [WF property] Remove temporal files.\n",
                "* **restart** (*bool*) - (False) [WF property] Do not execute if output files exist.\n",
                "* **sandbox_path** (*str*) - (\"./\") [WF property] Parent path to the sandbox directory.\n",
                "* **container_path** (*string*) - (None) Container path definition.\n"
            ]
        },
        {
            "cell_type": "markdown",
            "metadata": {},
            "source": [
                "### Instructions file"
            ]
        },
        {
            "cell_type": "markdown",
            "metadata": {},
            "source": [
                "input.in:"
            ]
        },
        {
            "cell_type": "code",
            "execution_count": null,
            "metadata": {},
            "outputs": [],
            "source": [
                "parm data/input/cpptraj.convert.pdb\n",
                "trajin data/input/cpptraj.convert.dcd\n",
                "trajout data/output/output.netcdf netcdf"
            ]
        },
        {
            "cell_type": "markdown",
            "metadata": {},
            "source": [
                "### YAML"
            ]
        },
        {
            "cell_type": "markdown",
            "metadata": {},
            "source": [
                "#### Common file config"
            ]
        },
        {
            "cell_type": "code",
            "execution_count": null,
            "metadata": {},
            "outputs": [],
            "source": [
                "properties:\n",
                "  cpptraj_path: cpptraj"
            ]
        },
        {
            "cell_type": "markdown",
            "metadata": {},
            "source": [
                "#### Docker file config"
            ]
        },
        {
            "cell_type": "code",
            "execution_count": null,
            "metadata": {},
            "outputs": [],
            "source": [
                "properties:\n",
                "  cpptraj_path: cpptraj\n",
                "  container_path: docker\n",
                "  container_image: afandiadib/ambertools:serial\n",
                "  container_volume_path: /tmp"
            ]
        },
        {
            "cell_type": "markdown",
            "metadata": {},
            "source": [
                "#### Singularity file config"
            ]
        },
        {
            "cell_type": "code",
            "execution_count": null,
            "metadata": {},
            "outputs": [],
            "source": [
                "properties:\n",
                "  cpptraj_path: cpptraj\n",
                "  container_path: singularity\n",
                "  container_image: shub://bioexcel/ambertools_singularity\n",
                "  container_volume_path: /tmp"
            ]
        },
        {
            "cell_type": "markdown",
            "metadata": {},
            "source": [
                "#### Command line"
            ]
        },
        {
            "cell_type": "code",
            "execution_count": null,
            "metadata": {},
            "outputs": [],
            "source": [
                "cpptraj_input --config data/conf/input.yml --input_instructions_path data/input/input.in"
            ]
        },
        {
            "cell_type": "markdown",
            "metadata": {},
            "source": [
                "### JSON"
            ]
        },
        {
            "cell_type": "markdown",
            "metadata": {},
            "source": [
                "#### Common file config"
            ]
        },
        {
            "cell_type": "code",
            "execution_count": null,
            "metadata": {},
            "outputs": [],
            "source": [
                "{\n",
                "  \"properties\": {\n",
                "    \"cpptraj_path\": \"cpptraj\"\n",
                "  }\n",
                "}"
            ]
        },
        {
            "cell_type": "markdown",
            "metadata": {},
            "source": [
                "#### Docker file config"
            ]
        },
        {
            "cell_type": "code",
            "execution_count": null,
            "metadata": {},
            "outputs": [],
            "source": [
                "{\n",
                "  \"properties\": {\n",
                "    \"cpptraj_path\": \"cpptraj\",\n",
                "    \"container_path\": \"docker\",\n",
                "    \"container_image\": \"afandiadib/ambertools:serial\",\n",
                "    \"container_volume_path\": \"/tmp\"\n",
                "  }\n",
                "}"
            ]
        },
        {
            "cell_type": "markdown",
            "metadata": {},
            "source": [
                "#### Singularity file config"
            ]
        },
        {
            "cell_type": "code",
            "execution_count": null,
            "metadata": {},
            "outputs": [],
            "source": [
                "{\n",
                "  \"properties\": {\n",
                "    \"cpptraj_path\": \"cpptraj\",\n",
                "    \"container_path\": \"singularity\",\n",
                "    \"container_image\": \"shub://bioexcel/ambertools_singularity\",\n",
                "    \"container_volume_path\": \"/tmp\"\n",
                "  }\n",
                "}"
            ]
        },
        {
            "cell_type": "markdown",
            "metadata": {},
            "source": [
                "#### Command line"
            ]
        },
        {
            "cell_type": "code",
            "execution_count": null,
            "metadata": {},
            "outputs": [],
            "source": [
                "cpptraj_input --config data/conf/input.json --input_instructions_path data/input/input.in"
            ]
        },
        {
            "cell_type": "markdown",
            "metadata": {},
            "source": [
                "## Cpptraj mask"
            ]
        },
        {
            "cell_type": "markdown",
            "metadata": {},
            "source": [
                "Extracts a selection of atoms from a given cpptraj compatible trajectory."
            ]
        },
        {
            "cell_type": "markdown",
            "metadata": {},
            "source": [
                "### Get help"
            ]
        },
        {
            "cell_type": "markdown",
            "metadata": {},
            "source": [
                "Command:"
            ]
        },
        {
            "cell_type": "code",
            "execution_count": null,
            "metadata": {},
            "outputs": [],
            "source": [
                "cpptraj_mask -h"
            ]
        },
        {
            "cell_type": "code",
            "execution_count": null,
            "metadata": {},
            "outputs": [],
            "source": [
                "usage: cpptraj_mask [-h] [--config CONFIG] --input_top_path INPUT_TOP_PATH --input_traj_path INPUT_TRAJ_PATH --output_cpptraj_path OUTPUT_CPPTRAJ_PATH\n",
                "\n",
                "Extracts a selection of atoms from a given cpptraj compatible trajectory.\n",
                "\n",
                "optional arguments:\n",
                "  -h, --help            show this help message and exit\n",
                "  --config CONFIG       Configuration file\n",
                "\n",
                "required arguments:\n",
                "  --input_top_path INPUT_TOP_PATH\n",
                "                        Path to the input structure or topology file. Accepted formats: top, pdb, prmtop, parmtop, zip.\n",
                "  --input_traj_path INPUT_TRAJ_PATH\n",
                "                        Path to the input trajectory to be processed. Accepted formats: crd, cdf, netcdf, restart, ncrestart, restartnc, dcd, charmm, cor, pdb, mol2, trr, gro, binpos, xtc, cif, arc, sqm, sdf, conflib.\n",
                "  --output_cpptraj_path OUTPUT_CPPTRAJ_PATH\n",
                "                        Path to the output processed trajectory."
            ]
        },
        {
            "cell_type": "markdown",
            "metadata": {},
            "source": [
                "### I / O Arguments"
            ]
        },
        {
            "cell_type": "markdown",
            "metadata": {},
            "source": [
                "Syntax: input_argument (datatype) : Definition\n",
                "\n",
                "Config input / output arguments for this building block:\n",
                "\n",
                "* **input_top_path** (*str*): Path to the input structure or topology file. File type: input. [Sample file](https://github.com/bioexcel/biobb_analysis/raw/master/biobb_analysis/test/data/ambertools/cpptraj.parm.top). Accepted formats: top, pdb, prmtop, parmtop, zip.\n",
                "* **input_traj_path** (*str*): Path to the input trajectory to be processed.  File type: input. [Sample file](https://github.com/bioexcel/biobb_analysis/raw/master/biobb_analysis/test/data/ambertools/cpptraj.traj.dcd). Accepted formats: crd, cdf, netcdf, restart, ncrestart, restartnc, dcd, charmm, cor, pdb, mol2, trr, gro, binpos, xtc, cif, arc, sqm, sdf, conflib.\n",
                "* **output_cpptraj_path** (*str*): Path to the output processed trajectory. File type: output. [Sample file](https://github.com/bioexcel/biobb_analysis/raw/master/biobb_analysis/test/reference/ambertools/ref_cpptraj.mask.netcdf). Accepted formats: crd, netcdf, rst7, ncrst, dcd, pdb, mol2, binpos, trr, xtc, sqm."
            ]
        },
        {
            "cell_type": "markdown",
            "metadata": {},
            "source": [
                "### Config"
            ]
        },
        {
            "cell_type": "markdown",
            "metadata": {},
            "source": [
                "Syntax: input_parameter (datatype) - (default_value) Definition\n",
                "\n",
                "Config parameters for this building block:\n",
                "\n",
                "* **in_parameters** (*dict*) - (None) Parameters for input trajectory. Accepted parameters:\n",
                "    * **start** (*int*) - (1) Starting frame for slicing\n",
                "    * **end** (*int*) - (-1) Ending frame for slicing\n",
                "    * **step** (*int*) - (1) Step for slicing\n",
                "    * **mask** (*string*) - (\"all-atoms\") Mask definition. Values: c-alpha, backbone, all-atoms, heavy-atoms, side-chain, solute, ions, solvent.\n",
                "* **out_parameters** (*dict*) - (None) Parameters for output trajectory.\n",
                "    * **format** (*str*) - (\"netcdf\") Output trajectory format. Values: crd, cdf, netcdf, restart, ncrestart, restartnc, dcd, charmm, cor, pdb, mol2, trr, gro, binpos, xtc, cif, arc, sqm, sdf, conflib.\n",
                "* **cpptraj_path** (*str*) - (\"cpptraj\") Path to the cpptraj executable binary.\n",
                "* **remove_tmp** (*bool*) - (True) [WF property] Remove temporal files.\n",
                "* **restart** (*bool*) - (False) [WF property] Do not execute if output files exist.\n",
                "* **sandbox_path** (*str*) - (\"./\") [WF property] Parent path to the sandbox directory.\n",
                "* **container_path** (*string*) - (None) Container path definition.\n",
                "* **container_image** (*string*) - ('afandiadib/ambertools:serial') Container image definition.\n",
                "* **container_volume_path** (*string*) - ('/tmp') Container volume path definition.\n",
                "* **container_working_dir** (*string*) - (None) Container working directory definition.\n",
                "* **container_user_id** (*string*) - (None) Container user_id definition.\n",
                "* **container_shell_path** (*string*) - ('/bin/bash') Path to default shell inside the container."
            ]
        },
        {
            "cell_type": "markdown",
            "metadata": {},
            "source": [
                "### YAML"
            ]
        },
        {
            "cell_type": "markdown",
            "metadata": {},
            "source": [
                "#### Common file config"
            ]
        },
        {
            "cell_type": "code",
            "execution_count": null,
            "metadata": {},
            "outputs": [],
            "source": [
                "properties:\n",
                "  in_parameters:\n",
                "    start: 1\n",
                "    end: -1\n",
                "    step: 1\n",
                "    mask: c-alpha\n",
                "  out_parameters:\n",
                "    format: netcdf"
            ]
        },
        {
            "cell_type": "markdown",
            "metadata": {},
            "source": [
                "#### Docker file config"
            ]
        },
        {
            "cell_type": "code",
            "execution_count": null,
            "metadata": {},
            "outputs": [],
            "source": [
                "properties:\n",
                "  in_parameters:\n",
                "    start: 1\n",
                "    end: -1\n",
                "    step: 1\n",
                "    mask: c-alpha\n",
                "  out_parameters:\n",
                "    format: netcdf\n",
                "  container_path: docker\n",
                "  container_image: afandiadib/ambertools:serial\n",
                "  container_volume_path: /tmp"
            ]
        },
        {
            "cell_type": "markdown",
            "metadata": {},
            "source": [
                "#### Singularity file config"
            ]
        },
        {
            "cell_type": "code",
            "execution_count": null,
            "metadata": {},
            "outputs": [],
            "source": [
                "properties:\n",
                "  in_parameters:\n",
                "    start: 1\n",
                "    end: -1\n",
                "    step: 1\n",
                "    mask: c-alpha\n",
                "  out_parameters:\n",
                "    format: netcdf\n",
                "  container_path: singularity\n",
                "  container_image: shub://bioexcel/ambertools_singularity\n",
                "  container_volume_path: /tmp"
            ]
        },
        {
            "cell_type": "markdown",
            "metadata": {},
            "source": [
                "#### Command line"
            ]
        },
        {
            "cell_type": "code",
            "execution_count": null,
            "metadata": {},
            "outputs": [],
            "source": [
                "cpptraj_mask --config data/conf/mask.yml --input_top_path data/input/cpptraj.parm.top --input_traj_path data/input/cpptraj.traj.dcd --output_cpptraj_path data/output/output.mask.netcdf"
            ]
        },
        {
            "cell_type": "markdown",
            "metadata": {},
            "source": [
                "### JSON"
            ]
        },
        {
            "cell_type": "markdown",
            "metadata": {},
            "source": [
                "#### Common file config"
            ]
        },
        {
            "cell_type": "code",
            "execution_count": null,
            "metadata": {},
            "outputs": [],
            "source": [
                "{\n",
                "  \"properties\": {\n",
                "    \"in_parameters\": {\n",
                "      \"start\": 1,\n",
                "      \"end\": -1,\n",
                "      \"step\": 1,\n",
                "      \"mask\": \"c-alpha\"\n",
                "    },\n",
                "    \"out_parameters\": {\n",
                "      \"format\": \"netcdf\"\n",
                "    }\n",
                "  }\n",
                "}"
            ]
        },
        {
            "cell_type": "markdown",
            "metadata": {},
            "source": [
                "#### Docker file config"
            ]
        },
        {
            "cell_type": "code",
            "execution_count": null,
            "metadata": {},
            "outputs": [],
            "source": [
                "{\n",
                "  \"properties\": {\n",
                "    \"in_parameters\": {\n",
                "      \"start\": 1,\n",
                "      \"end\": -1,\n",
                "      \"step\": 1,\n",
                "      \"mask\": \"c-alpha\"\n",
                "    },\n",
                "    \"out_parameters\": {\n",
                "      \"format\": \"netcdf\"\n",
                "    },\n",
                "    \"container_path\": \"docker\",\n",
                "    \"container_image\": \"afandiadib/ambertools:serial\",\n",
                "    \"container_volume_path\": \"/tmp\"\n",
                "  }\n",
                "}"
            ]
        },
        {
            "cell_type": "markdown",
            "metadata": {},
            "source": [
                "#### Singularity file config"
            ]
        },
        {
            "cell_type": "code",
            "execution_count": null,
            "metadata": {},
            "outputs": [],
            "source": [
                "{\n",
                "  \"properties\": {\n",
                "    \"in_parameters\": {\n",
                "      \"start\": 1,\n",
                "      \"end\": -1,\n",
                "      \"step\": 1,\n",
                "      \"mask\": \"c-alpha\"\n",
                "    },\n",
                "    \"out_parameters\": {\n",
                "      \"format\": \"netcdf\"\n",
                "    },\n",
                "    \"container_path\": \"singularity\",\n",
                "    \"container_image\": \"shub://bioexcel/ambertools_singularity\",\n",
                "    \"container_volume_path\": \"/tmp\"\n",
                "  }\n",
                "}"
            ]
        },
        {
            "cell_type": "markdown",
            "metadata": {},
            "source": [
                "#### Command line"
            ]
        },
        {
            "cell_type": "code",
            "execution_count": null,
            "metadata": {},
            "outputs": [],
            "source": [
                "cpptraj_mask --config data/conf/mask.json --input_top_path data/input/cpptraj.parm.top --input_traj_path data/input/cpptraj.traj.dcd --output_cpptraj_path data/output/output.image.netcdf"
            ]
        },
        {
            "cell_type": "markdown",
            "metadata": {},
            "source": [
                "## Cpptraj rgyr"
            ]
        },
        {
            "cell_type": "markdown",
            "metadata": {},
            "source": [
                "Computes the radius of gyration (Rgyr) from a given cpptraj compatible trajectory."
            ]
        },
        {
            "cell_type": "markdown",
            "metadata": {},
            "source": [
                "### Get help"
            ]
        },
        {
            "cell_type": "markdown",
            "metadata": {},
            "source": [
                "Command:"
            ]
        },
        {
            "cell_type": "code",
            "execution_count": null,
            "metadata": {},
            "outputs": [],
            "source": [
                "cpptraj_rgyr -h"
            ]
        },
        {
            "cell_type": "code",
            "execution_count": null,
            "metadata": {},
            "outputs": [],
            "source": [
                "usage: cpptraj_rgyr [-h] [--config CONFIG] --input_top_path INPUT_TOP_PATH --input_traj_path INPUT_TRAJ_PATH --output_cpptraj_path OUTPUT_CPPTRAJ_PATH\n",
                "\n",
                "Computes the radius of gyration (Rgyr) from a given cpptraj compatible trajectory.\n",
                "\n",
                "optional arguments:\n",
                "  -h, --help            show this help message and exit\n",
                "  --config CONFIG       Configuration file\n",
                "\n",
                "required arguments:\n",
                "  --input_top_path INPUT_TOP_PATH\n",
                "                        Path to the input structure or topology file. Accepted formats: top, pdb, prmtop, parmtop, zip.\n",
                "  --input_traj_path INPUT_TRAJ_PATH\n",
                "                        Path to the input trajectory to be processed. Accepted formats: crd, cdf, netcdf, restart, ncrestart, restartnc, dcd, charmm, cor, pdb, mol2, trr, gro, binpos, xtc, cif, arc, sqm, sdf, conflib.\n",
                "  --output_cpptraj_path OUTPUT_CPPTRAJ_PATH\n",
                "                        Path to the output analysis."
            ]
        },
        {
            "cell_type": "markdown",
            "metadata": {},
            "source": [
                "### I / O Arguments"
            ]
        },
        {
            "cell_type": "markdown",
            "metadata": {},
            "source": [
                "Syntax: input_argument (datatype) : Definition\n",
                "\n",
                "Config input / output arguments for this building block:\n",
                "\n",
                "* **input_top_path** (*str*): Path to the input structure or topology file. File type: input. [Sample file](https://github.com/bioexcel/biobb_analysis/raw/master/biobb_analysis/test/data/ambertools/cpptraj.parm.top). Accepted formats: top, pdb, prmtop, parmtop, zip.\n",
                "* **input_traj_path** (*str*): Path to the input trajectory to be processed.  File type: input. [Sample file](https://github.com/bioexcel/biobb_analysis/raw/master/biobb_analysis/test/data/ambertools/cpptraj.traj.dcd). Accepted formats: crd, cdf, netcdf, restart, ncrestart, restartnc, dcd, charmm, cor, pdb, mol2, trr, gro, binpos, xtc, cif, arc, sqm, sdf, conflib.\n",
                "* **output_cpptraj_path** (*str*): Path to the output analysis. File type: output. [Sample file](https://github.com/bioexcel/biobb_analysis/raw/master/biobb_analysis/test/reference/ambertools/ref_cpptraj.rgyr.dat). Accepted formats: dat, agr, xmgr, gnu."
            ]
        },
        {
            "cell_type": "markdown",
            "metadata": {},
            "source": [
                "### Config"
            ]
        },
        {
            "cell_type": "markdown",
            "metadata": {},
            "source": [
                "Syntax: input_parameter (datatype) - (default_value) Definition\n",
                "\n",
                "Config parameters for this building block:\n",
                "\n",
                "* **in_parameters** (*dict*) - (None) Parameters for input trajectory. Accepted parameters:\n",
                "    * **start** (*int*) - (1) Starting frame for slicing\n",
                "    * **end** (*int*) - (-1) Ending frame for slicing\n",
                "    * **step** (*int*) - (1) Step for slicing\n",
                "    * **mask** (*string*) - (\"all-atoms\") Mask definition. Values: c-alpha, backbone, all-atoms, heavy-atoms, side-chain, solute, ions, solvent.\n",
                "* **cpptraj_path** (*str*) - (\"cpptraj\") Path to the cpptraj executable binary.\n",
                "* **remove_tmp** (*bool*) - (True) [WF property] Remove temporal files.\n",
                "* **restart** (*bool*) - (False) [WF property] Do not execute if output files exist.\n",
                "* **sandbox_path** (*str*) - (\"./\") [WF property] Parent path to the sandbox directory.\n",
                "* **container_path** (*string*) - (None) Container path definition.\n",
                "* **container_image** (*string*) - ('afandiadib/ambertools:serial') Container image definition.\n",
                "* **container_volume_path** (*string*) - ('/tmp') Container volume path definition.\n",
                "* **container_working_dir** (*string*) - (None) Container working directory definition.\n",
                "* **container_user_id** (*string*) - (None) Container user_id definition.\n",
                "* **container_shell_path** (*string*) - ('/bin/bash') Path to default shell inside the container."
            ]
        },
        {
            "cell_type": "markdown",
            "metadata": {},
            "source": [
                "### YAML"
            ]
        },
        {
            "cell_type": "markdown",
            "metadata": {},
            "source": [
                "#### Common file config"
            ]
        },
        {
            "cell_type": "code",
            "execution_count": null,
            "metadata": {},
            "outputs": [],
            "source": [
                "properties:\n",
                "  in_parameters:\n",
                "    start: 1\n",
                "    end: -1\n",
                "    step: 1\n",
                "    mask: c-alpha"
            ]
        },
        {
            "cell_type": "markdown",
            "metadata": {},
            "source": [
                "#### Docker file config"
            ]
        },
        {
            "cell_type": "code",
            "execution_count": null,
            "metadata": {},
            "outputs": [],
            "source": [
                "properties:\n",
                "  in_parameters:\n",
                "    start: 1\n",
                "    end: -1\n",
                "    step: 1\n",
                "    mask: c-alpha\n",
                "  container_path: docker\n",
                "  container_image: afandiadib/ambertools:serial\n",
                "  container_volume_path: /tmp"
            ]
        },
        {
            "cell_type": "markdown",
            "metadata": {},
            "source": [
                "#### Singularity file config"
            ]
        },
        {
            "cell_type": "code",
            "execution_count": null,
            "metadata": {},
            "outputs": [],
            "source": [
                "properties:\n",
                "  in_parameters:\n",
                "    start: 1\n",
                "    end: -1\n",
                "    step: 1\n",
                "    mask: c-alpha\n",
                "  container_path: singularity\n",
                "  container_image: shub://bioexcel/ambertools_singularity\n",
                "  container_volume_path: /tmp"
            ]
        },
        {
            "cell_type": "markdown",
            "metadata": {},
            "source": [
                "#### Command line"
            ]
        },
        {
            "cell_type": "code",
            "execution_count": null,
            "metadata": {},
            "outputs": [],
            "source": [
                "cpptraj_rgyr --config data/conf/rgyr.yml --input_top_path data/input/cpptraj.parm.top --input_traj_path data/input/cpptraj.traj.dcd --output_cpptraj_path data/output/output.rgyr.dat"
            ]
        },
        {
            "cell_type": "markdown",
            "metadata": {},
            "source": [
                "### JSON"
            ]
        },
        {
            "cell_type": "markdown",
            "metadata": {},
            "source": [
                "#### Common file config"
            ]
        },
        {
            "cell_type": "code",
            "execution_count": null,
            "metadata": {},
            "outputs": [],
            "source": [
                "{\n",
                "  \"properties\": {\n",
                "    \"in_parameters\": {\n",
                "      \"start\": 1,\n",
                "      \"end\": -1,\n",
                "      \"step\": 1,\n",
                "      \"mask\": \"c-alpha\"\n",
                "    }\n",
                "  }\n",
                "}"
            ]
        },
        {
            "cell_type": "markdown",
            "metadata": {},
            "source": [
                "#### Docker file config"
            ]
        },
        {
            "cell_type": "code",
            "execution_count": null,
            "metadata": {},
            "outputs": [],
            "source": [
                "{\n",
                "  \"properties\": {\n",
                "    \"in_parameters\": {\n",
                "      \"start\": 1,\n",
                "      \"end\": -1,\n",
                "      \"step\": 1,\n",
                "      \"mask\": \"c-alpha\"\n",
                "    },\n",
                "    \"container_path\": \"docker\",\n",
                "    \"container_image\": \"afandiadib/ambertools:serial\",\n",
                "    \"container_volume_path\": \"/tmp\"\n",
                "  }\n",
                "}"
            ]
        },
        {
            "cell_type": "markdown",
            "metadata": {},
            "source": [
                "#### Singularity file config"
            ]
        },
        {
            "cell_type": "code",
            "execution_count": null,
            "metadata": {},
            "outputs": [],
            "source": [
                "{\n",
                "  \"properties\": {\n",
                "    \"in_parameters\": {\n",
                "      \"start\": 1,\n",
                "      \"end\": -1,\n",
                "      \"step\": 1,\n",
                "      \"mask\": \"c-alpha\"\n",
                "    },\n",
                "    \"container_path\": \"singularity\",\n",
                "    \"container_image\": \"shub://bioexcel/ambertools_singularity\",\n",
                "    \"container_volume_path\": \"/tmp\"\n",
                "  }\n",
                "}"
            ]
        },
        {
            "cell_type": "markdown",
            "metadata": {},
            "source": [
                "#### Command line"
            ]
        },
        {
            "cell_type": "code",
            "execution_count": null,
            "metadata": {},
            "outputs": [],
            "source": [
                "cpptraj_rgyr --config data/conf/rgyr.json --input_top_path data/input/cpptraj.parm.top --input_traj_path data/input/cpptraj.traj.dcd --output_cpptraj_path data/output/output.rgyr.dat"
            ]
        },
        {
            "cell_type": "markdown",
            "metadata": {},
            "source": [
                "## Cpptraj rms"
            ]
        },
        {
            "cell_type": "markdown",
            "metadata": {},
            "source": [
                "Calculates the Root Mean Square deviation (RMSd) of a given cpptraj compatible trajectory.s."
            ]
        },
        {
            "cell_type": "markdown",
            "metadata": {},
            "source": [
                "### Get help"
            ]
        },
        {
            "cell_type": "markdown",
            "metadata": {},
            "source": [
                "Command:"
            ]
        },
        {
            "cell_type": "code",
            "execution_count": null,
            "metadata": {},
            "outputs": [],
            "source": [
                "cpptraj_rms -h"
            ]
        },
        {
            "cell_type": "code",
            "execution_count": null,
            "metadata": {},
            "outputs": [],
            "source": [
                "usage: cpptraj_rms [-h] [--config CONFIG] --input_top_path INPUT_TOP_PATH --input_traj_path INPUT_TRAJ_PATH [--input_exp_path INPUT_EXP_PATH] --output_cpptraj_path OUTPUT_CPPTRAJ_PATH\n",
                "\n",
                "Calculates the Root Mean Square deviation (RMSd) of a given cpptraj compatible trajectory.\n",
                "\n",
                "optional arguments:\n",
                "  -h, --help            show this help message and exit\n",
                "  --config CONFIG       Configuration file\n",
                "  --input_exp_path INPUT_EXP_PATH\n",
                "                        Path to the experimental reference file (required if reference = experimental).\n",
                "\n",
                "required arguments:\n",
                "  --input_top_path INPUT_TOP_PATH\n",
                "                        Path to the input structure or topology file. Accepted formats: top, pdb, prmtop, parmtop, zip.\n",
                "  --input_traj_path INPUT_TRAJ_PATH\n",
                "                        Path to the input trajectory to be processed. Accepted formats: crd, cdf, netcdf, restart, ncrestart, restartnc, dcd, charmm, cor, pdb, mol2, trr, gro, binpos, xtc, cif, arc, sqm, sdf, conflib.\n",
                "  --output_cpptraj_path OUTPUT_CPPTRAJ_PATH\n",
                "                        Path to the output processed analysis."
            ]
        },
        {
            "cell_type": "markdown",
            "metadata": {},
            "source": [
                "### I / O Arguments"
            ]
        },
        {
            "cell_type": "markdown",
            "metadata": {},
            "source": [
                "Syntax: input_argument (datatype) : Definition\n",
                "\n",
                "Config input / output arguments for this building block:\n",
                "\n",
                "* **input_top_path** (*str*): Path to the input structure or topology file. File type: input. [Sample file](https://github.com/bioexcel/biobb_analysis/raw/master/biobb_analysis/test/data/ambertools/cpptraj.parm.top). Accepted formats: top, pdb, prmtop, parmtop, zip.\n",
                "* **input_traj_path** (*str*): Path to the input trajectory to be processed.  File type: input. [Sample file](https://github.com/bioexcel/biobb_analysis/raw/master/biobb_analysis/test/data/ambertools/cpptraj.traj.dcd). Accepted formats: crd, cdf, netcdf, restart, ncrestart, restartnc, dcd, charmm, cor, pdb, mol2, trr, gro, binpos, xtc, cif, arc, sqm, sdf, conflib.\n",
                "* **input_exp_path** (*str*) (Optional): Path to the experimental reference file (required if reference = experimental). File type: input. [Sample file](https://github.com/bioexcel/biobb_analysis/raw/master/biobb_analysis/test/data/ambertools/experimental.1e5t.pdb). \n",
                "* **output_cpptraj_path** (*str*): Path to the output processed analysis. File type: output. [Sample file](https://github.com/bioexcel/biobb_analysis/raw/master/biobb_analysis/test/reference/ambertools/ref_cpptraj.rms.first.dat). Accepted formats: dat, agr, xmgr, gnu."
            ]
        },
        {
            "cell_type": "markdown",
            "metadata": {},
            "source": [
                "### Config"
            ]
        },
        {
            "cell_type": "markdown",
            "metadata": {},
            "source": [
                "Syntax: input_parameter (datatype) - (default_value) Definition\n",
                "\n",
                "Config parameters for this building block:\n",
                "\n",
                "* **in_parameters** (*dict*) - (None) Parameters for input trajectory. Accepted parameters:\n",
                "    * **start** (*int*) - (1) Starting frame for slicing\n",
                "    * **end** (*int*) - (-1) Ending frame for slicing\n",
                "    * **step** (*int*) - (1) Step for slicing\n",
                "    * **mask** (*string*) - (\"all-atoms\") Mask definition. Values: c-alpha, backbone, all-atoms, heavy-atoms, side-chain, solute, ions, solvent.\n",
                "    * **reference** (*string*) - (\"first\") Reference definition. Values: first, average, experimental.\n",
                "* **cpptraj_path** (*str*) - (\"cpptraj\") Path to the cpptraj executable binary.\n",
                "* **remove_tmp** (*bool*) - (True) [WF property] Remove temporal files.\n",
                "* **restart** (*bool*) - (False) [WF property] Do not execute if output files exist.\n",
                "* **sandbox_path** (*str*) - (\"./\") [WF property] Parent path to the sandbox directory.\n",
                "* **container_path** (*string*) - (None) Container path definition.\n",
                "* **container_image** (*string*) - ('afandiadib/ambertools:serial') Container image definition.\n",
                "* **container_volume_path** (*string*) - ('/tmp') Container volume path definition.\n",
                "* **container_working_dir** (*string*) - (None) Container working directory definition.\n",
                "* **container_user_id** (*string*) - (None) Container user_id definition.\n",
                "* **container_shell_path** (*string*) - ('/bin/bash') Path to default shell inside the container."
            ]
        },
        {
            "cell_type": "markdown",
            "metadata": {},
            "source": [
                "### YAML"
            ]
        },
        {
            "cell_type": "markdown",
            "metadata": {},
            "source": [
                "#### Common file config"
            ]
        },
        {
            "cell_type": "code",
            "execution_count": null,
            "metadata": {},
            "outputs": [],
            "source": [
                "properties:\n",
                "  in_parameters:\n",
                "    start: 1\n",
                "    end: -1\n",
                "    step: 1\n",
                "    mask: c-alpha\n",
                "    reference: first"
            ]
        },
        {
            "cell_type": "markdown",
            "metadata": {},
            "source": [
                "#### Docker file config"
            ]
        },
        {
            "cell_type": "code",
            "execution_count": null,
            "metadata": {},
            "outputs": [],
            "source": [
                "properties:\n",
                "  in_parameters:\n",
                "    start: 1\n",
                "    end: -1\n",
                "    step: 1\n",
                "    mask: c-alpha\n",
                "    reference: first\n",
                "  container_path: docker\n",
                "  container_image: afandiadib/ambertools:serial\n",
                "  container_volume_path: /tmp"
            ]
        },
        {
            "cell_type": "markdown",
            "metadata": {},
            "source": [
                "#### Singularity file config"
            ]
        },
        {
            "cell_type": "code",
            "execution_count": null,
            "metadata": {},
            "outputs": [],
            "source": [
                "properties:\n",
                "  in_parameters:\n",
                "    start: 1\n",
                "    end: -1\n",
                "    step: 1\n",
                "    mask: c-alpha\n",
                "    reference: first\n",
                "  container_path: singularity\n",
                "  container_image: shub://bioexcel/ambertools_singularity\n",
                "  container_volume_path: /tmp"
            ]
        },
        {
            "cell_type": "markdown",
            "metadata": {},
            "source": [
                "#### Command line"
            ]
        },
        {
            "cell_type": "code",
            "execution_count": null,
            "metadata": {},
            "outputs": [],
            "source": [
                "cpptraj_rms --config data/conf/rms.yml --input_top_path data/input/cpptraj.parm.top --input_traj_path data/input/cpptraj.traj.dcd --output_cpptraj_path data/output/output.rms.dat"
            ]
        },
        {
            "cell_type": "markdown",
            "metadata": {},
            "source": [
                "### JSON"
            ]
        },
        {
            "cell_type": "markdown",
            "metadata": {},
            "source": [
                "#### Common file config"
            ]
        },
        {
            "cell_type": "code",
            "execution_count": null,
            "metadata": {},
            "outputs": [],
            "source": [
                "{\n",
                "  \"properties\": {\n",
                "    \"in_parameters\": {\n",
                "      \"start\": 1,\n",
                "      \"end\": -1,\n",
                "      \"step\": 1,\n",
                "      \"mask\": \"c-alpha\",\n",
                "      \"reference\": \"first\"\n",
                "    }\n",
                "  }\n",
                "}"
            ]
        },
        {
            "cell_type": "markdown",
            "metadata": {},
            "source": [
                "#### Docker file config"
            ]
        },
        {
            "cell_type": "code",
            "execution_count": null,
            "metadata": {},
            "outputs": [],
            "source": [
                "{\n",
                "  \"properties\": {\n",
                "    \"in_parameters\": {\n",
                "      \"start\": 1,\n",
                "      \"end\": -1,\n",
                "      \"step\": 1,\n",
                "      \"mask\": \"c-alpha\",\n",
                "      \"reference\": \"first\"\n",
                "    },\n",
                "    \"container_path\": \"docker\",\n",
                "    \"container_image\": \"afandiadib/ambertools:serial\",\n",
                "    \"container_volume_path\": \"/tmp\"\n",
                "  }\n",
                "}"
            ]
        },
        {
            "cell_type": "markdown",
            "metadata": {},
            "source": [
                "#### Singularity file config"
            ]
        },
        {
            "cell_type": "code",
            "execution_count": null,
            "metadata": {},
            "outputs": [],
            "source": [
                "{\n",
                "  \"properties\": {\n",
                "    \"in_parameters\": {\n",
                "      \"start\": 1,\n",
                "      \"end\": -1,\n",
                "      \"step\": 1,\n",
                "      \"mask\": \"c-alpha\",\n",
                "      \"reference\": \"first\"\n",
                "    },\n",
                "    \"container_path\": \"singularity\",\n",
                "    \"container_image\": \"shub://bioexcel/ambertools_singularity\",\n",
                "    \"container_volume_path\": \"/tmp\"\n",
                "  }\n",
                "}"
            ]
        },
        {
            "cell_type": "markdown",
            "metadata": {},
            "source": [
                "#### Command line"
            ]
        },
        {
            "cell_type": "code",
            "execution_count": null,
            "metadata": {},
            "outputs": [],
            "source": [
                "cpptraj_rms --config data/conf/rms.json --input_top_path data/input/cpptraj.parm.top --input_traj_path data/input/cpptraj.traj.dcd --output_cpptraj_path data/output/output.rms.dat"
            ]
        },
        {
            "cell_type": "markdown",
            "metadata": {},
            "source": [
                "## Cpptraj rmsf"
            ]
        },
        {
            "cell_type": "markdown",
            "metadata": {},
            "source": [
                "Calculates the Root Mean Square fluctuations (RMSf) of a given cpptraj compatible trajectory."
            ]
        },
        {
            "cell_type": "markdown",
            "metadata": {},
            "source": [
                "### Get help"
            ]
        },
        {
            "cell_type": "markdown",
            "metadata": {},
            "source": [
                "Command:"
            ]
        },
        {
            "cell_type": "code",
            "execution_count": null,
            "metadata": {},
            "outputs": [],
            "source": [
                "cpptraj_rmsf -h"
            ]
        },
        {
            "cell_type": "code",
            "execution_count": null,
            "metadata": {},
            "outputs": [],
            "source": [
                "usage: cpptraj_rmsf [-h] [--config CONFIG] --input_top_path INPUT_TOP_PATH --input_traj_path INPUT_TRAJ_PATH [--input_exp_path INPUT_EXP_PATH] --output_cpptraj_path OUTPUT_CPPTRAJ_PATH\n",
                "\n",
                "Calculates the Root Mean Square fluctuations (RMSf) of a given cpptraj compatible trajectory.\n",
                "\n",
                "optional arguments:\n",
                "  -h, --help            show this help message and exit\n",
                "  --config CONFIG       Configuration file\n",
                "  --input_exp_path INPUT_EXP_PATH\n",
                "                        Path to the experimental reference file (required if reference = experimental).\n",
                "\n",
                "required arguments:\n",
                "  --input_top_path INPUT_TOP_PATH\n",
                "                        Path to the input structure or topology file. Accepted formats: top, pdb, prmtop, parmtop, zip.\n",
                "  --input_traj_path INPUT_TRAJ_PATH\n",
                "                        Path to the input trajectory to be processed. Accepted formats: crd, cdf, netcdf, restart, ncrestart, restartnc, dcd, charmm, cor, pdb, mol2, trr, gro, binpos, xtc, cif, arc, sqm, sdf, conflib.\n",
                "  --output_cpptraj_path OUTPUT_CPPTRAJ_PATH\n",
                "                        Path to the output processed analysis."
            ]
        },
        {
            "cell_type": "markdown",
            "metadata": {},
            "source": [
                "### I / O Arguments"
            ]
        },
        {
            "cell_type": "markdown",
            "metadata": {},
            "source": [
                "Syntax: input_argument (datatype) : Definition\n",
                "\n",
                "Config input / output arguments for this building block:\n",
                "\n",
                "* **input_top_path** (*str*): Path to the input structure or topology file. File type: input. [Sample file](https://github.com/bioexcel/biobb_analysis/raw/master/biobb_analysis/test/data/ambertools/cpptraj.parm.top). Accepted formats: top, pdb, prmtop, parmtop, zip.\n",
                "* **input_traj_path** (*str*): Path to the input trajectory to be processed.  File type: input. [Sample file](https://github.com/bioexcel/biobb_analysis/raw/master/biobb_analysis/test/data/ambertools/cpptraj.traj.dcd). Accepted formats: crd, cdf, netcdf, restart, ncrestart, restartnc, dcd, charmm, cor, pdb, mol2, trr, gro, binpos, xtc, cif, arc, sqm, sdf, conflib.\n",
                "* **input_exp_path** (*str*) (Optional): Path to the experimental reference file (required if reference = experimental). File type: input. [Sample file](https://github.com/bioexcel/biobb_analysis/raw/master/biobb_analysis/test/data/ambertools/experimental.1e5t.pdb).\n",
                "* **output_cpptraj_path** (*str*): Path to the output processed analysis. File type: output. [Sample file](https://github.com/bioexcel/biobb_analysis/raw/master/biobb_analysis/test/reference/ambertools/ref_cpptraj.rmsf.first.dat). Accepted formats: dat, agr, xmgr, gnu."
            ]
        },
        {
            "cell_type": "markdown",
            "metadata": {},
            "source": [
                "### Config"
            ]
        },
        {
            "cell_type": "markdown",
            "metadata": {},
            "source": [
                "Syntax: input_parameter (datatype) - (default_value) Definition\n",
                "\n",
                "Config parameters for this building block:\n",
                "\n",
                "* **in_parameters** (*dict*) - (None) Parameters for input trajectory. Accepted parameters:\n",
                "    * **start** (*int*) - (1) Starting frame for slicing\n",
                "    * **end** (*int*) - (-1) Ending frame for slicing\n",
                "    * **step** (*int*) - (1) Step for slicing\n",
                "    * **mask** (*string*) - (\"all-atoms\") Mask definition. Values: c-alpha, backbone, all-atoms, heavy-atoms, side-chain, solute, ions, solvent.\n",
                "    * **reference** (*string*) - (\"first\") Reference definition. Values: first, average, experimental.\n",
                "* **cpptraj_path** (*str*) - (\"cpptraj\") Path to the cpptraj executable binary.\n",
                "* **remove_tmp** (*bool*) - (True) [WF property] Remove temporal files.\n",
                "* **restart** (*bool*) - (False) [WF property] Do not execute if output files exist.\n",
                "* **sandbox_path** (*str*) - (\"./\") [WF property] Parent path to the sandbox directory.\n",
                "* **container_path** (*string*) - (None) Container path definition.\n",
                "* **container_image** (*string*) - ('afandiadib/ambertools:serial') Container image definition.\n",
                "* **container_volume_path** (*string*) - ('/tmp') Container volume path definition.\n",
                "* **container_working_dir** (*string*) - (None) Container working directory definition.\n",
                "* **container_user_id** (*string*) - (None) Container user_id definition.\n",
                "* **container_shell_path** (*string*) - ('/bin/bash') Path to default shell inside the container."
            ]
        },
        {
            "cell_type": "markdown",
            "metadata": {},
            "source": [
                "### YAML"
            ]
        },
        {
            "cell_type": "markdown",
            "metadata": {},
            "source": [
                "#### Common file config"
            ]
        },
        {
            "cell_type": "code",
            "execution_count": null,
            "metadata": {},
            "outputs": [],
            "source": [
                "properties:\n",
                "  in_parameters:\n",
                "    start: 1\n",
                "    end: -1\n",
                "    step: 1\n",
                "    mask: c-alpha\n",
                "    reference: first"
            ]
        },
        {
            "cell_type": "markdown",
            "metadata": {},
            "source": [
                "#### Docker file config"
            ]
        },
        {
            "cell_type": "code",
            "execution_count": null,
            "metadata": {},
            "outputs": [],
            "source": [
                "properties:\n",
                "  in_parameters:\n",
                "    start: 1\n",
                "    end: -1\n",
                "    step: 1\n",
                "    mask: c-alpha\n",
                "    reference: first\n",
                "  container_path: docker\n",
                "  container_image: afandiadib/ambertools:serial\n",
                "  container_volume_path: /tmp"
            ]
        },
        {
            "cell_type": "markdown",
            "metadata": {},
            "source": [
                "#### Singularity file config"
            ]
        },
        {
            "cell_type": "code",
            "execution_count": null,
            "metadata": {},
            "outputs": [],
            "source": [
                "properties:\n",
                "  in_parameters:\n",
                "    start: 1\n",
                "    end: -1\n",
                "    step: 1\n",
                "    mask: c-alpha\n",
                "    reference: first\n",
                "  container_path: singularity\n",
                "  container_image: shub://bioexcel/ambertools_singularity\n",
                "  container_volume_path: /tmp"
            ]
        },
        {
            "cell_type": "markdown",
            "metadata": {},
            "source": [
                "#### Command line"
            ]
        },
        {
            "cell_type": "code",
            "execution_count": null,
            "metadata": {},
            "outputs": [],
            "source": [
                "cpptraj_rmsf --config data/conf/rmsf.yml --input_top_path data/input/cpptraj.parm.top --input_traj_path data/input/cpptraj.traj.dcd --output_cpptraj_path data/output/output.rmsf.dat"
            ]
        },
        {
            "cell_type": "markdown",
            "metadata": {},
            "source": [
                "### JSON"
            ]
        },
        {
            "cell_type": "markdown",
            "metadata": {},
            "source": [
                "#### Common file config"
            ]
        },
        {
            "cell_type": "code",
            "execution_count": null,
            "metadata": {},
            "outputs": [],
            "source": [
                "{\n",
                "  \"properties\": {\n",
                "    \"in_parameters\": {\n",
                "      \"start\": 1,\n",
                "      \"end\": -1,\n",
                "      \"step\": 1,\n",
                "      \"mask\": \"c-alpha\",\n",
                "      \"reference\": \"first\"\n",
                "    }\n",
                "  }\n",
                "}"
            ]
        },
        {
            "cell_type": "markdown",
            "metadata": {},
            "source": [
                "#### Docker file config"
            ]
        },
        {
            "cell_type": "code",
            "execution_count": null,
            "metadata": {},
            "outputs": [],
            "source": [
                "{\n",
                "  \"properties\": {\n",
                "    \"in_parameters\": {\n",
                "      \"start\": 1,\n",
                "      \"end\": -1,\n",
                "      \"step\": 1,\n",
                "      \"mask\": \"c-alpha\",\n",
                "      \"reference\": \"first\"\n",
                "    },\n",
                "    \"container_path\": \"docker\",\n",
                "    \"container_image\": \"afandiadib/ambertools:serial\",\n",
                "    \"container_volume_path\": \"/tmp\"\n",
                "  }\n",
                "}"
            ]
        },
        {
            "cell_type": "markdown",
            "metadata": {},
            "source": [
                "#### Singularity file config"
            ]
        },
        {
            "cell_type": "code",
            "execution_count": null,
            "metadata": {},
            "outputs": [],
            "source": [
                "{\n",
                "  \"properties\": {\n",
                "    \"in_parameters\": {\n",
                "      \"start\": 1,\n",
                "      \"end\": -1,\n",
                "      \"step\": 1,\n",
                "      \"mask\": \"c-alpha\",\n",
                "      \"reference\": \"first\"\n",
                "    },\n",
                "    \"container_path\": \"singularity\",\n",
                "    \"container_image\": \"shub://bioexcel/ambertools_singularity\",\n",
                "    \"container_volume_path\": \"/tmp\"\n",
                "  }\n",
                "}"
            ]
        },
        {
            "cell_type": "markdown",
            "metadata": {},
            "source": [
                "#### Command line"
            ]
        },
        {
            "cell_type": "code",
            "execution_count": null,
            "metadata": {},
            "outputs": [],
            "source": [
                "cpptraj_rmsf --config data/conf/rmsf.json --input_top_path data/input/cpptraj.parm.top --input_traj_path data/input/cpptraj.traj.dcd --output_cpptraj_path data/output/output.rmsf.dat"
            ]
        },
        {
            "cell_type": "markdown",
            "metadata": {},
            "source": [
                "## Cpptraj slice"
            ]
        },
        {
            "cell_type": "markdown",
            "metadata": {},
            "source": [
                "Extracts a particular trajectory slice from a given cpptraj compatible trajectory."
            ]
        },
        {
            "cell_type": "markdown",
            "metadata": {},
            "source": [
                "### Get help"
            ]
        },
        {
            "cell_type": "markdown",
            "metadata": {},
            "source": [
                "Command:"
            ]
        },
        {
            "cell_type": "code",
            "execution_count": null,
            "metadata": {},
            "outputs": [],
            "source": [
                "cpptraj_slice -h"
            ]
        },
        {
            "cell_type": "code",
            "execution_count": null,
            "metadata": {},
            "outputs": [],
            "source": [
                "usage: cpptraj_slice [-h] [--config CONFIG] --input_top_path INPUT_TOP_PATH --input_traj_path INPUT_TRAJ_PATH --output_cpptraj_path OUTPUT_CPPTRAJ_PATH\n",
                "\n",
                "Extracts a particular trajectory slice from a given cpptraj compatible trajectory.\n",
                "\n",
                "optional arguments:\n",
                "  -h, --help            show this help message and exit\n",
                "  --config CONFIG       Configuration file\n",
                "\n",
                "required arguments:\n",
                "  --input_top_path INPUT_TOP_PATH\n",
                "                        Path to the input structure or topology file. Accepted formats: top, pdb, prmtop, parmtop, zip.\n",
                "  --input_traj_path INPUT_TRAJ_PATH\n",
                "                        Path to the input trajectory to be processed. Accepted formats: crd, cdf, netcdf, restart, ncrestart, restartnc, dcd, charmm, cor, pdb, mol2, trr, gro, binpos, xtc, cif, arc, sqm, sdf, conflib.\n",
                "  --output_cpptraj_path OUTPUT_CPPTRAJ_PATH\n",
                "                        Path to the output processed trajectory."
            ]
        },
        {
            "cell_type": "markdown",
            "metadata": {},
            "source": [
                "### I / O Arguments"
            ]
        },
        {
            "cell_type": "markdown",
            "metadata": {},
            "source": [
                "Syntax: input_argument (datatype) : Definition\n",
                "\n",
                "Config input / output arguments for this building block:\n",
                "\n",
                "* **input_top_path** (*str*): Path to the input structure or topology file. File type: input. [Sample file](https://github.com/bioexcel/biobb_analysis/raw/master/biobb_analysis/test/data/ambertools/cpptraj.parm.top). Accepted formats: top, pdb, prmtop, parmtop, zip.\n",
                "* **input_traj_path** (*str*): Path to the input trajectory to be processed.  File type: input. [Sample file](https://github.com/bioexcel/biobb_analysis/raw/master/biobb_analysis/test/data/ambertools/cpptraj.traj.dcd). Accepted formats: crd, cdf, netcdf, restart, ncrestart, restartnc, dcd, charmm, cor, pdb, mol2, trr, gro, binpos, xtc, cif, arc, sqm, sdf, conflib.\n",
                "* **output_cpptraj_path** (*str*): Path to the output processed trajectory. File type: output. [Sample file](https://github.com/bioexcel/biobb_analysis/raw/master/biobb_analysis/test/reference/ambertools/ref_cpptraj.slice.netcdf). Accepted formats: crd, netcdf, rst7, ncrst, dcd, pdb, mol2, binpos, trr, xtc, sqm."
            ]
        },
        {
            "cell_type": "markdown",
            "metadata": {},
            "source": [
                "### Config"
            ]
        },
        {
            "cell_type": "markdown",
            "metadata": {},
            "source": [
                "Syntax: input_parameter (datatype) - (default_value) Definition\n",
                "\n",
                "Config parameters for this building block:\n",
                "\n",
                "* **in_parameters** (*dict*) - (None) Parameters for input trajectory. Accepted parameters:\n",
                "    * **start** (*int*) - (1) Starting frame for slicing\n",
                "    * **end** (*int*) - (-1) Ending frame for slicing\n",
                "    * **step** (*int*) - (1) Step for slicing\n",
                "    * **mask** (*string*) - (\"all-atoms\") Mask definition. Values: c-alpha, backbone, all-atoms, heavy-atoms, side-chain, solute, ions, solvent.\n",
                "* **out_parameters** (*dict*) - (None) Parameters for output trajectory.\n",
                "    * **format** (*str*) - (\"netcdf\") Output trajectory format. Values: crd, cdf, netcdf, restart, ncrestart, restartnc, dcd, charmm, cor, pdb, mol2, trr, gro, binpos, xtc, cif, arc, sqm, sdf, conflib.\n",
                "* **cpptraj_path** (*str*) - (\"cpptraj\") Path to the cpptraj executable binary.\n",
                "* **remove_tmp** (*bool*) - (True) [WF property] Remove temporal files.\n",
                "* **restart** (*bool*) - (False) [WF property] Do not execute if output files exist.\n",
                "* **sandbox_path** (*str*) - (\"./\") [WF property] Parent path to the sandbox directory.\n",
                "* **container_path** (*string*) - (None) Container path definition.\n",
                "* **container_image** (*string*) - ('afandiadib/ambertools:serial') Container image definition.\n",
                "* **container_volume_path** (*string*) - ('/tmp') Container volume path definition.\n",
                "* **container_working_dir** (*string*) - (None) Container working directory definition.\n",
                "* **container_user_id** (*string*) - (None) Container user_id definition.\n",
                "* **container_shell_path** (*string*) - ('/bin/bash') Path to default shell inside the container."
            ]
        },
        {
            "cell_type": "markdown",
            "metadata": {},
            "source": [
                "### YAML"
            ]
        },
        {
            "cell_type": "markdown",
            "metadata": {},
            "source": [
                "#### Common file config"
            ]
        },
        {
            "cell_type": "code",
            "execution_count": null,
            "metadata": {},
            "outputs": [],
            "source": [
                "properties:\n",
                "  in_parameters:\n",
                "    start: 2\n",
                "    end: 20\n",
                "    step: 2\n",
                "    mask: c-alpha\n",
                "  out_parameters:\n",
                "    format: netcdf"
            ]
        },
        {
            "cell_type": "markdown",
            "metadata": {},
            "source": [
                "#### Docker file config"
            ]
        },
        {
            "cell_type": "code",
            "execution_count": null,
            "metadata": {},
            "outputs": [],
            "source": [
                "properties:\n",
                "  in_parameters:\n",
                "    start: 2\n",
                "    end: 20\n",
                "    step: 2\n",
                "    mask: c-alpha\n",
                "  out_parameters:\n",
                "    format: netcdf\n",
                "  container_path: docker\n",
                "  container_image: afandiadib/ambertools:serial\n",
                "  container_volume_path: /tmp"
            ]
        },
        {
            "cell_type": "markdown",
            "metadata": {},
            "source": [
                "#### Singularity file config"
            ]
        },
        {
            "cell_type": "code",
            "execution_count": null,
            "metadata": {},
            "outputs": [],
            "source": [
                "properties:\n",
                "  in_parameters:\n",
                "    start: 2\n",
                "    end: 20\n",
                "    step: 2\n",
                "    mask: c-alpha\n",
                "  out_parameters:\n",
                "    format: netcdf\n",
                "  container_path: singularity\n",
                "  container_image: shub://bioexcel/ambertools_singularity\n",
                "  container_volume_path: /tmp"
            ]
        },
        {
            "cell_type": "markdown",
            "metadata": {},
            "source": [
                "#### Command line"
            ]
        },
        {
            "cell_type": "code",
            "execution_count": null,
            "metadata": {},
            "outputs": [],
            "source": [
                "cpptraj_slice --config data/conf/slice.yml --input_top_path data/input/cpptraj.parm.top --input_traj_path data/input/cpptraj.traj.dcd --output_cpptraj_path data/output/output.slice.netcdf"
            ]
        },
        {
            "cell_type": "markdown",
            "metadata": {},
            "source": [
                "### JSON"
            ]
        },
        {
            "cell_type": "markdown",
            "metadata": {},
            "source": [
                "#### Common file config"
            ]
        },
        {
            "cell_type": "code",
            "execution_count": null,
            "metadata": {},
            "outputs": [],
            "source": [
                "{\n",
                "  \"properties\": {\n",
                "    \"in_parameters\": {\n",
                "      \"start\": 1,\n",
                "      \"end\": -1,\n",
                "      \"step\": 1,\n",
                "      \"mask\": \"c-alpha\"\n",
                "    },\n",
                "    \"out_parameters\": {\n",
                "      \"format\": \"netcdf\"\n",
                "    }\n",
                "  }\n",
                "}"
            ]
        },
        {
            "cell_type": "markdown",
            "metadata": {},
            "source": [
                "#### Docker file config"
            ]
        },
        {
            "cell_type": "code",
            "execution_count": null,
            "metadata": {},
            "outputs": [],
            "source": [
                "{\n",
                "  \"properties\": {\n",
                "    \"in_parameters\": {\n",
                "      \"start\": 1,\n",
                "      \"end\": -1,\n",
                "      \"step\": 1,\n",
                "      \"mask\": \"c-alpha\"\n",
                "    },\n",
                "    \"out_parameters\": {\n",
                "      \"format\": \"netcdf\"\n",
                "    },\n",
                "    \"container_path\": \"docker\",\n",
                "    \"container_image\": \"afandiadib/ambertools:serial\",\n",
                "    \"container_volume_path\": \"/tmp\"\n",
                "  }\n",
                "}"
            ]
        },
        {
            "cell_type": "markdown",
            "metadata": {},
            "source": [
                "#### Singularity file config"
            ]
        },
        {
            "cell_type": "code",
            "execution_count": null,
            "metadata": {},
            "outputs": [],
            "source": [
                "{\n",
                "  \"properties\": {\n",
                "    \"in_parameters\": {\n",
                "      \"start\": 1,\n",
                "      \"end\": -1,\n",
                "      \"step\": 1,\n",
                "      \"mask\": \"c-alpha\"\n",
                "    },\n",
                "    \"out_parameters\": {\n",
                "      \"format\": \"netcdf\"\n",
                "    },\n",
                "    \"container_path\": \"singularity\",\n",
                "    \"container_image\": \"shub://bioexcel/ambertools_singularity\",\n",
                "    \"container_volume_path\": \"/tmp\"\n",
                "  }\n",
                "}"
            ]
        },
        {
            "cell_type": "markdown",
            "metadata": {},
            "source": [
                "#### Command line"
            ]
        },
        {
            "cell_type": "code",
            "execution_count": null,
            "metadata": {},
            "outputs": [],
            "source": [
                "cpptraj_slice --config data/conf/slice.json --input_top_path data/input/cpptraj.parm.top --input_traj_path data/input/cpptraj.traj.dcd --output_cpptraj_path data/output/output.slice.netcdf"
            ]
        },
        {
            "cell_type": "markdown",
            "metadata": {},
            "source": [
                "## Cpptraj snapshot"
            ]
        },
        {
            "cell_type": "markdown",
            "metadata": {},
            "source": [
                "Extracts a particular snapshot from a given cpptraj compatible trajectory."
            ]
        },
        {
            "cell_type": "markdown",
            "metadata": {},
            "source": [
                "### Get help"
            ]
        },
        {
            "cell_type": "markdown",
            "metadata": {},
            "source": [
                "Command:"
            ]
        },
        {
            "cell_type": "code",
            "execution_count": null,
            "metadata": {},
            "outputs": [],
            "source": [
                "cpptraj_snapshot -h"
            ]
        },
        {
            "cell_type": "code",
            "execution_count": null,
            "metadata": {},
            "outputs": [],
            "source": [
                "usage: cpptraj_snapshot [-h] --config CONFIG --input_top_path INPUT_TOP_PATH --input_traj_path INPUT_TRAJ_PATH --output_cpptraj_path OUTPUT_CPPTRAJ_PATH\n",
                "\n",
                "Extracts a particular snapshot from a given cpptraj compatible trajectory.\n",
                "\n",
                "optional arguments:\n",
                "  -h, --help            show this help message and exit\n",
                "  --config CONFIG       Configuration file\n",
                "\n",
                "required arguments:\n",
                "  --input_top_path INPUT_TOP_PATH\n",
                "                        Path to the input structure or topology file. Accepted formats: top, pdb, prmtop, parmtop, zip.\n",
                "  --input_traj_path INPUT_TRAJ_PATH\n",
                "                        Path to the input trajectory to be processed. Accepted formats: crd, cdf, netcdf, restart, ncrestart, restartnc, dcd, charmm, cor, pdb, mol2, trr, gro, binpos, xtc, cif, arc, sqm, sdf, conflib.\n",
                "  --output_cpptraj_path OUTPUT_CPPTRAJ_PATH\n",
                "                        Path to the output processed structure."
            ]
        },
        {
            "cell_type": "markdown",
            "metadata": {},
            "source": [
                "### I / O Arguments"
            ]
        },
        {
            "cell_type": "markdown",
            "metadata": {},
            "source": [
                "Syntax: input_argument (datatype) : Definition\n",
                "\n",
                "Config input / output arguments for this building block:\n",
                "\n",
                "* **input_top_path** (*str*): Path to the input structure or topology file. File type: input. [Sample file](https://github.com/bioexcel/biobb_analysis/raw/master/biobb_analysis/test/data/ambertools/cpptraj.parm.top). Accepted formats: top, pdb, prmtop, parmtop, zip.\n",
                "* **input_traj_path** (*str*): Path to the input trajectory to be processed.  File type: input. [Sample file](https://github.com/bioexcel/biobb_analysis/raw/master/biobb_analysis/test/data/ambertools/cpptraj.traj.dcd). Accepted formats: crd, cdf, netcdf, restart, ncrestart, restartnc, dcd, charmm, cor, pdb, mol2, trr, gro, binpos, xtc, cif, arc, sqm, sdf, conflib.\n",
                "* **output_cpptraj_path** (*str*): Path to the output processed structure. File type: output. [Sample file](https://github.com/bioexcel/biobb_analysis/raw/master/biobb_analysis/test/reference/ambertools/ref_cpptraj.snapshot.pdb). Accepted formats: crd, netcdf, rst7, ncrst, dcd, pdb, mol2, binpos, trr, xtc, sqm."
            ]
        },
        {
            "cell_type": "markdown",
            "metadata": {},
            "source": [
                "### Config"
            ]
        },
        {
            "cell_type": "markdown",
            "metadata": {},
            "source": [
                "Syntax: input_parameter (datatype) - (default_value) Definition\n",
                "\n",
                "Config parameters for this building block:\n",
                "\n",
                "* **in_parameters** (*dict*) - (None) Parameters for input trajectory. Accepted parameters:\n",
                "    * **snapshot** (*int*) - (1) Frame to be captured for snapshot\n",
                "    * **mask** (*string*) - (\"all-atoms\") Mask definition. Values: c-alpha, backbone, all-atoms, heavy-atoms, side-chain, solute, ions, solvent.\n",
                "* **out_parameters** (*dict*) - (None) Parameters for output trajectory.\n",
                "    * **format** (*str*) - (\"netcdf\") Output trajectory format. Values: crd, cdf, netcdf, restart, ncrestart, restartnc, dcd, charmm, cor, pdb, mol2, trr, gro, binpos, xtc, cif, arc, sqm, sdf, conflib.\n",
                "* **cpptraj_path** (*str*) - (\"cpptraj\") Path to the cpptraj executable binary.\n",
                "* **remove_tmp** (*bool*) - (True) [WF property] Remove temporal files.\n",
                 "* **restart** (*bool*) - (False) [WF property] Do not execute if output files exist.\n",
                "* **sandbox_path** (*str*) - (\"./\") [WF property] Parent path to the sandbox directory.\n",
                "* **container_path** (*string*) - (None) Container path definition.\n",
                "* **container_image** (*string*) - ('afandiadib/ambertools:serial') Container image definition.\n",
                "* **container_volume_path** (*string*) - ('/tmp') Container volume path definition.\n",
                "* **container_working_dir** (*string*) - (None) Container working directory definition.\n",
                "* **container_user_id** (*string*) - (None) Container user_id definition.\n",
                "* **container_shell_path** (*string*) - ('/bin/bash') Path to default shell inside the container."
            ]
        },
        {
            "cell_type": "markdown",
            "metadata": {},
            "source": [
                "### YAML"
            ]
        },
        {
            "cell_type": "markdown",
            "metadata": {},
            "source": [
                "#### Common file config"
            ]
        },
        {
            "cell_type": "code",
            "execution_count": null,
            "metadata": {},
            "outputs": [],
            "source": [
                "properties:\n",
                "  in_parameters:\n",
                "    snapshot: 12\n",
                "    mask: c-alpha\n",
                "  out_parameters:\n",
                "    format: pdb"
            ]
        },
        {
            "cell_type": "markdown",
            "metadata": {},
            "source": [
                "#### Docker file config"
            ]
        },
        {
            "cell_type": "code",
            "execution_count": null,
            "metadata": {},
            "outputs": [],
            "source": [
                "properties:\n",
                "  in_parameters:\n",
                "    snapshot: 12\n",
                "    mask: c-alpha\n",
                "  out_parameters:\n",
                "    format: pdb\n",
                "  container_path: docker\n",
                "  container_image: afandiadib/ambertools:serial\n",
                "  container_volume_path: /tmp"
            ]
        },
        {
            "cell_type": "markdown",
            "metadata": {},
            "source": [
                "#### Singularity file config"
            ]
        },
        {
            "cell_type": "code",
            "execution_count": null,
            "metadata": {},
            "outputs": [],
            "source": [
                "properties:\n",
                "  in_parameters:\n",
                "    snapshot: 12\n",
                "    mask: c-alpha\n",
                "  out_parameters:\n",
                "    format: pdb\n",
                "  container_path: singularity\n",
                "  container_image: shub://bioexcel/ambertools_singularity\n",
                "  container_volume_path: /tmp"
            ]
        },
        {
            "cell_type": "markdown",
            "metadata": {},
            "source": [
                "#### Command line"
            ]
        },
        {
            "cell_type": "code",
            "execution_count": null,
            "metadata": {},
            "outputs": [],
            "source": [
                "cpptraj_snapshot --config data/conf/snapshot.yml --input_top_path data/input/cpptraj.parm.top --input_traj_path data/input/cpptraj.traj.dcd --output_cpptraj_path data/output/output.snapshot.pdb"
            ]
        },
        {
            "cell_type": "markdown",
            "metadata": {},
            "source": [
                "### JSON"
            ]
        },
        {
            "cell_type": "markdown",
            "metadata": {},
            "source": [
                "#### Common file config"
            ]
        },
        {
            "cell_type": "code",
            "execution_count": null,
            "metadata": {},
            "outputs": [],
            "source": [
                "{\n",
                "  \"properties\": {\n",
                "    \"in_parameters\": {\n",
                "      \"snapshot\": 12,\n",
                "      \"mask\": \"c-alpha\"\n",
                "    },\n",
                "    \"out_parameters\": {\n",
                "      \"format\": \"pdb\"\n",
                "    }\n",
                "  }\n",
                "}"
            ]
        },
        {
            "cell_type": "markdown",
            "metadata": {},
            "source": [
                "#### Docker file config"
            ]
        },
        {
            "cell_type": "code",
            "execution_count": null,
            "metadata": {},
            "outputs": [],
            "source": [
                "{\n",
                "  \"properties\": {\n",
                "    \"in_parameters\": {\n",
                "      \"snapshot\": 12,\n",
                "      \"mask\": \"c-alpha\"\n",
                "    },\n",
                "    \"out_parameters\": {\n",
                "      \"format\": \"pdb\"\n",
                "    },\n",
                "    \"container_path\": \"docker\",\n",
                "    \"container_image\": \"afandiadib/ambertools:serial\",\n",
                "    \"container_volume_path\": \"/tmp\"\n",
                "  }\n",
                "}"
            ]
        },
        {
            "cell_type": "markdown",
            "metadata": {},
            "source": [
                "#### Singularity file config"
            ]
        },
        {
            "cell_type": "code",
            "execution_count": null,
            "metadata": {},
            "outputs": [],
            "source": [
                "{\n",
                "  \"properties\": {\n",
                "    \"in_parameters\": {\n",
                "      \"snapshot\": 12,\n",
                "      \"mask\": \"c-alpha\"\n",
                "    },\n",
                "    \"out_parameters\": {\n",
                "      \"format\": \"pdb\"\n",
                "    },\n",
                "    \"container_path\": \"singularity\",\n",
                "    \"container_image\": \"shub://bioexcel/ambertools_singularity\",\n",
                "    \"container_volume_path\": \"/tmp\"\n",
                "  }\n",
                "}"
            ]
        },
        {
            "cell_type": "markdown",
            "metadata": {},
            "source": [
                "#### Command line"
            ]
        },
        {
            "cell_type": "code",
            "execution_count": null,
            "metadata": {},
            "outputs": [],
            "source": [
                "cpptraj_snapshot --config data/conf/slice.json --input_top_path data/input/cpptraj.parm.top --input_traj_path data/input/cpptraj.traj.dcd --output_cpptraj_path data/output/output.slice.netcdf"
            ]
        },
        {
            "cell_type": "markdown",
            "metadata": {},
            "source": [
                "## Cpptraj strip"
            ]
        },
        {
            "cell_type": "markdown",
            "metadata": {},
            "source": [
                "Strips a defined set of atoms (mask) from a given cpptraj compatible trajectory."
            ]
        },
        {
            "cell_type": "markdown",
            "metadata": {},
            "source": [
                "### Get help"
            ]
        },
        {
            "cell_type": "markdown",
            "metadata": {},
            "source": [
                "Command:"
            ]
        },
        {
            "cell_type": "code",
            "execution_count": null,
            "metadata": {},
            "outputs": [],
            "source": [
                "cpptraj_strip -h"
            ]
        },
        {
            "cell_type": "code",
            "execution_count": null,
            "metadata": {},
            "outputs": [],
            "source": [
                "usage: cpptraj_strip [-h] [--config CONFIG] --input_top_path INPUT_TOP_PATH --input_traj_path INPUT_TRAJ_PATH --output_cpptraj_path OUTPUT_CPPTRAJ_PATH\n",
                "\n",
                "Strips a defined set of atoms (mask) from a given cpptraj compatible trajectory.\n",
                "\n",
                "optional arguments:\n",
                "  -h, --help            show this help message and exit\n",
                "  --config CONFIG       Configuration file\n",
                "\n",
                "required arguments:\n",
                "  --input_top_path INPUT_TOP_PATH\n",
                "                        Path to the input structure or topology file. Accepted formats: top, pdb, prmtop, parmtop, zip.\n",
                "  --input_traj_path INPUT_TRAJ_PATH\n",
                "                        Path to the input trajectory to be processed. Accepted formats: crd, cdf, netcdf, restart, ncrestart, restartnc, dcd, charmm, cor, pdb, mol2, trr, gro, binpos, xtc, cif, arc, sqm, sdf, conflib.\n",
                "  --output_cpptraj_path OUTPUT_CPPTRAJ_PATH\n",
                "                        Path to the output processed trajectory."
            ]
        },
        {
            "cell_type": "markdown",
            "metadata": {},
            "source": [
                "### I / O Arguments"
            ]
        },
        {
            "cell_type": "markdown",
            "metadata": {},
            "source": [
                "Syntax: input_argument (datatype) : Definition\n",
                "\n",
                "Config input / output arguments for this building block:\n",
                "\n",
                "* **input_top_path** (*str*): Path to the input structure or topology file. File type: input. [Sample file](https://github.com/bioexcel/biobb_analysis/raw/master/biobb_analysis/test/data/ambertools/cpptraj.parm.top). Accepted formats: top, pdb, prmtop, parmtop, zip.\n",
                "* **input_traj_path** (*str*): Path to the input trajectory to be processed.  File type: input. [Sample file](https://github.com/bioexcel/biobb_analysis/raw/master/biobb_analysis/test/data/ambertools/cpptraj.traj.dcd). Accepted formats: crd, cdf, netcdf, restart, ncrestart, restartnc, dcd, charmm, cor, pdb, mol2, trr, gro, binpos, xtc, cif, arc, sqm, sdf, conflib.\n",
                "* **output_cpptraj_path** (*str*): Path to the output processed trajectory. File type: output. [Sample file](https://github.com/bioexcel/biobb_analysis/raw/master/biobb_analysis/test/reference/ambertools/ref_cpptraj.strip.netcdf). Accepted formats: crd, netcdf, rst7, ncrst, dcd, pdb, mol2, binpos, trr, xtc, sqm."
            ]
        },
        {
            "cell_type": "markdown",
            "metadata": {},
            "source": [
                "### Config"
            ]
        },
        {
            "cell_type": "markdown",
            "metadata": {},
            "source": [
                "Syntax: input_parameter (datatype) - (default_value) Definition\n",
                "\n",
                "Config parameters for this building block:\n",
                "\n",
                "* **in_parameters** (*dict*) - (None) Parameters for input trajectory. Accepted parameters:\n",
                "    * **start** (*int*) - (1) Starting frame for slicing\n",
                "    * **end** (*int*) - (-1) Ending frame for slicing\n",
                "    * **step** (*int*) - (1) Step for slicing\n",
                "    * **mask** (*string*) - (\"all-atoms\") Mask definition. Values: c-alpha, backbone, all-atoms, heavy-atoms, side-chain, solute, ions, solvent.\n",
                "* **out_parameters** (*dict*) - (None) Parameters for output trajectory.\n",
                "    * **format** (*str*) - (\"netcdf\") Output trajectory format. Values: crd, cdf, netcdf, restart, ncrestart, restartnc, dcd, charmm, cor, pdb, mol2, trr, gro, binpos, xtc, cif, arc, sqm, sdf, conflib.\n",
                "* **cpptraj_path** (*str*) - (\"cpptraj\") Path to the cpptraj executable binary.\n",
                "* **remove_tmp** (*bool*) - (True) [WF property] Remove temporal files.\n",
                "* **restart** (*bool*) - (False) [WF property] Do not execute if output files exist.\n",
                "* **sandbox_path** (*str*) - (\"./\") [WF property] Parent path to the sandbox directory.\n",
                "* **container_path** (*string*) - (None) Container path definition.\n",
                "* **container_image** (*string*) - ('afandiadib/ambertools:serial') Container image definition.\n",
                "* **container_volume_path** (*string*) - ('/tmp') Container volume path definition.\n",
                "* **container_working_dir** (*string*) - (None) Container working directory definition.\n",
                "* **container_user_id** (*string*) - (None) Container user_id definition.\n",
                "* **container_shell_path** (*string*) - ('/bin/bash') Path to default shell inside the container."
            ]
        },
        {
            "cell_type": "markdown",
            "metadata": {},
            "source": [
                "### YAML"
            ]
        },
        {
            "cell_type": "markdown",
            "metadata": {},
            "source": [
                "#### Common file config"
            ]
        },
        {
            "cell_type": "code",
            "execution_count": null,
            "metadata": {},
            "outputs": [],
            "source": [
                "properties:\n",
                "  in_parameters:\n",
                "    start: 2\n",
                "    end: 20\n",
                "    step: 2\n",
                "    mask: c-alpha\n",
                "  out_parameters:\n",
                "    format: netcdf"
            ]
        },
        {
            "cell_type": "markdown",
            "metadata": {},
            "source": [
                "#### Docker file config"
            ]
        },
        {
            "cell_type": "code",
            "execution_count": null,
            "metadata": {},
            "outputs": [],
            "source": [
                "properties:\n",
                "  in_parameters:\n",
                "    start: 2\n",
                "    end: 20\n",
                "    step: 2\n",
                "    mask: c-alpha\n",
                "  out_parameters:\n",
                "    format: netcdf\n",
                "  container_path: docker\n",
                "  container_image: afandiadib/ambertools:serial\n",
                "  container_volume_path: /tmp"
            ]
        },
        {
            "cell_type": "markdown",
            "metadata": {},
            "source": [
                "#### Singularity file config"
            ]
        },
        {
            "cell_type": "code",
            "execution_count": null,
            "metadata": {},
            "outputs": [],
            "source": [
                "properties:\n",
                "  in_parameters:\n",
                "    start: 2\n",
                "    end: 20\n",
                "    step: 2\n",
                "    mask: c-alpha\n",
                "  out_parameters:\n",
                "    format: netcdf\n",
                "  container_path: singularity\n",
                "  container_image: shub://bioexcel/ambertools_singularity\n",
                "  container_volume_path: /tmp"
            ]
        },
        {
            "cell_type": "markdown",
            "metadata": {},
            "source": [
                "#### Command line"
            ]
        },
        {
            "cell_type": "code",
            "execution_count": null,
            "metadata": {},
            "outputs": [],
            "source": [
                "cpptraj_strip --config data/conf/strip.yml --input_top_path data/input/cpptraj.parm.top --input_traj_path data/input/cpptraj.traj.dcd --output_cpptraj_path data/output/output.strip.netcdf"
            ]
        },
        {
            "cell_type": "markdown",
            "metadata": {},
            "source": [
                "### JSON"
            ]
        },
        {
            "cell_type": "markdown",
            "metadata": {},
            "source": [
                "#### Common file config"
            ]
        },
        {
            "cell_type": "code",
            "execution_count": null,
            "metadata": {},
            "outputs": [],
            "source": [
                "{\n",
                "  \"properties\": {\n",
                "    \"in_parameters\": {\n",
                "      \"start\": 1,\n",
                "      \"end\": -1,\n",
                "      \"step\": 1,\n",
                "      \"mask\": \"c-alpha\"\n",
                "    },\n",
                "    \"out_parameters\": {\n",
                "      \"format\": \"netcdf\"\n",
                "    }\n",
                "  }\n",
                "}"
            ]
        },
        {
            "cell_type": "markdown",
            "metadata": {},
            "source": [
                "#### Docker file config"
            ]
        },
        {
            "cell_type": "code",
            "execution_count": null,
            "metadata": {},
            "outputs": [],
            "source": [
                "{\n",
                "  \"properties\": {\n",
                "    \"in_parameters\": {\n",
                "      \"start\": 1,\n",
                "      \"end\": -1,\n",
                "      \"step\": 1,\n",
                "      \"mask\": \"c-alpha\"\n",
                "    },\n",
                "    \"out_parameters\": {\n",
                "      \"format\": \"netcdf\"\n",
                "    },\n",
                "    \"container_path\": \"docker\",\n",
                "    \"container_image\": \"afandiadib/ambertools:serial\",\n",
                "    \"container_volume_path\": \"/tmp\"\n",
                "  }\n",
                "}"
            ]
        },
        {
            "cell_type": "markdown",
            "metadata": {},
            "source": [
                "#### Singularity file config"
            ]
        },
        {
            "cell_type": "code",
            "execution_count": null,
            "metadata": {},
            "outputs": [],
            "source": [
                "{\n",
                "  \"properties\": {\n",
                "    \"in_parameters\": {\n",
                "      \"start\": 1,\n",
                "      \"end\": -1,\n",
                "      \"step\": 1,\n",
                "      \"mask\": \"c-alpha\"\n",
                "    },\n",
                "    \"out_parameters\": {\n",
                "      \"format\": \"netcdf\"\n",
                "    },\n",
                "    \"container_path\": \"singularity\",\n",
                "    \"container_image\": \"shub://bioexcel/ambertools_singularity\",\n",
                "    \"container_volume_path\": \"/tmp\"\n",
                "  }\n",
                "}"
            ]
        },
        {
            "cell_type": "markdown",
            "metadata": {},
            "source": [
                "#### Command line"
            ]
        },
        {
            "cell_type": "code",
            "execution_count": null,
            "metadata": {},
            "outputs": [],
            "source": [
                "cpptraj_strip --config data/conf/strip.json --input_top_path data/input/cpptraj.parm.top --input_traj_path data/input/cpptraj.traj.dcd --output_cpptraj_path data/output/output.strip.netcdf"
            ]
        },
        {
            "cell_type": "markdown",
            "metadata": {},
            "source": [
                "## GROMACS cluster"
            ]
        },
        {
            "cell_type": "markdown",
            "metadata": {},
            "source": [
                "Creates cluster structures from a given GROMACS compatible trajectory."
            ]
        },
        {
            "cell_type": "markdown",
            "metadata": {},
            "source": [
                "### Get help"
            ]
        },
        {
            "cell_type": "markdown",
            "metadata": {},
            "source": [
                "Command:"
            ]
        },
        {
            "cell_type": "code",
            "execution_count": null,
            "metadata": {},
            "outputs": [],
            "source": [
                "gmx_cluster -h"
            ]
        },
        {
            "cell_type": "code",
            "execution_count": null,
            "metadata": {},
            "outputs": [],
            "source": [
                "usage: gmx_cluster [-h] [--config CONFIG] --input_structure_path INPUT_STRUCTURE_PATH --input_traj_path INPUT_TRAJ_PATH [--input_index_path INPUT_INDEX_PATH] --output_pdb_path OUTPUT_PDB_PATH\n",
                "\n",
                "Creates cluster structures from a given GROMACS compatible trajectory.\n",
                "\n",
                "optional arguments:\n",
                "  -h, --help            show this help message and exit\n",
                "  --config CONFIG       Configuration file\n",
                "  --input_index_path INPUT_INDEX_PATH\n",
                "                        Path to the GROMACS index file. Accepted formats: ndx.\n",
                "\n",
                "required arguments:\n",
                "  --input_structure_path INPUT_STRUCTURE_PATH\n",
                "                        Path to the input structure file. Accepted formats: tpr, gro, g96, pdb, brk, ent.\n",
                "  --input_traj_path INPUT_TRAJ_PATH\n",
                "                        Path to the GROMACS trajectory file. Accepted formats: xtc, trr, cpt, gro, g96, pdb, tng.\n",
                "  --output_pdb_path OUTPUT_PDB_PATH\n",
                "                        Path to the output cluster file. Accepted formats: xtc, trr, cpt, gro, g96, pdb, tng."
            ]
        },
        {
            "cell_type": "markdown",
            "metadata": {},
            "source": [
                "### I / O Arguments"
            ]
        },
        {
            "cell_type": "markdown",
            "metadata": {},
            "source": [
                "Syntax: input_argument (datatype) : Definition\n",
                "\n",
                "Config input / output arguments for this building block:\n",
                "\n",
                "* **input_structure_path** (*str*): Path to the input structure file. File type: input. [Sample file](https://github.com/bioexcel/biobb_analysis/raw/master/biobb_analysis/test/data/gromacs/topology.tpr). Accepted formats: tpr, gro, g96, pdb, brk, ent.\n",
                "* **input_traj_path** (*str*): Path to the GROMACS trajectory file. File type: input. [Sample file](https://github.com/bioexcel/biobb_analysis/raw/master/biobb_analysis/test/data/gromacs/trajectory.trr). Accepted formats: xtc, trr, cpt, gro, g96, pdb, tng.\n",
                "* **input_index_path** (*str*) (Optional): Path to the GROMACS index file. File type: input. [Sample file](https://github.com/bioexcel/biobb_analysis/raw/master/biobb_analysis/test/data/gromacs/index.ndx). Accepted formats: ndx.\n",
                "* **output_pdb_path** (*str*): Path to the output cluster file. File type: output. [Sample file](https://github.com/bioexcel/biobb_analysis/raw/master/biobb_analysis/test/reference/gromacs/ref_cluster.pdb). Accepted formats: xtc, trr, cpt, gro, g96, pdb, tng."
            ]
        },
        {
            "cell_type": "markdown",
            "metadata": {},
            "source": [
                "### Config"
            ]
        },
        {
            "cell_type": "markdown",
            "metadata": {},
            "source": [
                "Syntax: input_parameter (datatype) - (default_value) Definition\n",
                "\n",
                "Config parameters for this building block:\n",
                "\n",
                "* **fit_selection** (*str*) - (\"System\") - Group where the fitting will be performed. If **input_index_path** provided, check the file for the accepted values, if not, values: System, Protein, Protein-H, C-alpha, Backbone, MainChain, MainChain+Cb, MainChain+H, SideChain, SideChain-H, Prot-Masses, non-Protein, Water, SOL, non-Water, Ion, NA, CL, Water_and_ions.\n",
                "* **output_selection** (*str*) - (\"System\") Group that is going to be written in the output trajectory. If **input_index_path** provided, check the file for the accepted values, if not, values: System, Protein, Protein-H, C-alpha, Backbone, MainChain, MainChain+Cb, MainChain+H, SideChain, SideChain-H, Prot-Masses, non-Protein, Water, SOL, non-Water, Ion, NA, CL, Water_and_ions.\n",
                "* **dista** (*bool*) - (False) Use RMSD of distances instead of RMS deviation.\n",
                "* **method** (*str*) - (\"linkage\") Method for cluster determination. Values: linkage, jarvis-patrick, monte-carlo, diagonalization, gromos\n",
                "* **cutoff** (*float*) - (0.1) RMSD cut-off (nm) for two structures to be neighbor\n",
                "* **gmx_path** (*str*) - (\"gmx\") Path to the GROMACS executable binary.\n",
                "* **remove_tmp** (*bool*) - (True) [WF property] Remove temporal files.\n",
                "* **restart** (*bool*) - (False) [WF property] Do not execute if output files exist.\n",
                "* **sandbox_path** (*str*) - (\"./\") [WF property] Parent path to the sandbox directory.\n",
                "* **container_path** (*string*) - (None) Container path definition.\n",
                "* **container_image** (*string*) - ('gromacs/gromacs:latest') Container image definition.\n",
                "* **container_volume_path** (*string*) - ('/tmp') Container volume path definition.\n",
                "* **container_working_dir** (*string*) - (None) Container working directory definition.\n",
                "* **container_user_id** (*string*) - (None) Container user_id definition.\n",
                "* **container_shell_path** (*string*) - ('/bin/bash') Path to default shell inside the container."
            ]
        },
        {
            "cell_type": "markdown",
            "metadata": {},
            "source": [
                "### YAML"
            ]
        },
        {
            "cell_type": "markdown",
            "metadata": {},
            "source": [
                "#### Common file config"
            ]
        },
        {
            "cell_type": "code",
            "execution_count": null,
            "metadata": {},
            "outputs": [],
            "source": [
                "properties:\n",
                "  fit_selection: System\n",
                "  output_selection: System\n",
                "  dista: False\n",
                "  method: linkage\n",
                "  cutoff: 0.1"
            ]
        },
        {
            "cell_type": "markdown",
            "metadata": {},
            "source": [
                "#### Docker file config"
            ]
        },
        {
            "cell_type": "code",
            "execution_count": null,
            "metadata": {},
            "outputs": [],
            "source": [
                "properties:\n",
                "  fit_selection: System\n",
                "  output_selection: System\n",
                "  dista: False\n",
                "  method: linkage\n",
                "  cutoff: 0.1\n",
                "  container_path: docker\n",
                "  container_image: gromacs/gromacs:latest\n",
                "  container_volume_path: /tmp"
            ]
        },
        {
            "cell_type": "markdown",
            "metadata": {},
            "source": [
                "#### Singularity file config"
            ]
        },
        {
            "cell_type": "code",
            "execution_count": null,
            "metadata": {},
            "outputs": [],
            "source": [
                "properties:\n",
                "  fit_selection: System\n",
                "  output_selection: System\n",
                "  dista: False\n",
                "  method: linkage\n",
                "  cutoff: 0.1\n",
                "  container_path: singularity\n",
                "  container_image: shub://michael-tn/gromacs\n",
                "  container_volume_path: /tmp"
            ]
        },
        {
            "cell_type": "markdown",
            "metadata": {},
            "source": [
                "#### Command line"
            ]
        },
        {
            "cell_type": "code",
            "execution_count": null,
            "metadata": {},
            "outputs": [],
            "source": [
                "gmx_cluster --config data/conf/cluster.yml --input_structure_path data/input/cluster.gro --input_traj_path data/input/cluster.trr --output_pdb_path data/output/output.cluster.pdb"
            ]
        },
        {
            "cell_type": "markdown",
            "metadata": {},
            "source": [
                "### JSON"
            ]
        },
        {
            "cell_type": "markdown",
            "metadata": {},
            "source": [
                "#### Common file config"
            ]
        },
        {
            "cell_type": "code",
            "execution_count": null,
            "metadata": {},
            "outputs": [],
            "source": [
                "{\n",
                "  \"properties\": {\n",
                "    \"fit_selection\": \"System\",\n",
                "    \"output_selection\": \"System\",\n",
                "    \"dista\": false,\n",
                "    \"method\": \"linkage\",\n",
                "    \"cutoff\": 0.1\n",
                "  }\n",
                "}"
            ]
        },
        {
            "cell_type": "markdown",
            "metadata": {},
            "source": [
                "#### Docker file config"
            ]
        },
        {
            "cell_type": "code",
            "execution_count": null,
            "metadata": {},
            "outputs": [],
            "source": [
                "{\n",
                "  \"properties\": {\n",
                "    \"fit_selection\": \"System\",\n",
                "    \"output_selection\": \"System\",\n",
                "    \"dista\": false,\n",
                "    \"method\": \"linkage\",\n",
                "    \"cutoff\": 0.1,\n",
                "    \"container_path\": \"docker\",\n",
                "    \"container_image\": \"gromacs/gromacs:latest\",\n",
                "    \"container_volume_path\": \"/tmp\"\n",
                "  }\n",
                "}"
            ]
        },
        {
            "cell_type": "markdown",
            "metadata": {},
            "source": [
                "#### Singularity file config"
            ]
        },
        {
            "cell_type": "code",
            "execution_count": null,
            "metadata": {},
            "outputs": [],
            "source": [
                "{\n",
                "  \"properties\": {\n",
                "    \"fit_selection\": \"System\",\n",
                "    \"output_selection\": \"System\",\n",
                "    \"dista\": false,\n",
                "    \"method\": \"linkage\",\n",
                "    \"cutoff\": 0.1,\n",
                "    \"container_path\": \"singularity\",\n",
                "    \"container_image\": \"shub://michael-tn/gromacs\",\n",
                "    \"container_volume_path\": \"/tmp\"\n",
                "  }\n",
                "}"
            ]
        },
        {
            "cell_type": "markdown",
            "metadata": {},
            "source": [
                "#### Command line"
            ]
        },
        {
            "cell_type": "code",
            "execution_count": null,
            "metadata": {},
            "outputs": [],
            "source": [
                "gmx_cluster --config data/conf/cluster.json --input_structure_path data/input/cluster.gro --input_traj_path data/input/cluster.trr --output_pdb_path data/output/output.cluster.pdb"
            ]
        },
        {
            "cell_type": "markdown",
            "metadata": {},
            "source": [
                "## GROMACS energy"
            ]
        },
        {
            "cell_type": "markdown",
            "metadata": {},
            "source": [
                "Extracts energy components from a given GROMACS energy file."
            ]
        },
        {
            "cell_type": "markdown",
            "metadata": {},
            "source": [
                "### Get help"
            ]
        },
        {
            "cell_type": "markdown",
            "metadata": {},
            "source": [
                "Command:"
            ]
        },
        {
            "cell_type": "code",
            "execution_count": null,
            "metadata": {},
            "outputs": [],
            "source": [
                "gmx_energy -h"
            ]
        },
        {
            "cell_type": "code",
            "execution_count": null,
            "metadata": {},
            "outputs": [],
            "source": [
                "usage: gmx_energy [-h] [--config CONFIG] --input_energy_path INPUT_ENERGY_PATH --output_xvg_path OUTPUT_XVG_PATH\n",
                "\n",
                "Extracts energy components from a given GROMACS energy file.\n",
                "\n",
                "optional arguments:\n",
                "  -h, --help            show this help message and exit\n",
                "  --config CONFIG       Configuration file\n",
                "\n",
                "required arguments:\n",
                "  --input_energy_path INPUT_ENERGY_PATH\n",
                "                        Path to the input EDR file. Accepted formats: edr.\n",
                "  --output_xvg_path OUTPUT_XVG_PATH\n",
                "                        Path to the XVG output file. Accepted formats: xvg."
            ]
        },
        {
            "cell_type": "markdown",
            "metadata": {},
            "source": [
                "### I / O Arguments"
            ]
        },
        {
            "cell_type": "markdown",
            "metadata": {},
            "source": [
                "Syntax: input_argument (datatype) : Definition\n",
                "\n",
                "Config input / output arguments for this building block:\n",
                "\n",
                "* **input_energy_path** (*str*): Path to the input EDR file. File type: input. [Sample file](https://github.com/bioexcel/biobb_analysis/raw/master/biobb_analysis/test/data/gromacs/energy.edr). Accepted formats: edr.\n",
                "* **output_xvg_path** (*str*): Path to the XVG output file. File type: output. [Sample file](https://github.com/bioexcel/biobb_analysis/raw/master/biobb_analysis/test/reference/gromacs/ref_energy.xvg). Accepted formats: xvg."
            ]
        },
        {
            "cell_type": "markdown",
            "metadata": {},
            "source": [
                "### Config"
            ]
        },
        {
            "cell_type": "markdown",
            "metadata": {},
            "source": [
                "Syntax: input_parameter (datatype) - (default_value) Definition\n",
                "\n",
                "Config parameters for this building block:\n",
                "\n",
                "* **xvg** (*str*) - (\"none\") XVG plot formatting. Values: xmgrace, xmgr, none.\n",
                "* **terms** (*list*) - ([\"Potential\"]) Energy terms. Select one or more from values: Angle, Proper-Dih., Improper-Dih., LJ-14, Coulomb-14, LJ-(SR), Coulomb-(SR), Coul.-recip., Position-Rest., Potential, Kinetic-En., Total-Energy, Temperature, Pressure,  Constr.-rmsd, Box-X, Box-Y,  Box-Z, Volume, Density, pV, Enthalpy, Vir-XX, Vir-XY, Vir-XZ, Vir-YX, Vir-YY, Vir-YZ, Vir-ZX, Vir-ZY, Vir-ZZ, Pres-XX, Pres-XY, Pres-XZ, Pres-YX, Pres-YY,  Pres-YZ, Pres-ZX, Pres-ZY, Pres-ZZ, #Surf*SurfTen, Box-Vel-XX, Box-Vel-YY, Box-Vel-ZZ, Mu-X, Mu-Y, Mu-Z, T-Protein, T-non-Protein, Lamb-Protein, Lamb-non-Protein\n",
                "* **gmx_path** (*str*) - (\"gmx\") Path to the GROMACS executable binary.\n",
                "* **remove_tmp** (*bool*) - (True) [WF property] Remove temporal files.\n",
                "* **restart** (*bool*) - (False) [WF property] Do not execute if output files exist.\n",
                "* **sandbox_path** (*str*) - (\"./\") [WF property] Parent path to the sandbox directory.\n",
                "* **container_path** (*string*) - (None) Container path definition.\n",
                "* **container_image** (*string*) - ('gromacs/gromacs:latest') Container image definition.\n",
                "* **container_volume_path** (*string*) - ('/tmp') Container volume path definition.\n",
                "* **container_working_dir** (*string*) - (None) Container working directory definition.\n",
                "* **container_user_id** (*string*) - (None) Container user_id definition.\n",
                "* **container_shell_path** (*string*) - ('/bin/bash') Path to default shell inside the container."
            ]
        },
        {
            "cell_type": "markdown",
            "metadata": {},
            "source": [
                "### YAML"
            ]
        },
        {
            "cell_type": "markdown",
            "metadata": {},
            "source": [
                "#### Common file config"
            ]
        },
        {
            "cell_type": "code",
            "execution_count": null,
            "metadata": {},
            "outputs": [],
            "source": [
                "properties:\n",
                "  terms: [Potential, Pressure]"
            ]
        },
        {
            "cell_type": "markdown",
            "metadata": {},
            "source": [
                "#### Docker file config"
            ]
        },
        {
            "cell_type": "code",
            "execution_count": null,
            "metadata": {},
            "outputs": [],
            "source": [
                "properties:\n",
                "  terms: [Potential, Pressure]\n",
                "  container_path: docker\n",
                "  container_image: gromacs/gromacs:latest\n",
                "  container_volume_path: /tmp"
            ]
        },
        {
            "cell_type": "markdown",
            "metadata": {},
            "source": [
                "#### Singularity file config"
            ]
        },
        {
            "cell_type": "code",
            "execution_count": null,
            "metadata": {},
            "outputs": [],
            "source": [
                "properties:\n",
                "  terms: [Potential, Pressure]\n",
                "  container_path: singularity\n",
                "  container_image: shub://michael-tn/gromacs\n",
                "  container_volume_path: /tmp"
            ]
        },
        {
            "cell_type": "markdown",
            "metadata": {},
            "source": [
                "#### Command line"
            ]
        },
        {
            "cell_type": "code",
            "execution_count": null,
            "metadata": {},
            "outputs": [],
            "source": [
                "gmx_energy --config data/conf/energy.yml --input_energy_path data/input/energy.edr --output_xvg_path data/output/output.energy.xvg"
            ]
        },
        {
            "cell_type": "markdown",
            "metadata": {},
            "source": [
                "### JSON"
            ]
        },
        {
            "cell_type": "markdown",
            "metadata": {},
            "source": [
                "#### Common file config"
            ]
        },
        {
            "cell_type": "code",
            "execution_count": null,
            "metadata": {},
            "outputs": [],
            "source": [
                "{\n",
                "  \"properties\": {\n",
                "    \"terms\": [\"Potential\", \"Pressure\"]\n",
                "  }\n",
                "}"
            ]
        },
        {
            "cell_type": "markdown",
            "metadata": {},
            "source": [
                "#### Docker file config"
            ]
        },
        {
            "cell_type": "code",
            "execution_count": null,
            "metadata": {},
            "outputs": [],
            "source": [
                "{\n",
                "  \"properties\": {\n",
                "    \"terms\": [\"Potential\", \"Pressure\"],\n",
                "    \"container_path\": \"docker\",\n",
                "    \"container_image\": \"gromacs/gromacs:latest\",\n",
                "    \"container_volume_path\": \"/tmp\"\n",
                "  }\n",
                "}"
            ]
        },
        {
            "cell_type": "markdown",
            "metadata": {},
            "source": [
                "#### Singularity file config"
            ]
        },
        {
            "cell_type": "code",
            "execution_count": null,
            "metadata": {},
            "outputs": [],
            "source": [
                "{\n",
                "  \"properties\": {\n",
                "    \"terms\": [\"Potential\", \"Pressure\"],\n",
                "    \"container_path\": \"singularity\",\n",
                "    \"container_image\": \"shub://michael-tn/gromacs\",\n",
                "    \"container_volume_path\": \"/tmp\"\n",
                "  }\n",
                "}"
            ]
        },
        {
            "cell_type": "markdown",
            "metadata": {},
            "source": [
                "#### Command line"
            ]
        },
        {
            "cell_type": "code",
            "execution_count": null,
            "metadata": {},
            "outputs": [],
            "source": [
                "gmx_energy --config data/conf/energy.json --input_energy_path data/input/energy.edr --output_xvg_path data/output/output.energy.xvg"
            ]
        },
        {
            "cell_type": "markdown",
            "metadata": {},
            "source": [
                "## GROMACS image"
            ]
        },
        {
            "cell_type": "markdown",
            "metadata": {},
            "source": [
                "Corrects periodicity (image) from a given GROMACS compatible trajectory file."
            ]
        },
        {
            "cell_type": "markdown",
            "metadata": {},
            "source": [
                "### Get help"
            ]
        },
        {
            "cell_type": "markdown",
            "metadata": {},
            "source": [
                "Command:"
            ]
        },
        {
            "cell_type": "code",
            "execution_count": null,
            "metadata": {},
            "outputs": [],
            "source": [
                "gmx_image -h"
            ]
        },
        {
            "cell_type": "code",
            "execution_count": null,
            "metadata": {},
            "outputs": [],
            "source": [
                "usage: gmx_image [-h] [--config CONFIG] --input_traj_path INPUT_TRAJ_PATH --input_top_path INPUT_TOP_PATH [--input_index_path INPUT_INDEX_PATH] --output_traj_path OUTPUT_TRAJ_PATH\n",
                "\n",
                "Corrects periodicity (image) from a given GROMACS compatible trajectory file.\n",
                "\n",
                "optional arguments:\n",
                "  -h, --help            show this help message and exit\n",
                "  --config CONFIG       Configuration file\n",
                "  --input_index_path INPUT_INDEX_PATH\n",
                "                        Path to the GROMACS index file. Accepted formats: ndx.\n",
                "\n",
                "required arguments:\n",
                "  --input_traj_path INPUT_TRAJ_PATH\n",
                "                        Path to the GROMACS trajectory file. Accepted formats: xtc, trr, cpt, gro, g96, pdb, tng.\n",
                "  --input_top_path INPUT_TOP_PATH\n",
                "                        Path to the GROMACS input topology file. Accepted formats: tpr, gro, g96, pdb, brk, ent.\n",
                "  --output_traj_path OUTPUT_TRAJ_PATH\n",
                "                        Path to the output file. Accepted formats: xtc, trr, gro, g96, pdb, tng."
            ]
        },
        {
            "cell_type": "markdown",
            "metadata": {},
            "source": [
                "### I / O Arguments"
            ]
        },
        {
            "cell_type": "markdown",
            "metadata": {},
            "source": [
                "Syntax: input_argument (datatype) : Definition\n",
                "\n",
                "Config input / output arguments for this building block:\n",
                "\n",
                "* **input_traj_path** (*str*): Path to the GROMACS trajectory file. File type: input. [Sample file](https://github.com/bioexcel/biobb_analysis/raw/master/biobb_analysis/test/data/gromacs/trajectory.trr). Accepted formats: xtc, trr, cpt, gro, g96, pdb, tng.\n",
                "* **input_top_path** (*str*): Path to the GROMACS input topology file. File type: input. [Sample file](https://github.com/bioexcel/biobb_analysis/raw/master/biobb_analysis/test/data/gromacs/topology.tpr). Accepted formats: tpr, gro, g96, pdb, brk, ent.\n",
                "* **input_index_path** (*str*) (Optional): Path to the GROMACS index file. File type: input. [Sample file](https://github.com/bioexcel/biobb_analysis/raw/master/biobb_analysis/test/data/gromacs/index.ndx). Accepted formats: ndx.\n",
                "* **output_traj_path** (*str*): Path to the output file. File type: output. [Sample file](https://github.com/bioexcel/biobb_analysis/raw/master/biobb_analysis/test/reference/gromacs/ref_image.xtc)_. Accepted formats: xtc, trr, gro, g96, pdb, tng."
            ]
        },
        {
            "cell_type": "markdown",
            "metadata": {},
            "source": [
                "### Config"
            ]
        },
        {
            "cell_type": "markdown",
            "metadata": {},
            "source": [
                "Syntax: input_parameter (datatype) - (default_value) Definition\n",
                "\n",
                "Config parameters for this building block:\n",
                "\n",
                "* **fit_selection** (*str*) - (\"System\") - Group where the fitting will be performed. If **input_index_path** provided, check the file for the accepted values, if not, values: System, Protein, Protein-H, C-alpha, Backbone, MainChain, MainChain+Cb, MainChain+H, SideChain, SideChain-H, Prot-Masses, non-Protein, Water, SOL, non-Water, Ion, NA, CL, Water_and_ions.\n",
                "* **center_selection** (*str*) - (\"System\") Group where the trjconv will be performed. If **input_index_path** provided, check the file for the accepted values, if not, values: System, Protein, Protein-H, C-alpha, Backbone, MainChain, MainChain+Cb, MainChain+H, SideChain, SideChain-H, Prot-Masses, non-Protein, Water, SOL, non-Water, Ion, NA, CL, Water_and_ions.\n",
                "* **output_selection** (*str*) - (\"System\") Group that is going to be written in the output trajectory. If **input_index_path** provided, check the file for the accepted values, if not, values: System, Protein, Protein-H, C-alpha, Backbone, MainChain, MainChain+Cb, MainChain+H, SideChain, SideChain-H, Prot-Masses, non-Protein, Water, SOL, non-Water, Ion, NA, CL, Water_and_ions.\n",
                "* **pbc** (*str*) - (\"mol\") PBC treatment (see help text for full description). Values: none, mol, res, atom, nojump, cluster, whole.\n",
                "* **center** (*bool*) - (True) Center atoms in box.\n",
                "* **ur** (*str*) - (\"compact\") Unit-cell representation. Values: rect, tric, compact.\n",
                "* **fit** (*str*) - (\"none\") Fit molecule to ref structure in the structure file. Values: none, rot+trans, rotxy+transxy, translation, transxy, progressive.\n",
                "* **gmx_path** (*str*) - (\"gmx\") Path to the GROMACS executable binary.\n",
                "* **remove_tmp** (*bool*) - (True) [WF property] Remove temporal files.\n",
                "* **restart** (*bool*) - (False) [WF property] Do not execute if output files exist.\n",
                "* **sandbox_path** (*str*) - (\"./\") [WF property] Parent path to the sandbox directory.\n",
                "* **container_path** (*string*) - (None) Container path definition.\n",
                "* **container_image** (*string*) - ('gromacs/gromacs:latest') Container image definition.\n",
                "* **container_volume_path** (*string*) - ('/tmp') Container volume path definition.\n",
                "* **container_working_dir** (*string*) - (None) Container working directory definition.\n",
                "* **container_user_id** (*string*) - (None) Container user_id definition.\n",
                "* **container_shell_path** (*string*) - ('/bin/bash') Path to default shell inside the container."
            ]
        },
        {
            "cell_type": "markdown",
            "metadata": {},
            "source": [
                "### YAML"
            ]
        },
        {
            "cell_type": "markdown",
            "metadata": {},
            "source": [
                "#### Common file config"
            ]
        },
        {
            "cell_type": "code",
            "execution_count": null,
            "metadata": {},
            "outputs": [],
            "source": [
                "properties:\n",
                "  fit_selection: System\n",
                "  center_selection: System\n",
                "  output_selection: System\n",
                "  pbc: mol\n",
                "  center: True\n",
                "  fit: rot+trans\n",
                "  ur: compact"
            ]
        },
        {
            "cell_type": "markdown",
            "metadata": {},
            "source": [
                "#### Docker file config"
            ]
        },
        {
            "cell_type": "code",
            "execution_count": null,
            "metadata": {},
            "outputs": [],
            "source": [
                "properties:\n",
                "  fit_selection: System\n",
                "  center_selection: System\n",
                "  output_selection: System\n",
                "  pbc: mol\n",
                "  center: True\n",
                "  fit: rot+trans\n",
                "  ur: compact\n",
                "  container_path: docker\n",
                "  container_image: gromacs/gromacs:latest\n",
                "  container_volume_path: /tmp"
            ]
        },
        {
            "cell_type": "markdown",
            "metadata": {},
            "source": [
                "#### Singularity file config"
            ]
        },
        {
            "cell_type": "code",
            "execution_count": null,
            "metadata": {},
            "outputs": [],
            "source": [
                "properties:\n",
                "  fit_selection: System\n",
                "  center_selection: System\n",
                "  output_selection: System\n",
                "  pbc: mol\n",
                "  center: True\n",
                "  fit: rot+trans\n",
                "  ur: compact\n",
                "  container_path: singularity\n",
                "  container_image: shub://michael-tn/gromacs\n",
                "  container_volume_path: /tmp"
            ]
        },
        {
            "cell_type": "markdown",
            "metadata": {},
            "source": [
                "#### Command line"
            ]
        },
        {
            "cell_type": "code",
            "execution_count": null,
            "metadata": {},
            "outputs": [],
            "source": [
                "gmx_image --config data/conf/gmx_image.yml --input_traj_path data/input/image.trr --input_top_path data/input/image.gro --output_traj_path data/output/output.image.xtc"
            ]
        },
        {
            "cell_type": "markdown",
            "metadata": {},
            "source": [
                "### JSON"
            ]
        },
        {
            "cell_type": "markdown",
            "metadata": {},
            "source": [
                "#### Common file config"
            ]
        },
        {
            "cell_type": "code",
            "execution_count": null,
            "metadata": {},
            "outputs": [],
            "source": [
                "{\n",
                "  \"properties\": {\n",
                "    \"fit_selection\": \"System\",\n",
                "    \"center_selection\": \"System\",\n",
                "    \"output_selection\": \"System\",\n",
                "    \"pbc\": \"mol\",\n",
                "    \"center\": true,\n",
                "    \"fit\": \"rot+trans\",\n",
                "    \"ur\": \"compact\"\n",
                "  }\n",
                "}"
            ]
        },
        {
            "cell_type": "markdown",
            "metadata": {},
            "source": [
                "#### Docker file config"
            ]
        },
        {
            "cell_type": "code",
            "execution_count": null,
            "metadata": {},
            "outputs": [],
            "source": [
                "{\n",
                "  \"properties\": {\n",
                "    \"fit_selection\": \"System\",\n",
                "    \"center_selection\": \"System\",\n",
                "    \"output_selection\": \"System\",\n",
                "    \"pbc\": \"mol\",\n",
                "    \"center\": true,\n",
                "    \"fit\": \"rot+trans\",\n",
                "    \"ur\": \"compact\",\n",
                "    \"container_path\": \"docker\",\n",
                "    \"container_image\": \"gromacs/gromacs:latest\",\n",
                "    \"container_volume_path\": \"/tmp\"\n",
                "  }\n",
                "}"
            ]
        },
        {
            "cell_type": "markdown",
            "metadata": {},
            "source": [
                "#### Singularity file config"
            ]
        },
        {
            "cell_type": "code",
            "execution_count": null,
            "metadata": {},
            "outputs": [],
            "source": [
                "{\n",
                "  \"properties\": {\n",
                "    \"fit_selection\": \"System\",\n",
                "    \"center_selection\": \"System\",\n",
                "    \"output_selection\": \"System\",\n",
                "    \"pbc\": \"mol\",\n",
                "    \"center\": true,\n",
                "    \"fit\": \"rot+trans\",\n",
                "    \"ur\": \"compact\",\n",
                "    \"container_path\": \"singularity\",\n",
                "    \"container_image\": \"shub://michael-tn/gromacs\",\n",
                "    \"container_volume_path\": \"/tmp\"\n",
                "  }\n",
                "}"
            ]
        },
        {
            "cell_type": "markdown",
            "metadata": {},
            "source": [
                "#### Command line"
            ]
        },
        {
            "cell_type": "code",
            "execution_count": null,
            "metadata": {},
            "outputs": [],
            "source": [
                "gmx_image --config data/conf/gmx_image.json --input_traj_path data/input/image.trr --input_top_path data/input/image.gro --output_traj_path data/output/output.image.xtc"
            ]
        },
        {
            "cell_type": "markdown",
            "metadata": {},
            "source": [
                "## GROMACS rgyr"
            ]
        },
        {
            "cell_type": "markdown",
            "metadata": {},
            "source": [
                "Computes the radius of gyration (Rgyr) of a molecule about the x-, y- and z-axes, as a function of time, from a given GROMACS compatible trajectory."
            ]
        },
        {
            "cell_type": "markdown",
            "metadata": {},
            "source": [
                "### Get help"
            ]
        },
        {
            "cell_type": "markdown",
            "metadata": {},
            "source": [
                "Command:"
            ]
        },
        {
            "cell_type": "code",
            "execution_count": null,
            "metadata": {},
            "outputs": [],
            "source": [
                "gmx_rgyr -h"
            ]
        },
        {
            "cell_type": "code",
            "execution_count": null,
            "metadata": {},
            "outputs": [],
            "source": [
                "usage: gmx_rgyr [-h] [--config CONFIG] --input_structure_path INPUT_STRUCTURE_PATH --input_traj_path INPUT_TRAJ_PATH [--input_index_path INPUT_INDEX_PATH] --output_xvg_path OUTPUT_XVG_PATH\n",
                "\n",
                "Computes the radius of gyration (Rgyr) of a molecule about the x-, y- and z-axes, as a function of time, from a given GROMACS compatible trajectory.\n",
                "\n",
                "optional arguments:\n",
                "  -h, --help            show this help message and exit\n",
                "  --config CONFIG       Configuration file\n",
                "  --input_index_path INPUT_INDEX_PATH\n",
                "                        Path to the GROMACS index file. Accepted formats: ndx.\n",
                "\n",
                "required arguments:\n",
                "  --input_structure_path INPUT_STRUCTURE_PATH\n",
                "                        Path to the input structure file. Accepted formats: tpr, gro, g96, pdb, brk, ent.\n",
                "  --input_traj_path INPUT_TRAJ_PATH\n",
                "                        Path to the GROMACS trajectory file. Accepted formats: xtc, trr, cpt, gro, g96, pdb, tng.\n",
                "  --output_xvg_path OUTPUT_XVG_PATH\n",
                "                        Path to the XVG output file. Accepted formats: xvg."
            ]
        },
        {
            "cell_type": "markdown",
            "metadata": {},
            "source": [
                "### I / O Arguments"
            ]
        },
        {
            "cell_type": "markdown",
            "metadata": {},
            "source": [
                "Syntax: input_argument (datatype) : Definition\n",
                "\n",
                "Config input / output arguments for this building block:\n",
                "\n",
                "* **input_structure_path** (*str*): Path to the input structure file. File type: input. [Sample file](https://github.com/bioexcel/biobb_analysis/raw/master/biobb_analysis/test/data/gromacs/topology.tpr). Accepted formats: tpr, gro, g96, pdb, brk, ent.\n",
                "* **input_traj_path** (*str*): Path to the GROMACS trajectory file. File type: input. [Sample file](https://github.com/bioexcel/biobb_analysis/raw/master/biobb_analysis/test/data/gromacs/trajectory.trr). Accepted formats: xtc, trr, cpt, gro, g96, pdb, tng.\n",
                "* **input_index_path** (*str*) (Optional): Path to the GROMACS index file. File type: input. [Sample file](https://github.com/bioexcel/biobb_analysis/raw/master/biobb_analysis/test/data/gromacs/index.ndx). Accepted formats: ndx.\n",
                "* **output_xvg_path** (*str*): Path to the XVG output file. File type: output. [Sample file](https://github.com/bioexcel/biobb_analysis/raw/master/biobb_analysis/test/reference/gromacs/ref_rgyr.xvg). Accepted formats: xvg."
            ]
        },
        {
            "cell_type": "markdown",
            "metadata": {},
            "source": [
                "### Config"
            ]
        },
        {
            "cell_type": "markdown",
            "metadata": {},
            "source": [
                "Syntax: input_parameter (datatype) - (default_value) Definition\n",
                "\n",
                "Config parameters for this building block:\n",
                "\n",
                "* **xvg** (*str*) - (\"none\") XVG plot formatting. Values: xmgrace, xmgr, none.\n",
                "* **selection** (*str*) - (\"System\") Group where the rgyr will be performed. If **input_index_path** provided, check the file for the accepted values, if not, values: System, Protein, Protein-H, C-alpha, Backbone, MainChain, MainChain+Cb, MainChain+H, SideChain, SideChain-H, Prot-Masses, non-Protein, Water, SOL, non-Water, Ion, NA, CL, Water_and_ions.\n",
                "* **gmx_path** (*str*) - (\"gmx\") Path to the GROMACS executable binary.\n",
                "* **remove_tmp** (*bool*) - (True) [WF property] Remove temporal files.\n",
                "* **restart** (*bool*) - (False) [WF property] Do not execute if output files exist.\n",
                "* **sandbox_path** (*str*) - (\"./\") [WF property] Parent path to the sandbox directory.\n",
                "* **container_path** (*string*) - (None) Container path definition.\n",
                "* **container_image** (*string*) - ('gromacs/gromacs:latest') Container image definition.\n",
                "* **container_volume_path** (*string*) - ('/tmp') Container volume path definition.\n",
                "* **container_working_dir** (*string*) - (None) Container working directory definition.\n",
                "* **container_user_id** (*string*) - (None) Container user_id definition.\n",
                "* **container_shell_path** (*string*) - ('/bin/bash') Path to default shell inside the container."
            ]
        },
        {
            "cell_type": "markdown",
            "metadata": {},
            "source": [
                "### YAML"
            ]
        },
        {
            "cell_type": "markdown",
            "metadata": {},
            "source": [
                "#### Common file config"
            ]
        },
        {
            "cell_type": "code",
            "execution_count": null,
            "metadata": {},
            "outputs": [],
            "source": [
                "properties:\n",
                "  selection: System"
            ]
        },
        {
            "cell_type": "markdown",
            "metadata": {},
            "source": [
                "#### Docker file config"
            ]
        },
        {
            "cell_type": "code",
            "execution_count": null,
            "metadata": {},
            "outputs": [],
            "source": [
                "properties:\n",
                "  selection: System\n",
                "  container_path: docker\n",
                "  container_image: gromacs/gromacs:latest\n",
                "  container_volume_path: /tmp"
            ]
        },
        {
            "cell_type": "markdown",
            "metadata": {},
            "source": [
                "#### Singularity file config"
            ]
        },
        {
            "cell_type": "code",
            "execution_count": null,
            "metadata": {},
            "outputs": [],
            "source": [
                "properties:\n",
                "  selection: System\n",
                "  container_path: singularity\n",
                "  container_image: shub://michael-tn/gromacs\n",
                "  container_volume_path: /tmp"
            ]
        },
        {
            "cell_type": "markdown",
            "metadata": {},
            "source": [
                "#### Command line"
            ]
        },
        {
            "cell_type": "code",
            "execution_count": null,
            "metadata": {},
            "outputs": [],
            "source": [
                "gmx_rgyr --config data/conf/gmx_rgyr.yml --input_structure_path data/input/rgyr.gro --input_traj_path data/input/rgyr.trr --output_xvg_path data/output/output.rgyr.xvg"
            ]
        },
        {
            "cell_type": "markdown",
            "metadata": {},
            "source": [
                "### JSON"
            ]
        },
        {
            "cell_type": "markdown",
            "metadata": {},
            "source": [
                "#### Common file config"
            ]
        },
        {
            "cell_type": "code",
            "execution_count": null,
            "metadata": {},
            "outputs": [],
            "source": [
                "{\n",
                "  \"properties\": {\n",
                "    \"selection\": \"System\"\n",
                "  }\n",
                "}"
            ]
        },
        {
            "cell_type": "markdown",
            "metadata": {},
            "source": [
                "#### Docker file config"
            ]
        },
        {
            "cell_type": "code",
            "execution_count": null,
            "metadata": {},
            "outputs": [],
            "source": [
                "{\n",
                "  \"properties\": {\n",
                "    \"selection\": \"System\",\n",
                "    \"container_path\": \"docker\",\n",
                "    \"container_image\": \"gromacs/gromacs:latest\",\n",
                "    \"container_volume_path\": \"/tmp\"\n",
                "  }\n",
                "}"
            ]
        },
        {
            "cell_type": "markdown",
            "metadata": {},
            "source": [
                "#### Singularity file config"
            ]
        },
        {
            "cell_type": "code",
            "execution_count": null,
            "metadata": {},
            "outputs": [],
            "source": [
                "{\n",
                "  \"properties\": {\n",
                "    \"selection\": \"System\",\n",
                "    \"container_path\": \"singularity\",\n",
                "    \"container_image\": \"shub://michael-tn/gromacs\",\n",
                "    \"container_volume_path\": \"/tmp\"\n",
                "  }\n",
                "}"
            ]
        },
        {
            "cell_type": "markdown",
            "metadata": {},
            "source": [
                "#### Command line"
            ]
        },
        {
            "cell_type": "code",
            "execution_count": null,
            "metadata": {},
            "outputs": [],
            "source": [
                "gmx_rgyr --config data/conf/gmx_rgyr.json --input_structure_path data/input/rgyr.gro --input_traj_path data/input/rgyr.trr --output_xvg_path data/output/output.rgyr.xvg"
            ]
        },
        {
            "cell_type": "markdown",
            "metadata": {},
            "source": [
                "## GROMACS rms"
            ]
        },
        {
            "cell_type": "markdown",
            "metadata": {},
            "source": [
                "Performs a Root Mean Square deviation (RMSd) analysis from a given GROMACS compatible trajectory."
            ]
        },
        {
            "cell_type": "markdown",
            "metadata": {},
            "source": [
                "### Get help"
            ]
        },
        {
            "cell_type": "markdown",
            "metadata": {},
            "source": [
                "Command:"
            ]
        },
        {
            "cell_type": "code",
            "execution_count": null,
            "metadata": {},
            "outputs": [],
            "source": [
                "gmx_rms -h"
            ]
        },
        {
            "cell_type": "code",
            "execution_count": null,
            "metadata": {},
            "outputs": [],
            "source": [
                "usage: gmx_rms [-h] [--config CONFIG] --input_structure_path INPUT_STRUCTURE_PATH --input_traj_path INPUT_TRAJ_PATH [--input_index_path INPUT_INDEX_PATH] --output_xvg_path OUTPUT_XVG_PATH\n",
                "\n",
                "Performs a Root Mean Square deviation (RMSd) analysis from a given GROMACS compatible trajectory.\n",
                "\n",
                "optional arguments:\n",
                "  -h, --help            show this help message and exit\n",
                "  --config CONFIG       Configuration file\n",
                "  --input_index_path INPUT_INDEX_PATH\n",
                "                        Path to the GROMACS index file. Accepted formats: ndx.\n",
                "\n",
                "required arguments:\n",
                "  --input_structure_path INPUT_STRUCTURE_PATH\n",
                "                        Path to the input structure file. Accepted formats: tpr, gro, g96, pdb, brk, ent.\n",
                "  --input_traj_path INPUT_TRAJ_PATH\n",
                "                        Path to the GROMACS trajectory file. Accepted formats: xtc, trr, cpt, gro, g96, pdb, tng.\n",
                "  --output_xvg_path OUTPUT_XVG_PATH\n",
                "                        Path to the XVG output file. Accepted formats: xvg.\n"
            ]
        },
        {
            "cell_type": "markdown",
            "metadata": {},
            "source": [
                "### I / O Arguments"
            ]
        },
        {
            "cell_type": "markdown",
            "metadata": {},
            "source": [
                "Syntax: input_argument (datatype) : Definition\n",
                "\n",
                "Config input / output arguments for this building block:\n",
                "\n",
                "* **input_structure_path** (*str*): Path to the input structure file. File type: input. [Sample file](https://github.com/bioexcel/biobb_analysis/raw/master/biobb_analysis/test/data/gromacs/topology.tpr). Accepted formats: tpr, gro, g96, pdb, brk, ent.\n",
                "* **input_traj_path** (*str*): Path to the GROMACS trajectory file. File type: input. [Sample file](https://github.com/bioexcel/biobb_analysis/raw/master/biobb_analysis/test/data/gromacs/trajectory.trr). Accepted formats: xtc, trr, cpt, gro, g96, pdb, tng.\n",
                "* **input_index_path** (*str*) (Optional): Path to the GROMACS index file. File type: input. [Sample file](https://github.com/bioexcel/biobb_analysis/raw/master/biobb_analysis/test/data/gromacs/index.ndx). Accepted formats: ndx.\n",
                "* **output_xvg_path** (*str*): Path to the XVG output file. File type: output. [Sample file](https://github.com/bioexcel/biobb_analysis/raw/master/biobb_analysis/test/reference/gromacs/ref_rms.xvg). Accepted formats: xvg."
            ]
        },
        {
            "cell_type": "markdown",
            "metadata": {},
            "source": [
                "### Config"
            ]
        },
        {
            "cell_type": "markdown",
            "metadata": {},
            "source": [
                "Syntax: input_parameter (datatype) - (default_value) Definition\n",
                "\n",
                "Config parameters for this building block:\n",
                "\n",
                "* **xvg** (*str*) - (\"none\") XVG plot formatting. Values: xmgrace, xmgr, none.\n",
                "* **selection** (*str*) - (\"System\") Group where the rms will be performed. If **input_index_path** provided, check the file for the accepted values, if not, values: System, Protein, Protein-H, C-alpha, Backbone, MainChain, MainChain+Cb, MainChain+H, SideChain, SideChain-H, Prot-Masses, non-Protein, Water, SOL, non-Water, Ion, NA, CL, Water_and_ions.\n",
                "* **gmx_path** (*str*) - (\"gmx\") Path to the GROMACS executable binary.\n",
                "* **remove_tmp** (*bool*) - (True) [WF property] Remove temporal files.\n",
                "* **restart** (*bool*) - (False) [WF property] Do not execute if output files exist.\n",
                "* **sandbox_path** (*str*) - (\"./\") [WF property] Parent path to the sandbox directory.\n",
                "* **container_path** (*string*) - (None) Container path definition.\n",
                "* **container_image** (*string*) - ('gromacs/gromacs:latest') Container image definition.\n",
                "* **container_volume_path** (*string*) - ('/tmp') Container volume path definition.\n",
                "* **container_working_dir** (*string*) - (None) Container working directory definition.\n",
                "* **container_user_id** (*string*) - (None) Container user_id definition.\n",
                "* **container_shell_path** (*string*) - ('/bin/bash') Path to default shell inside the container."
            ]
        },
        {
            "cell_type": "markdown",
            "metadata": {},
            "source": [
                "### YAML"
            ]
        },
        {
            "cell_type": "markdown",
            "metadata": {},
            "source": [
                "#### Common file config"
            ]
        },
        {
            "cell_type": "code",
            "execution_count": null,
            "metadata": {},
            "outputs": [],
            "source": [
                "properties:\n",
                "  selection: System"
            ]
        },
        {
            "cell_type": "markdown",
            "metadata": {},
            "source": [
                "#### Docker file config"
            ]
        },
        {
            "cell_type": "code",
            "execution_count": null,
            "metadata": {},
            "outputs": [],
            "source": [
                "properties:\n",
                "  selection: System\n",
                "  container_path: docker\n",
                "  container_image: gromacs/gromacs:latest\n",
                "  container_volume_path: /tmp"
            ]
        },
        {
            "cell_type": "markdown",
            "metadata": {},
            "source": [
                "#### Singularity file config"
            ]
        },
        {
            "cell_type": "code",
            "execution_count": null,
            "metadata": {},
            "outputs": [],
            "source": [
                "properties:\n",
                "  selection: System\n",
                "  container_path: singularity\n",
                "  container_image: shub://michael-tn/gromacs\n",
                "  container_volume_path: /tmp"
            ]
        },
        {
            "cell_type": "markdown",
            "metadata": {},
            "source": [
                "#### Command line"
            ]
        },
        {
            "cell_type": "code",
            "execution_count": null,
            "metadata": {},
            "outputs": [],
            "source": [
                "gmx_rms --config data/conf/gmx_rms.yml --input_structure_path data/input/rgyr.gro --input_traj_path data/input/rgyr.trr --output_xvg_path data/output/output.rms.xvg"
            ]
        },
        {
            "cell_type": "markdown",
            "metadata": {},
            "source": [
                "### JSON"
            ]
        },
        {
            "cell_type": "markdown",
            "metadata": {},
            "source": [
                "#### Common file config"
            ]
        },
        {
            "cell_type": "code",
            "execution_count": null,
            "metadata": {},
            "outputs": [],
            "source": [
                "{\n",
                "  \"properties\": {\n",
                "    \"selection\": \"System\"\n",
                "  }\n",
                "}"
            ]
        },
        {
            "cell_type": "markdown",
            "metadata": {},
            "source": [
                "#### Docker file config"
            ]
        },
        {
            "cell_type": "code",
            "execution_count": null,
            "metadata": {},
            "outputs": [],
            "source": [
                "{\n",
                "  \"properties\": {\n",
                "    \"selection\": \"System\",\n",
                "    \"container_path\": \"docker\",\n",
                "    \"container_image\": \"gromacs/gromacs:latest\",\n",
                "    \"container_volume_path\": \"/tmp\"\n",
                "  }\n",
                "}"
            ]
        },
        {
            "cell_type": "markdown",
            "metadata": {},
            "source": [
                "#### Singularity file config"
            ]
        },
        {
            "cell_type": "code",
            "execution_count": null,
            "metadata": {},
            "outputs": [],
            "source": [
                "{\n",
                "  \"properties\": {\n",
                "    \"selection\": \"System\",\n",
                "    \"container_path\": \"singularity\",\n",
                "    \"container_image\": \"shub://michael-tn/gromacs\",\n",
                "    \"container_volume_path\": \"/tmp\"\n",
                "  }\n",
                "}"
            ]
        },
        {
            "cell_type": "markdown",
            "metadata": {},
            "source": [
                "#### Command line"
            ]
        },
        {
            "cell_type": "code",
            "execution_count": null,
            "metadata": {},
            "outputs": [],
            "source": [
                "gmx_rms --config data/conf/gmx_rms.json --input_structure_path data/input/rgyr.gro --input_traj_path data/input/rgyr.trr --output_xvg_path data/output/output.rms.xvg"
            ]
        },
        {
            "cell_type": "markdown",
            "metadata": {},
            "source": [
                "## GROMACS trjconv structure"
            ]
        },
        {
            "cell_type": "markdown",
            "metadata": {},
            "source": [
                "Converts between GROMACS compatible structure file formats and/or extracts a selection of atoms."
            ]
        },
        {
            "cell_type": "markdown",
            "metadata": {},
            "source": [
                "### Get help"
            ]
        },
        {
            "cell_type": "markdown",
            "metadata": {},
            "source": [
                "Command:"
            ]
        },
        {
            "cell_type": "code",
            "execution_count": null,
            "metadata": {},
            "outputs": [],
            "source": [
                "gmx_trjconv_str -h"
            ]
        },
        {
            "cell_type": "code",
            "execution_count": null,
            "metadata": {},
            "outputs": [],
            "source": [
                "usage: gmx_trjconv_str [-h] [--config CONFIG] --input_structure_path INPUT_STRUCTURE_PATH --input_top_path INPUT_TOP_PATH [--input_index_path INPUT_INDEX_PATH] --output_str_path OUTPUT_STR_PATH\n",
                "\n",
                "Converts between GROMACS compatible structure file formats and/or extracts a selection of atoms.\n",
                "\n",
                "optional arguments:\n",
                "  -h, --help            show this help message and exit\n",
                "  --config CONFIG       Configuration file\n",
                "  --input_index_path INPUT_INDEX_PATH\n",
                "                        Path to the GROMACS index file. Accepted formats: ndx.\n",
                "\n",
                "required arguments:\n",
                "  --input_structure_path INPUT_STRUCTURE_PATH\n",
                "                        Path to the input structure file. Accepted formats: xtc, trr, cpt, gro, g96, pdb, tng.\n",
                "  --input_top_path INPUT_TOP_PATH\n",
                "                        Path to the GROMACS input topology file. Accepted formats: tpr, gro, g96, pdb, brk, ent.\n",
                "  --output_str_path OUTPUT_STR_PATH\n",
                "                        Path to the output file. Accepted formats: xtc, trr, gro, g96, pdb, tng."
            ]
        },
        {
            "cell_type": "markdown",
            "metadata": {},
            "source": [
                "### I / O Arguments"
            ]
        },
        {
            "cell_type": "markdown",
            "metadata": {},
            "source": [
                "Syntax: input_argument (datatype) : Definition\n",
                "\n",
                "Config input / output arguments for this building block:\n",
                "\n",
                "* **input_structure_path** (*str*): Path to the input structure file. File type: input. [Sample file](https://github.com/bioexcel/biobb_analysis/raw/master/biobb_analysis/test/data/gromacs/trajectory.trr). Accepted formats: xtc, trr, cpt, gro, g96, pdb, tng.\n",
                "* **input_top_path** (*str*): Path to the GROMACS input topology file. File type: input. [Sample file](https://github.com/bioexcel/biobb_analysis/raw/master/biobb_analysis/test/data/gromacs/topology.tpr). Accepted formats: tpr, gro, g96, pdb, brk, ent.\n",
                "* **input_index_path** (*str*) (Optional): Path to the GROMACS index file. File type: input. [Sample file](https://github.com/bioexcel/biobb_analysis/raw/master/biobb_analysis/test/data/gromacs/index.ndx). Accepted formats: ndx.\n",
                "* **output_str_path** (*str*): Path to the output file. File type: output. [Sample file](https://github.com/bioexcel/biobb_analysis/raw/master/biobb_analysis/test/reference/gromacs/ref_trjconv.str.pdb). Accepted formats: xtc, trr, gro, g96, pdb, tng."
            ]
        },
        {
            "cell_type": "markdown",
            "metadata": {},
            "source": [
                "### Config"
            ]
        },
        {
            "cell_type": "markdown",
            "metadata": {},
            "source": [
                "Syntax: input_parameter (datatype) - (default_value) Definition\n",
                "\n",
                "Config parameters for this building block:\n",
                "\n",
                "* **selection** (*str*) - (\"System\") Group where the trjconv will be performed. If **input_index_path** provided, check the file for the accepted values, if not, values: System, Protein, Protein-H, C-alpha, Backbone, MainChain, MainChain+Cb, MainChain+H, SideChain, SideChain-H, Prot-Masses, non-Protein, Water, SOL, non-Water, Ion, NA, CL, Water_and_ions.\n",
                "* **gmx_path** (*str*) - (\"gmx\") Path to the GROMACS executable binary.\n",
                "* **remove_tmp** (*bool*) - (True) [WF property] Remove temporal files.\n",
                "* **restart** (*bool*) - (False) [WF property] Do not execute if output files exist.\n",
                "* **sandbox_path** (*str*) - (\"./\") [WF property] Parent path to the sandbox directory.\n",
                "* **container_path** (*string*) - (None) Container path definition.\n",
                "* **container_image** (*string*) - ('gromacs/gromacs:latest') Container image definition.\n",
                "* **container_volume_path** (*string*) - ('/tmp') Container volume path definition.\n",
                "* **container_working_dir** (*string*) - (None) Container working directory definition.\n",
                "* **container_user_id** (*string*) - (None) Container user_id definition.\n",
                "* **container_shell_path** (*string*) - ('/bin/bash') Path to default shell inside the container."
            ]
        },
        {
            "cell_type": "markdown",
            "metadata": {},
            "source": [
                "### YAML"
            ]
        },
        {
            "cell_type": "markdown",
            "metadata": {},
            "source": [
                "#### Common file config"
            ]
        },
        {
            "cell_type": "code",
            "execution_count": null,
            "metadata": {},
            "outputs": [],
            "source": [
                "properties:\n",
                "  selection: System"
            ]
        },
        {
            "cell_type": "markdown",
            "metadata": {},
            "source": [
                "#### Docker file config"
            ]
        },
        {
            "cell_type": "code",
            "execution_count": null,
            "metadata": {},
            "outputs": [],
            "source": [
                "properties:\n",
                "  selection: System\n",
                "  container_path: docker\n",
                "  container_image: gromacs/gromacs:latest\n",
                "  container_volume_path: /tmp"
            ]
        },
        {
            "cell_type": "markdown",
            "metadata": {},
            "source": [
                "#### Singularity file config"
            ]
        },
        {
            "cell_type": "code",
            "execution_count": null,
            "metadata": {},
            "outputs": [],
            "source": [
                "properties:\n",
                "  selection: System\n",
                "  container_path: singularity\n",
                "  container_image: shub://michael-tn/gromacs\n",
                "  container_volume_path: /tmp"
            ]
        },
        {
            "cell_type": "markdown",
            "metadata": {},
            "source": [
                "#### Command line"
            ]
        },
        {
            "cell_type": "code",
            "execution_count": null,
            "metadata": {},
            "outputs": [],
            "source": [
                "gmx_trjconv_str --config data/conf/gmx_trjconv_str.yml --input_structure_path data/input/trjconv.str.gro --input_top_path data/input/trjconv.str.gro --output_str_path data/output/output.trjconv.str.pdb"
            ]
        },
        {
            "cell_type": "markdown",
            "metadata": {},
            "source": [
                "### JSON"
            ]
        },
        {
            "cell_type": "markdown",
            "metadata": {},
            "source": [
                "#### Common file config"
            ]
        },
        {
            "cell_type": "code",
            "execution_count": null,
            "metadata": {},
            "outputs": [],
            "source": [
                "{\n",
                "  \"properties\": {\n",
                "    \"selection\": \"System\"\n",
                "  }\n",
                "}"
            ]
        },
        {
            "cell_type": "markdown",
            "metadata": {},
            "source": [
                "#### Docker file config"
            ]
        },
        {
            "cell_type": "code",
            "execution_count": null,
            "metadata": {},
            "outputs": [],
            "source": [
                "{\n",
                "  \"properties\": {\n",
                "    \"selection\": \"System\",\n",
                "    \"container_path\": \"docker\",\n",
                "    \"container_image\": \"gromacs/gromacs:latest\",\n",
                "    \"container_volume_path\": \"/tmp\"\n",
                "  }\n",
                "}"
            ]
        },
        {
            "cell_type": "markdown",
            "metadata": {},
            "source": [
                "#### Singularity file config"
            ]
        },
        {
            "cell_type": "code",
            "execution_count": null,
            "metadata": {},
            "outputs": [],
            "source": [
                "{\n",
                "  \"properties\": {\n",
                "    \"selection\": \"System\",\n",
                "    \"container_path\": \"singularity\",\n",
                "    \"container_image\": \"shub://michael-tn/gromacs\",\n",
                "    \"container_volume_path\": \"/tmp\"\n",
                "  }\n",
                "}"
            ]
        },
        {
            "cell_type": "markdown",
            "metadata": {},
            "source": [
                "#### Command line"
            ]
        },
        {
            "cell_type": "code",
            "execution_count": null,
            "metadata": {},
            "outputs": [],
            "source": [
                "gmx_trjconv_str --config data/conf/gmx_trjconv_str.json --input_structure_path data/input/trjconv.str.gro --input_top_path data/input/trjconv.str.gro --output_str_path data/output/output.trjconv.str.pdb"
            ]
        },
        {
            "cell_type": "markdown",
            "metadata": {},
            "source": [
                "## GROMACS trjconv structure ensemble"
            ]
        },
        {
            "cell_type": "markdown",
            "metadata": {},
            "source": [
                "Extracts an ensemble of frames containing a selection of atoms from GROMACS compatible trajectory files."
            ]
        },
        {
            "cell_type": "markdown",
            "metadata": {},
            "source": [
                "### Get help"
            ]
        },
        {
            "cell_type": "markdown",
            "metadata": {},
            "source": [
                "Command:"
            ]
        },
        {
            "cell_type": "code",
            "execution_count": null,
            "metadata": {},
            "outputs": [],
            "source": [
                "gmx_trjconv_str_ens -h"
            ]
        },
        {
            "cell_type": "code",
            "execution_count": null,
            "metadata": {},
            "outputs": [],
            "source": [
                "usage: gmx_trjconv_str_ens [-h] [--config CONFIG] --input_traj_path INPUT_TRAJ_PATH --input_top_path INPUT_TOP_PATH [--input_index_path INPUT_INDEX_PATH] --output_str_ens_path OUTPUT_STR_ENS_PATH\n",
                "\n",
                "Extracts an ensemble of frames containing a selection of atoms from GROMACS compatible trajectory files.\n",
                "\n",
                "optional arguments:\n",
                "  -h, --help            show this help message and exit\n",
                "  --config CONFIG       Configuration file\n",
                "  --input_index_path INPUT_INDEX_PATH\n",
                "                        Path to the GROMACS index file. Accepted formats: ndx.\n",
                "\n",
                "required arguments:\n",
                "  --input_traj_path INPUT_TRAJ_PATH\n",
                "                        Path to the GROMACS trajectory file. Accepted formats: xtc, trr, cpt, gro, g96, pdb, tng.\n",
                "  --input_top_path INPUT_TOP_PATH\n",
                "                        Path to the GROMACS input topology file. Accepted formats: tpr, gro, g96, pdb, brk, ent.\n",
                "  --output_str_ens_path OUTPUT_STR_ENS_PATH\n",
                "                        Path to the output file. Accepted formats: zip.\n"
            ]
        },
        {
            "cell_type": "markdown",
            "metadata": {},
            "source": [
                "### I / O Arguments"
            ]
        },
        {
            "cell_type": "markdown",
            "metadata": {},
            "source": [
                "Syntax: input_argument (datatype) : Definition\n",
                "\n",
                "Config input / output arguments for this building block:\n",
                "\n",
                "* **input_traj_path** (*str*): Path to the GROMACS trajectory file. File type: input. [Sample file](https://github.com/bioexcel/biobb_analysis/raw/master/biobb_analysis/test/data/gromacs/trajectory.trr). Accepted formats: xtc, trr, cpt, gro, g96, pdb, tng.\n",
                "* **input_top_path** (*str*): Path to the GROMACS input topology file. File type: input. [Sample file](https://github.com/bioexcel/biobb_analysis/raw/master/biobb_analysis/test/data/gromacs/topology.tpr). Accepted formats: tpr, gro, g96, pdb, brk, ent.\n",
                "* **input_index_path** (*str*) (Optional): Path to the GROMACS index file. File type: input. [Sample file](https://github.com/bioexcel/biobb_analysis/raw/master/biobb_analysis/test/data/gromacs/index.ndx). Accepted formats: ndx.\n",
                "* **output_str_ens_path** (*str*): Path to the output file. File type: output. [Sample file](https://github.com/bioexcel/biobb_analysis/raw/master/biobb_analysis/test/reference/gromacs/ref_trjconv.str.ens.zip). Accepted formats: zip."
            ]
        },
        {
            "cell_type": "markdown",
            "metadata": {},
            "source": [
                "### Config"
            ]
        },
        {
            "cell_type": "markdown",
            "metadata": {},
            "source": [
                "Syntax: input_parameter (datatype) - (default_value) Definition\n",
                "\n",
                "Config parameters for this building block:\n",
                "\n",
                "* **selection** (*str*) - (\"System\") Group where the trjconv will be performed. If **input_index_path** provided, check the file for the accepted values, if not, values: System, Protein, Protein-H, C-alpha, Backbone, MainChain, MainChain+Cb, MainChain+H, SideChain, SideChain-H, Prot-Masses, non-Protein, Water, SOL, non-Water, Ion, NA, CL, Water_and_ions.\n",
                "* **start** (*int*) - (0) Time of first frame to read from trajectory (default unit ps).\n",
                "* **end** (*int*) - (0) Time of last frame to read from trajectory (default unit ps).\n",
                "* **dt** (*int*) - (0) Only write frame when t MOD dt = first time (ps).\n",
                "* **output_name** (*str*) - (\"output\") File name for ensemble of output files.\n",
                "* **output_type** (*str*) - (\"pdb\") File type for ensemble of output files. Values: gro, g96, pdb.\n",
                "* **gmx_path** (*str*) - (\"gmx\") Path to the GROMACS executable binary.\n",
                "* **remove_tmp** (*bool*) - (True) [WF property] Remove temporal files.\n",
                "* **restart** (*bool*) - (False) [WF property] Do not execute if output files exist.\n",
                "* **sandbox_path** (*str*) - (\"./\") [WF property] Parent path to the sandbox directory.\n",
                "* **container_path** (*string*) - (None) Container path definition.\n",
                "* **container_image** (*string*) - ('gromacs/gromacs:latest') Container image definition.\n",
                "* **container_volume_path** (*string*) - ('/tmp') Container volume path definition.\n",
                "* **container_working_dir** (*string*) - (None) Container working directory definition.\n",
                "* **container_user_id** (*string*) - (None) Container user_id definition.\n",
                "* **container_shell_path** (*string*) - ('/bin/bash') Path to default shell inside the container."
            ]
        },
        {
            "cell_type": "markdown",
            "metadata": {},
            "source": [
                "### YAML"
            ]
        },
        {
            "cell_type": "markdown",
            "metadata": {},
            "source": [
                "#### Common file config"
            ]
        },
        {
            "cell_type": "code",
            "execution_count": null,
            "metadata": {},
            "outputs": [],
            "source": [
                "properties:\n",
                "  selection: System\n",
                "  start: 0\n",
                "  end: 10\n",
                "  dt: 1\n",
                "  output_name: output\n",
                "  output_type: pdb"
            ]
        },
        {
            "cell_type": "markdown",
            "metadata": {},
            "source": [
                "#### Docker file config"
            ]
        },
        {
            "cell_type": "code",
            "execution_count": null,
            "metadata": {},
            "outputs": [],
            "source": [
                "properties:\n",
                "  selection: System\n",
                "  start: 0\n",
                "  end: 10\n",
                "  dt: 1\n",
                "  output_name: output\n",
                "  output_type: pdb\n",
                "  container_path: docker\n",
                "  container_image: gromacs/gromacs:latest\n",
                "  container_volume_path: /tmp"
            ]
        },
        {
            "cell_type": "markdown",
            "metadata": {},
            "source": [
                "#### Singularity file config"
            ]
        },
        {
            "cell_type": "code",
            "execution_count": null,
            "metadata": {},
            "outputs": [],
            "source": [
                "properties:\n",
                "  selection: System\n",
                "  start: 0\n",
                "  end: 10\n",
                "  dt: 1\n",
                "  output_name: output\n",
                "  output_type: pdb\n",
                "  container_path: singularity\n",
                "  container_image: shub://michael-tn/gromacs\n",
                "  container_volume_path: /tmp"
            ]
        },
        {
            "cell_type": "markdown",
            "metadata": {},
            "source": [
                "#### Command line"
            ]
        },
        {
            "cell_type": "code",
            "execution_count": null,
            "metadata": {},
            "outputs": [],
            "source": [
                "gmx_trjconv_str_ens --config data/conf/gmx_trjconv_str_ens.yml --input_traj_path data/input/trjconv.str.ens.trr --input_top_path data/input/trjconv.str.ens.gro --output_str_ens_path data/output/output.trjconv.str.ens.zip"
            ]
        },
        {
            "cell_type": "markdown",
            "metadata": {},
            "source": [
                "### JSON"
            ]
        },
        {
            "cell_type": "markdown",
            "metadata": {},
            "source": [
                "#### Common file config"
            ]
        },
        {
            "cell_type": "code",
            "execution_count": null,
            "metadata": {},
            "outputs": [],
            "source": [
                "{\n",
                "  \"properties\": {\n",
                "    \"selection\": \"System\",\n",
                "    \"start\": 0,\n",
                "    \"end\": 10,\n",
                "    \"dt\": 1,\n",
                "    \"output_name\": \"output\",\n",
                "    \"output_type\": \"pdb\"\n",
                "  }\n",
                "}"
            ]
        },
        {
            "cell_type": "markdown",
            "metadata": {},
            "source": [
                "#### Docker file config"
            ]
        },
        {
            "cell_type": "code",
            "execution_count": null,
            "metadata": {},
            "outputs": [],
            "source": [
                "{\n",
                "  \"properties\": {\n",
                "    \"selection\": \"System\",\n",
                "    \"start\": 0,\n",
                "    \"end\": 10,\n",
                "    \"dt\": 1,\n",
                "    \"output_name\": \"output\",\n",
                "    \"output_type\": \"pdb\",\n",
                "    \"container_path\": \"docker\",\n",
                "    \"container_image\": \"gromacs/gromacs:latest\",\n",
                "    \"container_volume_path\": \"/tmp\"\n",
                "  }\n",
                "}"
            ]
        },
        {
            "cell_type": "markdown",
            "metadata": {},
            "source": [
                "#### Singularity file config"
            ]
        },
        {
            "cell_type": "code",
            "execution_count": null,
            "metadata": {},
            "outputs": [],
            "source": [
                "{\n",
                "  \"properties\": {\n",
                "    \"selection\": \"System\",\n",
                "    \"start\": 0,\n",
                "    \"end\": 10,\n",
                "    \"dt\": 1,\n",
                "    \"output_name\": \"output\",\n",
                "    \"output_type\": \"pdb\",\n",
                "    \"container_path\": \"singularity\",\n",
                "    \"container_image\": \"shub://michael-tn/gromacs\",\n",
                "    \"container_volume_path\": \"/tmp\"\n",
                "  }\n",
                "}"
            ]
        },
        {
            "cell_type": "markdown",
            "metadata": {},
            "source": [
                "#### Command line"
            ]
        },
        {
            "cell_type": "code",
            "execution_count": null,
            "metadata": {},
            "outputs": [],
            "source": [
                "gmx_trjconv_str_ens --config data/conf/gmx_trjconv_str_ens.json --input_traj_path data/input/trjconv.str.ens.trr --input_top_path data/input/trjconv.str.ens.gro --output_str_ens_path data/output/output.trjconv.str.ens.zip"
            ]
        },
        {
            "cell_type": "markdown",
            "metadata": {},
            "source": [
                "## GROMACS trjconv trajectory"
            ]
        },
        {
            "cell_type": "markdown",
            "metadata": {},
            "source": [
                "Converts between GROMACS compatible trajectory file formats and/or extracts a selection of atoms."
            ]
        },
        {
            "cell_type": "markdown",
            "metadata": {},
            "source": [
                "### Get help"
            ]
        },
        {
            "cell_type": "markdown",
            "metadata": {},
            "source": [
                "Command:"
            ]
        },
        {
            "cell_type": "code",
            "execution_count": null,
            "metadata": {},
            "outputs": [],
            "source": [
                "gmx_trjconv_trj -h"
            ]
        },
        {
            "cell_type": "code",
            "execution_count": null,
            "metadata": {},
            "outputs": [],
            "source": [
                "usage: gmx_trjconv_trj [-h] [--config CONFIG] --input_traj_path INPUT_TRAJ_PATH [--input_index_path INPUT_INDEX_PATH] --output_traj_path OUTPUT_TRAJ_PATH\n",
                "\n",
                "Converts between GROMACS compatible trajectory file formats and/or extracts a selection of atoms.\n",
                "\n",
                "optional arguments:\n",
                "  -h, --help            show this help message and exit\n",
                "  --config CONFIG       Configuration file\n",
                "  --input_index_path INPUT_INDEX_PATH\n",
                "                        Path to the GROMACS index file. Accepted formats: ndx.\n",
                "\n",
                "required arguments:\n",
                "  --input_traj_path INPUT_TRAJ_PATH\n",
                "                        Path to the GROMACS trajectory file. Accepted formats: xtc, trr, cpt, gro, g96, pdb, tng.\n",
                "  --output_traj_path OUTPUT_TRAJ_PATH\n",
                "                        Path to the output file. Accepted formats: xtc, trr, gro, g96, pdb, tng."
            ]
        },
        {
            "cell_type": "markdown",
            "metadata": {},
            "source": [
                "### I / O Arguments"
            ]
        },
        {
            "cell_type": "markdown",
            "metadata": {},
            "source": [
                "Syntax: input_argument (datatype) : Definition\n",
                "\n",
                "Config input / output arguments for this building block:\n",
                "\n",
                "* **input_traj_path** (*str*): Path to the GROMACS trajectory file. File type: input. [Sample file](https://github.com/bioexcel/biobb_analysis/raw/master/biobb_analysis/test/data/gromacs/trajectory.trr). Accepted formats: xtc, trr, cpt, gro, g96, pdb, tng.\n",
                "* **input_index_path** (*str*) (Optional): Path to the GROMACS index file. File type: input. [Sample file](https://github.com/bioexcel/biobb_analysis/raw/master/biobb_analysis/test/data/gromacs/index.ndx). Accepted formats: ndx.\n",
                "* **output_traj_path** (*str*): Path to the output file. File type: output. [Sample file](https://github.com/bioexcel/biobb_analysis/raw/master/biobb_analysis/test/reference/gromacs/ref_trjconv.trj.xtc). Accepted formats: xtc, trr, gro, g96, pdb, tng."
            ]
        },
        {
            "cell_type": "markdown",
            "metadata": {},
            "source": [
                "### Config"
            ]
        },
        {
            "cell_type": "markdown",
            "metadata": {},
            "source": [
                "Syntax: input_parameter (datatype) - (default_value) Definition\n",
                "\n",
                "Config parameters for this building block:\n",
                "\n",
                "* **selection** (*str*) - (\"System\") Group where the trjconv will be performed. If **input_index_path** provided, check the file for the accepted values, if not, values: System, Protein, Protein-H, C-alpha, Backbone, MainChain, MainChain+Cb, MainChain+H, SideChain, SideChain-H, Prot-Masses, non-Protein, Water, SOL, non-Water, Ion, NA, CL, Water_and_ions.\n",
                "* **start** (*int*) - (0) Time of first frame to read from trajectory (default unit ps).\n",
                "* **end** (*int*) - (0) Time of last frame to read from trajectory (default unit ps).\n",
                "* **dt** (*int*) - (0) Only write frame when t MOD dt = first time (ps).\n",
                "* **gmx_path** (*str*) - (\"gmx\") Path to the GROMACS executable binary.\n",
                "* **remove_tmp** (*bool*) - (True) [WF property] Remove temporal files.\n",
                "* **restart** (*bool*) - (False) [WF property] Do not execute if output files exist.\n",
                "* **sandbox_path** (*str*) - (\"./\") [WF property] Parent path to the sandbox directory.\n",
                "* **container_path** (*string*) - (None) Container path definition.\n",
                "* **container_image** (*string*) - ('gromacs/gromacs:latest') Container image definition.\n",
                "* **container_volume_path** (*string*) - ('/tmp') Container volume path definition.\n",
                "* **container_working_dir** (*string*) - (None) Container working directory definition.\n",
                "* **container_user_id** (*string*) - (None) Container user_id definition.\n",
                "* **container_shell_path** (*string*) - ('/bin/bash') Path to default shell inside the container."
            ]
        },
        {
            "cell_type": "markdown",
            "metadata": {},
            "source": [
                "### YAML"
            ]
        },
        {
            "cell_type": "markdown",
            "metadata": {},
            "source": [
                "#### Common file config"
            ]
        },
        {
            "cell_type": "code",
            "execution_count": null,
            "metadata": {},
            "outputs": [],
            "source": [
                "properties:\n",
                "  selection: System\n",
                "  start: 0\n",
                "  end: 0\n",
                "  dt: 0"
            ]
        },
        {
            "cell_type": "markdown",
            "metadata": {},
            "source": [
                "#### Docker file config"
            ]
        },
        {
            "cell_type": "code",
            "execution_count": null,
            "metadata": {},
            "outputs": [],
            "source": [
                "properties:\n",
                "  selection: System\n",
                "  start: 0\n",
                "  end: 0\n",
                "  dt: 0\n",
                "  container_path: docker\n",
                "  container_image: gromacs/gromacs:latest\n",
                "  container_volume_path: /tmp"
            ]
        },
        {
            "cell_type": "markdown",
            "metadata": {},
            "source": [
                "#### Singularity file config"
            ]
        },
        {
            "cell_type": "code",
            "execution_count": null,
            "metadata": {},
            "outputs": [],
            "source": [
                "properties:\n",
                "  selection: System\n",
                "  start: 0\n",
                "  end: 0\n",
                "  dt: 0\n",
                "  container_path: singularity\n",
                "  container_image: shub://michael-tn/gromacs\n",
                "  container_volume_path: /tmp"
            ]
        },
        {
            "cell_type": "markdown",
            "metadata": {},
            "source": [
                "#### Command line"
            ]
        },
        {
            "cell_type": "code",
            "execution_count": null,
            "metadata": {},
            "outputs": [],
            "source": [
                "gmx_trjconv_trj --config data/conf/gmx_trjconv_trj.yml --input_traj_path data/input/trjconv.trj.trr --output_traj_path data/output/output.trjconv.trj.xtc"
            ]
        },
        {
            "cell_type": "markdown",
            "metadata": {},
            "source": [
                "### JSON"
            ]
        },
        {
            "cell_type": "markdown",
            "metadata": {},
            "source": [
                "#### Common file config"
            ]
        },
        {
            "cell_type": "code",
            "execution_count": null,
            "metadata": {},
            "outputs": [],
            "source": [
                "{\n",
                "  \"properties\": {\n",
                "    \"selection\": \"System\",\n",
                "    \"start\": 0,\n",
                "    \"end\": 0,\n",
                "    \"dt\": 0\n",
                "  }\n",
                "}"
            ]
        },
        {
            "cell_type": "markdown",
            "metadata": {},
            "source": [
                "#### Docker file config"
            ]
        },
        {
            "cell_type": "code",
            "execution_count": null,
            "metadata": {},
            "outputs": [],
            "source": [
                "{\n",
                "  \"properties\": {\n",
                "    \"selection\": \"System\",\n",
                "    \"start\": 0,\n",
                "    \"end\": 0,\n",
                "    \"dt\": 0,\n",
                "    \"container_path\": \"docker\",\n",
                "    \"container_image\": \"gromacs/gromacs:latest\",\n",
                "    \"container_volume_path\": \"/tmp\"\n",
                "  }\n",
                "}"
            ]
        },
        {
            "cell_type": "markdown",
            "metadata": {},
            "source": [
                "#### Singularity file config"
            ]
        },
        {
            "cell_type": "code",
            "execution_count": null,
            "metadata": {},
            "outputs": [],
            "source": [
                "{\n",
                "  \"properties\": {\n",
                "    \"selection\": \"System\",\n",
                "    \"start\": 0,\n",
                "    \"end\": 0,\n",
                "    \"dt\": 0,\n",
                "    \"container_path\": \"singularity\",\n",
                "    \"container_image\": \"shub://michael-tn/gromacs\",\n",
                "    \"container_volume_path\": \"/tmp\"\n",
                "  }\n",
                "}"
            ]
        },
        {
            "cell_type": "markdown",
            "metadata": {},
            "source": [
                "#### Command line"
            ]
        },
        {
            "cell_type": "code",
            "execution_count": null,
            "metadata": {},
            "outputs": [],
            "source": [
                "gmx_trjconv_trj --config data/conf/gmx_trjconv_trj.json --input_traj_path data/input/trjconv.trj.trr --output_traj_path data/output/output.trjconv.trj.xtc"
            ]
        }
    ],
    "metadata": {
        "kernelspec": {
            "display_name": "Python 3",
            "language": "python",
            "name": "python3"
        },
        "language_info": {
            "codemirror_mode": {
                "name": "ipython",
                "version": 3
            },
            "file_extension": ".py",
            "mimetype": "text/x-python",
            "name": "python",
            "nbconvert_exporter": "python",
            "pygments_lexer": "ipython3",
            "version": "3.7.6"
        }
    },
    "nbformat": 4,
    "nbformat_minor": 2
}